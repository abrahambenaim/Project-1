{
 "cells": [
  {
   "cell_type": "code",
   "execution_count": null,
   "metadata": {},
   "outputs": [],
   "source": [
    "# Import dependencies\n",
    "\n",
    "import requests\n",
    "import os\n",
    "import pprint\n",
    "from datetime import datetime,timedelta\n",
    "import json\n",
    "import pandas as pd\n",
    "from dateutil.parser import parse"
   ]
  },
  {
   "cell_type": "code",
   "execution_count": null,
   "metadata": {
    "scrolled": true
   },
   "outputs": [],
   "source": [
    "# Set params for query\n",
    "\n",
    "pax = input(' # of adults will be traveling?')\n",
    "children = input(' # Children traveling with you?')\n",
    "p0 = input(' Starting place') \n",
    "startdate = input('Trip start date (mm/dd/yyyy)')\n",
    "destinations = input('List 3 cities do you want to travel to? And how many days per city? ex(London,4,Madrid,3)')\n",
    "destinations1 = list(destinations.split(','))\n",
    "destinations1\n",
    "\n"
   ]
  },
  {
   "cell_type": "code",
   "execution_count": null,
   "metadata": {},
   "outputs": [],
   "source": [
    "p1 = str(destinations1[0])\n",
    "days_p1 = int(destinations1[1])\n",
    "p2 = str(destinations1[2])\n",
    "days_p2 = int(destinations1[3])\n",
    "p3 = str(destinations1[4])\n",
    "days_p3 = int(destinations1[5])\n",
    "\n",
    "start_date = parse(startdate)\n",
    "start_p1 = start_date + timedelta(days=days_p1)\n",
    "start_p2 = start_p1 + timedelta(days=days_p2)\n",
    "start_p3 = start_p2 + timedelta(days=days_p3)"
   ]
  },
  {
   "cell_type": "code",
   "execution_count": null,
   "metadata": {
    "scrolled": false
   },
   "outputs": [],
   "source": [
    "# Connect to Hipmunk API via Rapidapi\n",
    "url = \"https://apidojo-hipmunk-v1.p.rapidapi.com/flights/create-session\"\n",
    "\n",
    "querystring = {\"from1\":p1,\"from2\":p2,\"from3\":p3,\"to1\":p2,\"to2\":p3,\"to3\":p0,\"date1\":start_p1,\"date2\":start_p2,\"date3\":start_p3,\"infants_lap\":\"0\",\"children\":children,\"seniors\":\"0\",\"country\":\"US\",\"from0\":p0,\"to0\":p1,\"date0\":startdate,\"pax\":pax,\"cabin\":\"Coach\"}\n",
    "headers = {\n",
    "    'x-rapidapi-host': \"apidojo-hipmunk-v1.p.rapidapi.com\",\n",
    "    'x-rapidapi-key': \"f52da07954msh79f61d44ab028c2p138041jsne9cd9d426802\"\n",
    "    }\n",
    "\n",
    "response = requests.request(\"GET\", url, headers=headers, params=querystring).json()\n",
    "\n"
   ]
  },
  {
   "cell_type": "code",
   "execution_count": null,
   "metadata": {},
   "outputs": [],
   "source": [
    "# Loop in json and get values for: itinerary, price and agony score\n",
    "idnums=[]\n",
    "agonies=[]\n",
    "prices=[]\n",
    "\n",
    "for key,value in response['itins'].items():\n",
    "    idnum=key\n",
    "    agony=value['agony']\n",
    "    price=value['price']\n",
    "    idnums.append(idnum)\n",
    "    agonies.append(agony)\n",
    "    prices.append(price)\n",
    "df=pd.DataFrame()\n",
    "df['price']=prices\n",
    "df['agonies']=agonies\n",
    "df['id']=idnums    "
   ]
  },
  {
   "cell_type": "code",
   "execution_count": null,
   "metadata": {},
   "outputs": [],
   "source": [
    "df = df.sort_values(['price'], ascending=[True])\n",
    "df = df[:10]\n",
    "dfnew = pd.DataFrame(df)\n",
    "dfnew"
   ]
  },
  {
   "cell_type": "code",
   "execution_count": null,
   "metadata": {},
   "outputs": [],
   "source": []
  },
  {
   "cell_type": "code",
   "execution_count": null,
   "metadata": {},
   "outputs": [],
   "source": []
  }
 ],
 "metadata": {
  "kernelspec": {
   "display_name": "Python 3",
   "language": "python",
   "name": "python3"
  },
  "language_info": {
   "codemirror_mode": {
    "name": "ipython",
    "version": 3
   },
   "file_extension": ".py",
   "mimetype": "text/x-python",
   "name": "python",
   "nbconvert_exporter": "python",
   "pygments_lexer": "ipython3",
   "version": "3.7.4"
  }
 },
 "nbformat": 4,
 "nbformat_minor": 2
}
