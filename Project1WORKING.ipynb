{
 "cells": [
  {
   "cell_type": "markdown",
   "metadata": {},
   "source": [
    "# The Traveling Salesperson's Travel Agent"
   ]
  },
  {
   "cell_type": "code",
   "execution_count": 1,
   "metadata": {},
   "outputs": [],
   "source": [
    "# Import dependencies\n",
    "import requests\n",
    "import os\n",
    "import pprint\n",
    "from datetime import datetime,timedelta\n",
    "import json\n",
    "import pandas as pd\n",
    "from dateutil.parser import parse\n",
    "import itertools\n",
    "from itertools import permutations\n",
    "import tqdm \n",
    "from tqdm import tqdm\n",
    "import csv\n"
   ]
  },
  {
   "cell_type": "code",
   "execution_count": 2,
   "metadata": {
    "scrolled": true
   },
   "outputs": [
    {
     "name": "stdout",
     "output_type": "stream",
     "text": [
      " # of adults will be traveling?1\n",
      " # Children traveling with you?0\n",
<<<<<<< HEAD
      " Starting placemiami\n",
      "Trip start date (mm/dd/yyyy)12/01/2019\n",
      "List the cities do you want to travel to? And how many days per city? ex(London,4,Madrid,3,Paris,6)madrid,4,london,3,paris,5\n"
=======
      " Starting placeMiami\n",
      "Trip start date (mm/dd/yyyy)12/01/2019\n",
      "List the cities do you want to travel to? And how many days per city? ex(London,4,Madrid,3)NYC,5,Paris,4,London,3\n"
>>>>>>> e2978465e2713fb5f37068aa51051b9580f68670
     ]
    }
   ],
   "source": [
    "# Set required parameters for query\n",
    "pax = input(' # of adults will be traveling?')\n",
    "children = input(' # Children traveling with you?')\n",
    "p0 = input(' Starting place') \n",
    "startdate = input('Trip start date (mm/dd/yyyy)')\n",
    "destinations = input('List the cities do you want to travel to? And how many days per city? ex(London,4,Madrid,3,Paris,6)')\n",
    "#destinations.replace(\" \", \"\")\n",
    "destinations1 = list(destinations.split(','))\n",
    "\n",
    "\n"
   ]
  },
  {
   "cell_type": "markdown",
   "metadata": {},
   "source": [
    "## Extract and Transform Data"
   ]
  },
  {
   "cell_type": "code",
<<<<<<< HEAD
   "execution_count": 3,
=======
   "execution_count": 4,
>>>>>>> e2978465e2713fb5f37068aa51051b9580f68670
   "metadata": {},
   "outputs": [],
   "source": [
    "# Create variables to iterate through the various possible routes\n",
    "p1=(str(destinations1[0]),int(destinations1[1]))\n",
    "p2 = (str(destinations1[2]), int(destinations1[3]))\n",
    "p3 = (str(destinations1[4]), int(destinations1[5]))\n",
    "\n",
    "# Define the function that will change the order of the destinations\n",
    "def changeorder(res,p1,p2,p3,startdate,p0,children,pax):\n",
    "    \n",
    "\n",
    "    start_date = parse(startdate)\n",
    "    days_p1=p1[1]\n",
    "    days_p2=p2[1]\n",
    "    days_p3=p3[1]\n",
    "    start_p1 = start_date + timedelta(days=days_p1)\n",
    "    start_p2 = start_p1 + timedelta(days=days_p2)\n",
    "    start_p3 = start_p2 + timedelta(days=days_p3)\n",
    "    url = \"https://apidojo-hipmunk-v1.p.rapidapi.com/flights/create-session\"\n",
    "    \n",
    "# Define the query using user input as parameters\n",
    "    querystring = {\"from1\":p1[0],\"from2\":p2[0],\"from3\":p3[0],\"to1\":p2[0],\"to2\":p3[0],\"to3\":p0,\"date1\":start_p1,\"date2\":start_p2,\"date3\":start_p3,\"infants_lap\":\"0\",\"children\":children,\"seniors\":\"0\",\"country\":\"US\",\"from0\":p0,\"to0\":p1[0],\"date0\":startdate,\"pax\":pax,\"cabin\":\"Coach\"}\n",
    "    headers = {\n",
    "        'x-rapidapi-host': \"apidojo-hipmunk-v1.p.rapidapi.com\",\n",
    "        'x-rapidapi-key': \"c36e6ce6fcmsh7fe55ace5e9f40fp10fdc1jsn690a20bbc0ef\"\n",
    "        }\n",
    "# Get the response from hipmunk API\n",
    "    response = requests.request(\"GET\", url, headers=headers, params=querystring).json()\n",
    "\n",
    "# Create empty lists to hold the data from the JSON response\n",
    "    idnums=[]\n",
    "    agonies=[]\n",
    "    prices=[]\n",
    "    routingid=[]\n",
    "    \n",
    "# Iterate through the response to pull out data we need (including itinerary ID#, agony metric, price)\n",
    "# Append data to empty lists and create dataframe to hold output\n",
    "    for key,value in response['itins'].items():\n",
    "        idnum=key\n",
    "        agony=value['agony']\n",
    "        price=value['price']\n",
    "        routing_id=value['routing_idens']\n",
    "        idnums.append(idnum)\n",
    "        agonies.append(agony)\n",
    "        prices.append(price)\n",
    "        routingid.append(routing_id)\n",
    "    df=pd.DataFrame()\n",
    "    df['price']=prices\n",
    "    df['agonies']=agonies\n",
    "    df['id']=idnums\n",
    "    df['routing']=routingid\n",
    "    \n",
    "\n",
    "# Print DF with values\n",
    "    df = df.sort_values(['price','agonies'], ascending=[True,True])\n",
    "    df = df[:1]\n",
    "\n",
    "    res.append([(p1,p2,p3),df])\n",
    "\n",
    "\n",
    "\n",
    "    #p1,p2,p3 = p2,p3,p1\n",
    "    return res\n",
    "    \n",
    "    "
   ]
  },
  {
   "cell_type": "code",
<<<<<<< HEAD
   "execution_count": 4,
=======
   "execution_count": 5,
>>>>>>> e2978465e2713fb5f37068aa51051b9580f68670
   "metadata": {},
   "outputs": [
    {
     "data": {
      "text/plain": [
<<<<<<< HEAD
       "[(('madrid', 4), ('london', 3), ('paris', 5)),\n",
       " (('madrid', 4), ('paris', 5), ('london', 3)),\n",
       " (('london', 3), ('madrid', 4), ('paris', 5)),\n",
       " (('london', 3), ('paris', 5), ('madrid', 4)),\n",
       " (('paris', 5), ('madrid', 4), ('london', 3)),\n",
       " (('paris', 5), ('london', 3), ('madrid', 4))]"
      ]
     },
     "execution_count": 4,
=======
       "[(('NYC', 5), ('Paris', 4), ('London', 3)),\n",
       " (('NYC', 5), ('London', 3), ('Paris', 4)),\n",
       " (('Paris', 4), ('NYC', 5), ('London', 3)),\n",
       " (('Paris', 4), ('London', 3), ('NYC', 5)),\n",
       " (('London', 3), ('NYC', 5), ('Paris', 4)),\n",
       " (('London', 3), ('Paris', 4), ('NYC', 5))]"
      ]
     },
     "execution_count": 5,
>>>>>>> e2978465e2713fb5f37068aa51051b9580f68670
     "metadata": {},
     "output_type": "execute_result"
    }
   ],
   "source": [
    "# create an empty list to hold all the possible permutations of the routes\n",
    "alist = []\n",
    "listA = [p1, p2, p3]\n",
    "perm = itertools.permutations(listA) \n",
    "  \n",
    "for i in list(perm): \n",
    "    alist.append(i)\n",
    "alist\n",
    "    \n",
    "    \n",
    "    "
   ]
  },
  {
   "cell_type": "code",
<<<<<<< HEAD
   "execution_count": 5,
=======
   "execution_count": 6,
>>>>>>> e2978465e2713fb5f37068aa51051b9580f68670
   "metadata": {},
   "outputs": [
    {
     "name": "stderr",
     "output_type": "stream",
     "text": [
      "\r",
      "  0%|          | 0/6 [00:00<?, ?it/s]"
     ]
    },
    {
     "name": "stdout",
     "output_type": "stream",
     "text": [
      "Sorry, this may take a while...\n"
     ]
    },
    {
     "name": "stderr",
     "output_type": "stream",
     "text": [
<<<<<<< HEAD
      "100%|██████████| 6/6 [00:40<00:00,  6.76s/it]\n",
      "100%|██████████| 6/6 [01:54<00:00, 19.15s/it]"
=======
      "100%|██████████| 6/6 [00:55<00:00,  9.41s/it]\n",
      "100%|██████████| 6/6 [07:01<00:00, 75.04s/it]"
>>>>>>> e2978465e2713fb5f37068aa51051b9580f68670
     ]
    },
    {
     "name": "stdout",
     "output_type": "stream",
     "text": [
      "Search 100% completed\n"
     ]
    },
    {
     "name": "stderr",
     "output_type": "stream",
     "text": [
      "\n"
     ]
    },
    {
     "data": {
      "text/plain": [
<<<<<<< HEAD
       "[[(('madrid', 4), ('london', 3), ('paris', 5)),\n",
       "        price      agonies                                id  \\\n",
       "  4134  756.0  1892.829071  95b1d37a22c0ee37b03ffe6912fc4bee   \n",
       "  \n",
       "                                                  routing  \n",
       "  4134  [458dfcf2fb8507a7fc373035c2f493c1, b48af660829...  ],\n",
       " [(('madrid', 4), ('paris', 5), ('london', 3)),\n",
       "        price     agonies                                id  \\\n",
       "  3167  921.0  2266.81758  687b5badf9925da67bcf8848d6c99373   \n",
       "  \n",
       "                                                  routing  \n",
       "  3167  [458dfcf2fb8507a7fc373035c2f493c1, a0f4a890ef8...  ],\n",
       " [(('london', 3), ('madrid', 4), ('paris', 5)),\n",
       "        price      agonies                                id  \\\n",
       "  1885  836.0  2089.246992  31d0d781689ff8c075dda41187eb75e8   \n",
       "  \n",
       "                                                  routing  \n",
       "  1885  [cf93ba9848d39a0b0df94cae99934983, 8d08cc6c4be...  ],\n",
       " [(('london', 3), ('paris', 5), ('madrid', 4)),\n",
       "       price      agonies                                id  \\\n",
       "  340  948.0  2591.407324  4b4457350814fb577ff2e8e1420dcb30   \n",
       "  \n",
       "                                                 routing  \n",
       "  340  [cf93ba9848d39a0b0df94cae99934983, 57b72ae6e99...  ],\n",
       " [(('paris', 5), ('madrid', 4), ('london', 3)),\n",
       "        price      agonies                                id  \\\n",
       "  2598  952.0  2247.553815  74f5e47de4ead87b3018c60b7799db2c   \n",
       "  \n",
       "                                                  routing  \n",
       "  2598  [75f75c75221f6185973ac7818bead59c, e1410981ad5...  ],\n",
       " [(('paris', 5), ('london', 3), ('madrid', 4)),\n",
       "        price      agonies                                id  \\\n",
       "  5225  907.0  2452.744867  41e88f9b9283309febf909ef2dfd6056   \n",
       "  \n",
       "                                                  routing  \n",
       "  5225  [75f75c75221f6185973ac7818bead59c, a473f8b7d80...  ]]"
      ]
     },
     "execution_count": 5,
=======
       "[[(('NYC', 5), ('Paris', 4), ('London', 3)),\n",
       "       price      agonies                                id  \\\n",
       "  452  997.0  2243.094397  fdc95da7828fc8f462e4174e7b4f5487   \n",
       "  \n",
       "                                                 routing  \n",
       "  452  [0e8b89656634ba9959d65bd973b42258, 6cee599cee0...  ],\n",
       " [(('NYC', 5), ('London', 3), ('Paris', 4)),\n",
       "        price      agonies                                id  \\\n",
       "  1787  812.0  1907.228261  f70f6d5ffd137e920f9864f527d933f5   \n",
       "  \n",
       "                                                  routing  \n",
       "  1787  [0e8b89656634ba9959d65bd973b42258, 3c59fb50a25...  ],\n",
       " [(('Paris', 4), ('NYC', 5), ('London', 3)),\n",
       "        price     agonies                                id  \\\n",
       "  940  1300.0  2992.74177  6f767ac2c54f6be5d3b8abec813ad535   \n",
       "  \n",
       "                                                 routing  \n",
       "  940  [75f75c75221f6185973ac7818bead59c, e60da74541d...  ],\n",
       " [(('Paris', 4), ('London', 3), ('NYC', 5)),\n",
       "       price      agonies                                id  \\\n",
       "  358  832.0  1992.536324  3488922d3022faf3d430ba04378fd9c3   \n",
       "  \n",
       "                                                 routing  \n",
       "  358  [75f75c75221f6185973ac7818bead59c, 9bfcbd50d76...  ],\n",
       " [(('London', 3), ('NYC', 5), ('Paris', 4)),\n",
       "         price      agonies                                id  \\\n",
       "  1671  1269.0  2993.866793  09e7f75da59de063cd540650a6182a6a   \n",
       "  \n",
       "                                                  routing  \n",
       "  1671  [cf93ba9848d39a0b0df94cae99934983, e63dda69fa2...  ],\n",
       " [(('London', 3), ('Paris', 4), ('NYC', 5)),\n",
       "        price      agonies                                id  \\\n",
       "  1384  861.0  2115.237066  571c966c13483be7c7d2914c2ba8888d   \n",
       "  \n",
       "                                                  routing  \n",
       "  1384  [cf93ba9848d39a0b0df94cae99934983, b61722b769c...  ]]"
      ]
     },
     "execution_count": 6,
>>>>>>> e2978465e2713fb5f37068aa51051b9580f68670
     "metadata": {},
     "output_type": "execute_result"
    }
   ],
   "source": [
    "# change the order of the destinations and check possible flights, store the data for each permutation\n",
    "print('Sorry, this may take a while...')\n",
    "res=[]\n",
    "for i in tqdm(alist):\n",
    "    p1,p2,p3=i[0],i[1],i[2]\n",
    "    res=changeorder(res,p1,p2,p3,startdate,p0,children,pax)\n",
    "    \n",
    "res=[]\n",
    "for i in tqdm(alist):\n",
    "    p1,p2,p3=i[0],i[1],i[2]\n",
    "    res=changeorder(res,p1,p2,p3,startdate,p0,children,pax)    \n",
    "\n",
    "# print the various permutations with data from JSON response\n",
    "print('Search 100% completed')   \n",
    "res"
   ]
  },
  {
   "cell_type": "markdown",
   "metadata": {},
   "source": [
    "## Load Data "
   ]
  },
  {
   "cell_type": "code",
<<<<<<< HEAD
   "execution_count": 6,
=======
   "execution_count": 7,
>>>>>>> e2978465e2713fb5f37068aa51051b9580f68670
   "metadata": {},
   "outputs": [],
   "source": [
    "# Create DataFrames of Permutations\n",
    "df1=pd.DataFrame(res[0][1])\n",
    "df2=pd.DataFrame(res[1][1])\n",
    "df3=pd.DataFrame(res[2][1])\n",
    "df4=pd.DataFrame(res[3][1])\n",
    "df5=pd.DataFrame(res[4][1])\n",
    "df6=pd.DataFrame(res[5][1])\n"
   ]
  },
  {
   "cell_type": "code",
<<<<<<< HEAD
   "execution_count": 7,
=======
   "execution_count": 8,
>>>>>>> e2978465e2713fb5f37068aa51051b9580f68670
   "metadata": {
    "scrolled": false
   },
   "outputs": [],
   "source": [
    "#Join all results into a single DF:\n",
    "\n",
    "#Option 1\n",
    "first_choice = df1['routing'].astype(str)\n",
    "df1new = first_choice.str.split(\", \",expand=True)\n",
    "firstchoice_merged = df1.merge(df1new, how='outer', left_index=True, right_index=True)\n",
    "firstchoice_merged = firstchoice_merged.drop(columns=['routing'])\n",
    "\n",
    "#Option 2\n",
    "second_choice = df2['routing'].astype(str)\n",
    "df2new = second_choice.str.split(\", \",expand=True)\n",
    "secondchoice_merged = df2.merge(df2new, how='outer', left_index=True, right_index=True)\n",
    "secondchoice_merged = secondchoice_merged.drop(columns=['routing'])\n",
    "\n",
    "#Option 3\n",
    "third_choice = df3['routing'].astype(str)\n",
    "df3new = third_choice.str.split(\", \",expand=True)\n",
    "thirdchoice_merged = df3.merge(df3new, how='outer', left_index=True, right_index=True)\n",
    "thirdchoice_merged = thirdchoice_merged.drop(columns=['routing'])\n",
    "\n",
    "#Option 4\n",
    "fourth_choice = df4['routing'].astype(str)\n",
    "df4new = fourth_choice.str.split(\", \",expand=True)\n",
    "fourthchoice_merged = df4.merge(df4new, how='outer', left_index=True, right_index=True)\n",
    "fourthchoice_merged = fourthchoice_merged.drop(columns=['routing'])\n",
    "\n",
    "#Option 5\n",
    "fifth_choice = df5['routing'].astype(str)\n",
    "df5new = fifth_choice.str.split(\", \",expand=True)\n",
    "fifthchoice_merged = df5.merge(df5new, how='outer', left_index=True, right_index=True)\n",
    "fifthchoice_merged = fifthchoice_merged.drop(columns=['routing'])\n",
    "\n",
    "#Option 6\n",
    "sixth_choice = df6['routing'].astype(str)\n",
    "df6new = sixth_choice.str.split(\", \",expand=True)\n",
    "sixthchoice_merged = df6.merge(df6new, how='outer', left_index=True, right_index=True)\n",
    "sixthchoice_merged = sixthchoice_merged.drop(columns=['routing'])\n",
    "\n",
    "\n",
    "bigdata = [firstchoice_merged,secondchoice_merged,thirdchoice_merged,fourthchoice_merged,fifthchoice_merged,sixthchoice_merged]\n",
    "result = pd.concat(bigdata)\n",
    "#result_df = result.sort_values(['price','agonies'], ascending=[True,True])"
   ]
  },
  {
   "cell_type": "code",
<<<<<<< HEAD
   "execution_count": 8,
=======
   "execution_count": 9,
>>>>>>> e2978465e2713fb5f37068aa51051b9580f68670
   "metadata": {},
   "outputs": [
    {
     "data": {
      "text/html": [
       "<div>\n",
       "<style scoped>\n",
       "    .dataframe tbody tr th:only-of-type {\n",
       "        vertical-align: middle;\n",
       "    }\n",
       "\n",
       "    .dataframe tbody tr th {\n",
       "        vertical-align: top;\n",
       "    }\n",
       "\n",
       "    .dataframe thead th {\n",
       "        text-align: right;\n",
       "    }\n",
       "</style>\n",
       "<table border=\"1\" class=\"dataframe\">\n",
       "  <thead>\n",
       "    <tr style=\"text-align: right;\">\n",
       "      <th></th>\n",
       "      <th>price</th>\n",
       "      <th>agonies</th>\n",
       "      <th>id</th>\n",
       "    </tr>\n",
       "  </thead>\n",
       "  <tbody>\n",
       "    <tr>\n",
<<<<<<< HEAD
       "      <td>4134</td>\n",
       "      <td>756.0</td>\n",
       "      <td>1892.829071</td>\n",
       "      <td>95b1d37a22c0ee37b03ffe6912fc4bee</td>\n",
       "    </tr>\n",
       "    <tr>\n",
       "      <td>3167</td>\n",
       "      <td>921.0</td>\n",
       "      <td>2266.817580</td>\n",
       "      <td>687b5badf9925da67bcf8848d6c99373</td>\n",
       "    </tr>\n",
       "    <tr>\n",
       "      <td>1885</td>\n",
       "      <td>836.0</td>\n",
       "      <td>2089.246992</td>\n",
       "      <td>31d0d781689ff8c075dda41187eb75e8</td>\n",
       "    </tr>\n",
       "    <tr>\n",
       "      <td>340</td>\n",
       "      <td>948.0</td>\n",
       "      <td>2591.407324</td>\n",
       "      <td>4b4457350814fb577ff2e8e1420dcb30</td>\n",
       "    </tr>\n",
       "    <tr>\n",
       "      <td>2598</td>\n",
       "      <td>952.0</td>\n",
       "      <td>2247.553815</td>\n",
       "      <td>74f5e47de4ead87b3018c60b7799db2c</td>\n",
       "    </tr>\n",
       "    <tr>\n",
       "      <td>5225</td>\n",
       "      <td>907.0</td>\n",
       "      <td>2452.744867</td>\n",
       "      <td>41e88f9b9283309febf909ef2dfd6056</td>\n",
=======
       "      <th>452</th>\n",
       "      <td>997.0</td>\n",
       "      <td>2243.094397</td>\n",
       "      <td>fdc95da7828fc8f462e4174e7b4f5487</td>\n",
       "    </tr>\n",
       "    <tr>\n",
       "      <th>1787</th>\n",
       "      <td>812.0</td>\n",
       "      <td>1907.228261</td>\n",
       "      <td>f70f6d5ffd137e920f9864f527d933f5</td>\n",
       "    </tr>\n",
       "    <tr>\n",
       "      <th>940</th>\n",
       "      <td>1300.0</td>\n",
       "      <td>2992.741770</td>\n",
       "      <td>6f767ac2c54f6be5d3b8abec813ad535</td>\n",
       "    </tr>\n",
       "    <tr>\n",
       "      <th>358</th>\n",
       "      <td>832.0</td>\n",
       "      <td>1992.536324</td>\n",
       "      <td>3488922d3022faf3d430ba04378fd9c3</td>\n",
       "    </tr>\n",
       "    <tr>\n",
       "      <th>1671</th>\n",
       "      <td>1269.0</td>\n",
       "      <td>2993.866793</td>\n",
       "      <td>09e7f75da59de063cd540650a6182a6a</td>\n",
       "    </tr>\n",
       "    <tr>\n",
       "      <th>1384</th>\n",
       "      <td>861.0</td>\n",
       "      <td>2115.237066</td>\n",
       "      <td>571c966c13483be7c7d2914c2ba8888d</td>\n",
>>>>>>> e2978465e2713fb5f37068aa51051b9580f68670
       "    </tr>\n",
       "  </tbody>\n",
       "</table>\n",
       "</div>"
      ],
      "text/plain": [
<<<<<<< HEAD
       "      price      agonies                                id\n",
       "4134  756.0  1892.829071  95b1d37a22c0ee37b03ffe6912fc4bee\n",
       "3167  921.0  2266.817580  687b5badf9925da67bcf8848d6c99373\n",
       "1885  836.0  2089.246992  31d0d781689ff8c075dda41187eb75e8\n",
       "340   948.0  2591.407324  4b4457350814fb577ff2e8e1420dcb30\n",
       "2598  952.0  2247.553815  74f5e47de4ead87b3018c60b7799db2c\n",
       "5225  907.0  2452.744867  41e88f9b9283309febf909ef2dfd6056"
      ]
     },
     "execution_count": 8,
=======
       "       price      agonies                                id\n",
       "452    997.0  2243.094397  fdc95da7828fc8f462e4174e7b4f5487\n",
       "1787   812.0  1907.228261  f70f6d5ffd137e920f9864f527d933f5\n",
       "940   1300.0  2992.741770  6f767ac2c54f6be5d3b8abec813ad535\n",
       "358    832.0  1992.536324  3488922d3022faf3d430ba04378fd9c3\n",
       "1671  1269.0  2993.866793  09e7f75da59de063cd540650a6182a6a\n",
       "1384   861.0  2115.237066  571c966c13483be7c7d2914c2ba8888d"
      ]
     },
     "execution_count": 9,
>>>>>>> e2978465e2713fb5f37068aa51051b9580f68670
     "metadata": {},
     "output_type": "execute_result"
    }
   ],
   "source": [
    "resultuse_df = result.drop(columns=[0,1,2,3])\n",
    "resultuse_df\n"
   ]
  },
  {
   "cell_type": "code",
<<<<<<< HEAD
   "execution_count": 9,
=======
   "execution_count": 10,
>>>>>>> e2978465e2713fb5f37068aa51051b9580f68670
   "metadata": {},
   "outputs": [
    {
     "name": "stdout",
     "output_type": "stream",
     "text": [
<<<<<<< HEAD
      "['madrid', 'madrid', 'london', 'london', 'paris', 'paris']\n",
      "[4, 4, 3, 3, 5, 5]\n"
=======
      "['NYC', 'NYC', 'Paris', 'Paris', 'London', 'London']\n",
      "[5, 5, 4, 4, 3, 3]\n"
>>>>>>> e2978465e2713fb5f37068aa51051b9580f68670
     ]
    }
   ],
   "source": [
    "#separate tuples of destination and length of stay\n",
    "xlist1=[]\n",
    "ylist1=[]\n",
    "xlist2=[]\n",
    "ylist2=[]\n",
    "xlist3=[]\n",
    "ylist3=[]\n",
    "\n",
    "for x,y,z in alist:\n",
    "    d1,d2 = x\n",
    "    xlist1.append(d1)\n",
    "    ylist1.append(d2)\n",
    "    d3,d4 = y\n",
    "    xlist2.append(d3)\n",
    "    ylist2.append(d4)\n",
    "    d5,d6 = z\n",
    "    xlist3.append(d5)\n",
    "    ylist3.append(d6)\n",
    "print(xlist1)\n",
    "print(ylist1)\n",
    "\n"
   ]
  },
  {
   "cell_type": "code",
<<<<<<< HEAD
   "execution_count": 10,
=======
   "execution_count": 11,
>>>>>>> e2978465e2713fb5f37068aa51051b9580f68670
   "metadata": {},
   "outputs": [
    {
     "data": {
      "text/plain": [
<<<<<<< HEAD
       "[(('madrid', 4), ('london', 3), ('paris', 5)),\n",
       " (('madrid', 4), ('paris', 5), ('london', 3)),\n",
       " (('london', 3), ('madrid', 4), ('paris', 5)),\n",
       " (('london', 3), ('paris', 5), ('madrid', 4)),\n",
       " (('paris', 5), ('madrid', 4), ('london', 3)),\n",
       " (('paris', 5), ('london', 3), ('madrid', 4))]"
      ]
     },
     "execution_count": 10,
=======
       "[(('NYC', 5), ('Paris', 4), ('London', 3)),\n",
       " (('NYC', 5), ('London', 3), ('Paris', 4)),\n",
       " (('Paris', 4), ('NYC', 5), ('London', 3)),\n",
       " (('Paris', 4), ('London', 3), ('NYC', 5)),\n",
       " (('London', 3), ('NYC', 5), ('Paris', 4)),\n",
       " (('London', 3), ('Paris', 4), ('NYC', 5))]"
      ]
     },
     "execution_count": 11,
>>>>>>> e2978465e2713fb5f37068aa51051b9580f68670
     "metadata": {},
     "output_type": "execute_result"
    }
   ],
   "source": [
    "alist"
   ]
  },
  {
   "cell_type": "code",
<<<<<<< HEAD
   "execution_count": 11,
   "metadata": {},
=======
   "execution_count": 12,
   "metadata": {
    "scrolled": true
   },
>>>>>>> e2978465e2713fb5f37068aa51051b9580f68670
   "outputs": [
    {
     "data": {
      "text/html": [
       "<div>\n",
       "<style scoped>\n",
       "    .dataframe tbody tr th:only-of-type {\n",
       "        vertical-align: middle;\n",
       "    }\n",
       "\n",
       "    .dataframe tbody tr th {\n",
       "        vertical-align: top;\n",
       "    }\n",
       "\n",
       "    .dataframe thead th {\n",
       "        text-align: right;\n",
       "    }\n",
       "</style>\n",
       "<table border=\"1\" class=\"dataframe\">\n",
       "  <thead>\n",
       "    <tr style=\"text-align: right;\">\n",
       "      <th></th>\n",
       "      <th>0</th>\n",
       "      <th>1</th>\n",
       "      <th>2</th>\n",
       "    </tr>\n",
       "  </thead>\n",
       "  <tbody>\n",
       "    <tr>\n",
<<<<<<< HEAD
       "      <td>0</td>\n",
       "      <td>(madrid, 4)</td>\n",
       "      <td>(london, 3)</td>\n",
       "      <td>(paris, 5)</td>\n",
       "    </tr>\n",
       "    <tr>\n",
       "      <td>1</td>\n",
       "      <td>(madrid, 4)</td>\n",
       "      <td>(paris, 5)</td>\n",
       "      <td>(london, 3)</td>\n",
       "    </tr>\n",
       "    <tr>\n",
       "      <td>2</td>\n",
       "      <td>(london, 3)</td>\n",
       "      <td>(madrid, 4)</td>\n",
       "      <td>(paris, 5)</td>\n",
       "    </tr>\n",
       "    <tr>\n",
       "      <td>3</td>\n",
       "      <td>(london, 3)</td>\n",
       "      <td>(paris, 5)</td>\n",
       "      <td>(madrid, 4)</td>\n",
       "    </tr>\n",
       "    <tr>\n",
       "      <td>4</td>\n",
       "      <td>(paris, 5)</td>\n",
       "      <td>(madrid, 4)</td>\n",
       "      <td>(london, 3)</td>\n",
       "    </tr>\n",
       "    <tr>\n",
       "      <td>5</td>\n",
       "      <td>(paris, 5)</td>\n",
       "      <td>(london, 3)</td>\n",
       "      <td>(madrid, 4)</td>\n",
=======
       "      <th>0</th>\n",
       "      <td>(NYC, 5)</td>\n",
       "      <td>(Paris, 4)</td>\n",
       "      <td>(London, 3)</td>\n",
       "    </tr>\n",
       "    <tr>\n",
       "      <th>1</th>\n",
       "      <td>(NYC, 5)</td>\n",
       "      <td>(London, 3)</td>\n",
       "      <td>(Paris, 4)</td>\n",
       "    </tr>\n",
       "    <tr>\n",
       "      <th>2</th>\n",
       "      <td>(Paris, 4)</td>\n",
       "      <td>(NYC, 5)</td>\n",
       "      <td>(London, 3)</td>\n",
       "    </tr>\n",
       "    <tr>\n",
       "      <th>3</th>\n",
       "      <td>(Paris, 4)</td>\n",
       "      <td>(London, 3)</td>\n",
       "      <td>(NYC, 5)</td>\n",
       "    </tr>\n",
       "    <tr>\n",
       "      <th>4</th>\n",
       "      <td>(London, 3)</td>\n",
       "      <td>(NYC, 5)</td>\n",
       "      <td>(Paris, 4)</td>\n",
       "    </tr>\n",
       "    <tr>\n",
       "      <th>5</th>\n",
       "      <td>(London, 3)</td>\n",
       "      <td>(Paris, 4)</td>\n",
       "      <td>(NYC, 5)</td>\n",
>>>>>>> e2978465e2713fb5f37068aa51051b9580f68670
       "    </tr>\n",
       "  </tbody>\n",
       "</table>\n",
       "</div>"
      ],
      "text/plain": [
       "             0            1            2\n",
<<<<<<< HEAD
       "0  (madrid, 4)  (london, 3)   (paris, 5)\n",
       "1  (madrid, 4)   (paris, 5)  (london, 3)\n",
       "2  (london, 3)  (madrid, 4)   (paris, 5)\n",
       "3  (london, 3)   (paris, 5)  (madrid, 4)\n",
       "4   (paris, 5)  (madrid, 4)  (london, 3)\n",
       "5   (paris, 5)  (london, 3)  (madrid, 4)"
      ]
     },
     "execution_count": 11,
=======
       "0     (NYC, 5)   (Paris, 4)  (London, 3)\n",
       "1     (NYC, 5)  (London, 3)   (Paris, 4)\n",
       "2   (Paris, 4)     (NYC, 5)  (London, 3)\n",
       "3   (Paris, 4)  (London, 3)     (NYC, 5)\n",
       "4  (London, 3)     (NYC, 5)   (Paris, 4)\n",
       "5  (London, 3)   (Paris, 4)     (NYC, 5)"
      ]
     },
     "execution_count": 12,
>>>>>>> e2978465e2713fb5f37068aa51051b9580f68670
     "metadata": {},
     "output_type": "execute_result"
    }
   ],
   "source": [
    "alist_df = pd.DataFrame(alist)\n",
    "alist_df\n",
    "alist_df"
   ]
  },
  {
   "cell_type": "markdown",
   "metadata": {},
   "source": [
    "## Data Staging "
   ]
  },
  {
   "cell_type": "code",
<<<<<<< HEAD
   "execution_count": 12,
=======
   "execution_count": 13,
>>>>>>> e2978465e2713fb5f37068aa51051b9580f68670
   "metadata": {},
   "outputs": [],
   "source": [
    "start = parse(startdate)\n",
    "#start = start_date.strftime(\"%B %d, %Y\")\n",
    "\n",
    "#Translating the lenght of stay into a date for first stop departure\n",
    "g=[]\n",
    "date1=[]\n",
    "for days1 in ylist1:\n",
    "    g = start + timedelta(days=days1)\n",
    "    #g1 = g.strftime(\"%B %d, %Y\")\n",
    "    date1.append(g)\n",
    "\n",
    "#Translating the lenght of stay into a date for second stop departure\n",
    "c=[]\n",
    "date2=[]\n",
    "c1=[]\n",
    "c2=[]\n",
    "i=[]\n",
    "\n",
    "for days2 in date1:\n",
    "    c1.append(days2)\n",
    "\n",
    "for i in range(6):    \n",
    "    xi = (c1[i])\n",
    "    xh = (ylist2[i])\n",
    "    c2 = xi + timedelta(days=xh)\n",
    "    date2.append(c2) \n",
    "    \n",
    "#Translating the lenght of stay into a date for third stop departure    \n",
    "    \n",
    "c3=[]\n",
    "date3=[]\n",
    "c3=[]\n",
    "c4=[]\n",
    "i=[]\n",
    "\n",
    "for days3 in date2:\n",
    "    c3.append(days3)\n",
    "\n",
    "for i in range(6):    \n",
    "    xe = (c3[i])\n",
    "    xr = (ylist3[i])\n",
    "    c4 = xe + timedelta(days=xr)\n",
    "    date3.append(c4)\n",
    "\n",
    "                               \n",
    "resultuse_df['Starting_Point'] = p0\n",
    "resultuse_df['Starting_Date'] = start\n",
    "resultuse_df['First_Stop'] = xlist1\n",
    "resultuse_df['Departure_1'] = date1\n",
    "resultuse_df['Second_Stop'] = xlist2\n",
    "resultuse_df['Departure_2'] = date2\n",
    "resultuse_df['Third_Stop'] = xlist3\n",
    "resultuse_df['Departure_3'] = date3\n",
    "resultuse_df['End_Point'] = p0\n",
    "#resultuse_df = resultuse_df.drop[['Starting_Point','Starting_Date']]\n",
    "df_full = resultuse_df[['price','agonies','Starting_Point','Starting_Date','First_Stop','Departure_1','Second_Stop','Departure_2','Third_Stop','Departure_3','End_Point','id']]"
   ]
  },
  {
   "cell_type": "code",
<<<<<<< HEAD
   "execution_count": 13,
=======
   "execution_count": 14,
>>>>>>> e2978465e2713fb5f37068aa51051b9580f68670
   "metadata": {},
   "outputs": [],
   "source": [
    "# sort DataFrame of final output by Price and Agony#\n",
    "df_fullnew = df_full.rename(columns={\"id\":'Itinerary_#'})\n",
    "df_fullnew=df_fullnew.sort_values(['price','agonies'], ascending=[True,True])"
   ]
  },
  {
   "cell_type": "code",
<<<<<<< HEAD
   "execution_count": 14,
=======
   "execution_count": 15,
>>>>>>> e2978465e2713fb5f37068aa51051b9580f68670
   "metadata": {},
   "outputs": [
    {
     "data": {
      "text/html": [
       "<div>\n",
       "<style scoped>\n",
       "    .dataframe tbody tr th:only-of-type {\n",
       "        vertical-align: middle;\n",
       "    }\n",
       "\n",
       "    .dataframe tbody tr th {\n",
       "        vertical-align: top;\n",
       "    }\n",
       "\n",
       "    .dataframe thead th {\n",
       "        text-align: right;\n",
       "    }\n",
       "</style>\n",
       "<table border=\"1\" class=\"dataframe\">\n",
       "  <thead>\n",
       "    <tr style=\"text-align: right;\">\n",
       "      <th></th>\n",
       "      <th>price</th>\n",
       "      <th>agonies</th>\n",
       "      <th>Starting_Point</th>\n",
       "      <th>Starting_Date</th>\n",
       "      <th>First_Stop</th>\n",
       "      <th>Departure_1</th>\n",
       "      <th>Second_Stop</th>\n",
       "      <th>Departure_2</th>\n",
       "      <th>Third_Stop</th>\n",
       "      <th>Departure_3</th>\n",
       "      <th>End_Point</th>\n",
       "      <th>Itinerary_#</th>\n",
       "    </tr>\n",
       "  </thead>\n",
       "  <tbody>\n",
       "    <tr>\n",
<<<<<<< HEAD
       "      <td>4134</td>\n",
       "      <td>756.0</td>\n",
       "      <td>1892.829071</td>\n",
       "      <td>miami</td>\n",
       "      <td>2019-12-01</td>\n",
       "      <td>madrid</td>\n",
       "      <td>2019-12-05</td>\n",
       "      <td>london</td>\n",
       "      <td>2019-12-08</td>\n",
       "      <td>paris</td>\n",
       "      <td>2019-12-13</td>\n",
       "      <td>miami</td>\n",
       "      <td>95b1d37a22c0ee37b03ffe6912fc4bee</td>\n",
       "    </tr>\n",
       "    <tr>\n",
       "      <td>1885</td>\n",
       "      <td>836.0</td>\n",
       "      <td>2089.246992</td>\n",
       "      <td>miami</td>\n",
       "      <td>2019-12-01</td>\n",
       "      <td>london</td>\n",
       "      <td>2019-12-04</td>\n",
       "      <td>madrid</td>\n",
       "      <td>2019-12-08</td>\n",
       "      <td>paris</td>\n",
       "      <td>2019-12-13</td>\n",
       "      <td>miami</td>\n",
       "      <td>31d0d781689ff8c075dda41187eb75e8</td>\n",
       "    </tr>\n",
       "    <tr>\n",
       "      <td>5225</td>\n",
       "      <td>907.0</td>\n",
       "      <td>2452.744867</td>\n",
       "      <td>miami</td>\n",
       "      <td>2019-12-01</td>\n",
       "      <td>paris</td>\n",
       "      <td>2019-12-06</td>\n",
       "      <td>london</td>\n",
       "      <td>2019-12-09</td>\n",
       "      <td>madrid</td>\n",
       "      <td>2019-12-13</td>\n",
       "      <td>miami</td>\n",
       "      <td>41e88f9b9283309febf909ef2dfd6056</td>\n",
       "    </tr>\n",
       "    <tr>\n",
       "      <td>3167</td>\n",
       "      <td>921.0</td>\n",
       "      <td>2266.817580</td>\n",
       "      <td>miami</td>\n",
       "      <td>2019-12-01</td>\n",
       "      <td>madrid</td>\n",
       "      <td>2019-12-05</td>\n",
       "      <td>paris</td>\n",
       "      <td>2019-12-10</td>\n",
       "      <td>london</td>\n",
       "      <td>2019-12-13</td>\n",
       "      <td>miami</td>\n",
       "      <td>687b5badf9925da67bcf8848d6c99373</td>\n",
       "    </tr>\n",
       "    <tr>\n",
       "      <td>340</td>\n",
       "      <td>948.0</td>\n",
       "      <td>2591.407324</td>\n",
       "      <td>miami</td>\n",
       "      <td>2019-12-01</td>\n",
       "      <td>london</td>\n",
       "      <td>2019-12-04</td>\n",
       "      <td>paris</td>\n",
       "      <td>2019-12-09</td>\n",
       "      <td>madrid</td>\n",
       "      <td>2019-12-13</td>\n",
       "      <td>miami</td>\n",
       "      <td>4b4457350814fb577ff2e8e1420dcb30</td>\n",
       "    </tr>\n",
       "    <tr>\n",
       "      <td>2598</td>\n",
       "      <td>952.0</td>\n",
       "      <td>2247.553815</td>\n",
       "      <td>miami</td>\n",
       "      <td>2019-12-01</td>\n",
       "      <td>paris</td>\n",
       "      <td>2019-12-06</td>\n",
       "      <td>madrid</td>\n",
       "      <td>2019-12-10</td>\n",
       "      <td>london</td>\n",
       "      <td>2019-12-13</td>\n",
       "      <td>miami</td>\n",
       "      <td>74f5e47de4ead87b3018c60b7799db2c</td>\n",
=======
       "      <th>1787</th>\n",
       "      <td>812.0</td>\n",
       "      <td>1907.228261</td>\n",
       "      <td>f70f6d5ffd137e920f9864f527d933f5</td>\n",
       "      <td>Miami</td>\n",
       "      <td>2019-12-01</td>\n",
       "      <td>NYC</td>\n",
       "      <td>2019-12-06</td>\n",
       "      <td>London</td>\n",
       "      <td>2019-12-09</td>\n",
       "      <td>Paris</td>\n",
       "      <td>2019-12-13</td>\n",
       "      <td>Miami</td>\n",
       "    </tr>\n",
       "    <tr>\n",
       "      <th>358</th>\n",
       "      <td>832.0</td>\n",
       "      <td>1992.536324</td>\n",
       "      <td>3488922d3022faf3d430ba04378fd9c3</td>\n",
       "      <td>Miami</td>\n",
       "      <td>2019-12-01</td>\n",
       "      <td>Paris</td>\n",
       "      <td>2019-12-05</td>\n",
       "      <td>London</td>\n",
       "      <td>2019-12-08</td>\n",
       "      <td>NYC</td>\n",
       "      <td>2019-12-13</td>\n",
       "      <td>Miami</td>\n",
       "    </tr>\n",
       "    <tr>\n",
       "      <th>1384</th>\n",
       "      <td>861.0</td>\n",
       "      <td>2115.237066</td>\n",
       "      <td>571c966c13483be7c7d2914c2ba8888d</td>\n",
       "      <td>Miami</td>\n",
       "      <td>2019-12-01</td>\n",
       "      <td>London</td>\n",
       "      <td>2019-12-04</td>\n",
       "      <td>Paris</td>\n",
       "      <td>2019-12-08</td>\n",
       "      <td>NYC</td>\n",
       "      <td>2019-12-13</td>\n",
       "      <td>Miami</td>\n",
       "    </tr>\n",
       "    <tr>\n",
       "      <th>452</th>\n",
       "      <td>997.0</td>\n",
       "      <td>2243.094397</td>\n",
       "      <td>fdc95da7828fc8f462e4174e7b4f5487</td>\n",
       "      <td>Miami</td>\n",
       "      <td>2019-12-01</td>\n",
       "      <td>NYC</td>\n",
       "      <td>2019-12-06</td>\n",
       "      <td>Paris</td>\n",
       "      <td>2019-12-10</td>\n",
       "      <td>London</td>\n",
       "      <td>2019-12-13</td>\n",
       "      <td>Miami</td>\n",
       "    </tr>\n",
       "    <tr>\n",
       "      <th>1671</th>\n",
       "      <td>1269.0</td>\n",
       "      <td>2993.866793</td>\n",
       "      <td>09e7f75da59de063cd540650a6182a6a</td>\n",
       "      <td>Miami</td>\n",
       "      <td>2019-12-01</td>\n",
       "      <td>London</td>\n",
       "      <td>2019-12-04</td>\n",
       "      <td>NYC</td>\n",
       "      <td>2019-12-09</td>\n",
       "      <td>Paris</td>\n",
       "      <td>2019-12-13</td>\n",
       "      <td>Miami</td>\n",
       "    </tr>\n",
       "    <tr>\n",
       "      <th>940</th>\n",
       "      <td>1300.0</td>\n",
       "      <td>2992.741770</td>\n",
       "      <td>6f767ac2c54f6be5d3b8abec813ad535</td>\n",
       "      <td>Miami</td>\n",
       "      <td>2019-12-01</td>\n",
       "      <td>Paris</td>\n",
       "      <td>2019-12-05</td>\n",
       "      <td>NYC</td>\n",
       "      <td>2019-12-10</td>\n",
       "      <td>London</td>\n",
       "      <td>2019-12-13</td>\n",
       "      <td>Miami</td>\n",
>>>>>>> e2978465e2713fb5f37068aa51051b9580f68670
       "    </tr>\n",
       "  </tbody>\n",
       "</table>\n",
       "</div>"
      ],
      "text/plain": [
<<<<<<< HEAD
       "      price      agonies Starting_Point Starting_Date First_Stop Departure_1  \\\n",
       "4134  756.0  1892.829071          miami    2019-12-01     madrid  2019-12-05   \n",
       "1885  836.0  2089.246992          miami    2019-12-01     london  2019-12-04   \n",
       "5225  907.0  2452.744867          miami    2019-12-01      paris  2019-12-06   \n",
       "3167  921.0  2266.817580          miami    2019-12-01     madrid  2019-12-05   \n",
       "340   948.0  2591.407324          miami    2019-12-01     london  2019-12-04   \n",
       "2598  952.0  2247.553815          miami    2019-12-01      paris  2019-12-06   \n",
       "\n",
       "     Second_Stop Departure_2 Third_Stop Departure_3 End_Point  \\\n",
       "4134      london  2019-12-08      paris  2019-12-13     miami   \n",
       "1885      madrid  2019-12-08      paris  2019-12-13     miami   \n",
       "5225      london  2019-12-09     madrid  2019-12-13     miami   \n",
       "3167       paris  2019-12-10     london  2019-12-13     miami   \n",
       "340        paris  2019-12-09     madrid  2019-12-13     miami   \n",
       "2598      madrid  2019-12-10     london  2019-12-13     miami   \n",
       "\n",
       "                           Itinerary_#  \n",
       "4134  95b1d37a22c0ee37b03ffe6912fc4bee  \n",
       "1885  31d0d781689ff8c075dda41187eb75e8  \n",
       "5225  41e88f9b9283309febf909ef2dfd6056  \n",
       "3167  687b5badf9925da67bcf8848d6c99373  \n",
       "340   4b4457350814fb577ff2e8e1420dcb30  \n",
       "2598  74f5e47de4ead87b3018c60b7799db2c  "
      ]
     },
     "execution_count": 14,
=======
       "       price      agonies                       Itinerary_# Starting_Point  \\\n",
       "1787   812.0  1907.228261  f70f6d5ffd137e920f9864f527d933f5          Miami   \n",
       "358    832.0  1992.536324  3488922d3022faf3d430ba04378fd9c3          Miami   \n",
       "1384   861.0  2115.237066  571c966c13483be7c7d2914c2ba8888d          Miami   \n",
       "452    997.0  2243.094397  fdc95da7828fc8f462e4174e7b4f5487          Miami   \n",
       "1671  1269.0  2993.866793  09e7f75da59de063cd540650a6182a6a          Miami   \n",
       "940   1300.0  2992.741770  6f767ac2c54f6be5d3b8abec813ad535          Miami   \n",
       "\n",
       "     Starting_Date First_Stop Departure_1 Second_Stop Departure_2 Third_Stop  \\\n",
       "1787    2019-12-01        NYC  2019-12-06      London  2019-12-09      Paris   \n",
       "358     2019-12-01      Paris  2019-12-05      London  2019-12-08        NYC   \n",
       "1384    2019-12-01     London  2019-12-04       Paris  2019-12-08        NYC   \n",
       "452     2019-12-01        NYC  2019-12-06       Paris  2019-12-10     London   \n",
       "1671    2019-12-01     London  2019-12-04         NYC  2019-12-09      Paris   \n",
       "940     2019-12-01      Paris  2019-12-05         NYC  2019-12-10     London   \n",
       "\n",
       "     Departure_3 End_Point  \n",
       "1787  2019-12-13     Miami  \n",
       "358   2019-12-13     Miami  \n",
       "1384  2019-12-13     Miami  \n",
       "452   2019-12-13     Miami  \n",
       "1671  2019-12-13     Miami  \n",
       "940   2019-12-13     Miami  "
      ]
     },
     "execution_count": 15,
>>>>>>> e2978465e2713fb5f37068aa51051b9580f68670
     "metadata": {},
     "output_type": "execute_result"
    }
   ],
   "source": [
    "df_fullnew"
   ]
  },
  {
   "cell_type": "markdown",
   "metadata": {},
   "source": [
    "## ETL for Data Visualization "
   ]
  },
  {
   "cell_type": "code",
<<<<<<< HEAD
   "execution_count": 15,
=======
   "execution_count": 16,
>>>>>>> e2978465e2713fb5f37068aa51051b9580f68670
   "metadata": {},
   "outputs": [
    {
     "data": {
      "text/html": [
       "<div>\n",
       "<style scoped>\n",
       "    .dataframe tbody tr th:only-of-type {\n",
       "        vertical-align: middle;\n",
       "    }\n",
       "\n",
       "    .dataframe tbody tr th {\n",
       "        vertical-align: top;\n",
       "    }\n",
       "\n",
       "    .dataframe thead th {\n",
       "        text-align: right;\n",
       "    }\n",
       "</style>\n",
       "<table border=\"1\" class=\"dataframe\">\n",
       "  <thead>\n",
       "    <tr style=\"text-align: right;\">\n",
       "      <th></th>\n",
       "      <th>Starting_Point</th>\n",
       "      <th>First_Stop</th>\n",
       "      <th>Second_Stop</th>\n",
       "      <th>Third_Stop</th>\n",
       "      <th>End_Point</th>\n",
       "    </tr>\n",
       "  </thead>\n",
       "  <tbody>\n",
       "    <tr>\n",
<<<<<<< HEAD
       "      <td>4134</td>\n",
       "      <td>miami</td>\n",
       "      <td>madrid</td>\n",
       "      <td>london</td>\n",
       "      <td>paris</td>\n",
       "      <td>miami</td>\n",
       "    </tr>\n",
       "    <tr>\n",
       "      <td>1885</td>\n",
       "      <td>miami</td>\n",
       "      <td>london</td>\n",
       "      <td>madrid</td>\n",
       "      <td>paris</td>\n",
       "      <td>miami</td>\n",
       "    </tr>\n",
       "    <tr>\n",
       "      <td>5225</td>\n",
       "      <td>miami</td>\n",
       "      <td>paris</td>\n",
       "      <td>london</td>\n",
       "      <td>madrid</td>\n",
       "      <td>miami</td>\n",
       "    </tr>\n",
       "    <tr>\n",
       "      <td>3167</td>\n",
       "      <td>miami</td>\n",
       "      <td>madrid</td>\n",
       "      <td>paris</td>\n",
       "      <td>london</td>\n",
       "      <td>miami</td>\n",
       "    </tr>\n",
       "    <tr>\n",
       "      <td>340</td>\n",
       "      <td>miami</td>\n",
       "      <td>london</td>\n",
       "      <td>paris</td>\n",
       "      <td>madrid</td>\n",
       "      <td>miami</td>\n",
       "    </tr>\n",
       "    <tr>\n",
       "      <td>2598</td>\n",
       "      <td>miami</td>\n",
       "      <td>paris</td>\n",
       "      <td>madrid</td>\n",
       "      <td>london</td>\n",
       "      <td>miami</td>\n",
=======
       "      <th>1787</th>\n",
       "      <td>Miami</td>\n",
       "      <td>NYC</td>\n",
       "      <td>London</td>\n",
       "      <td>Paris</td>\n",
       "      <td>Miami</td>\n",
       "    </tr>\n",
       "    <tr>\n",
       "      <th>358</th>\n",
       "      <td>Miami</td>\n",
       "      <td>Paris</td>\n",
       "      <td>London</td>\n",
       "      <td>NYC</td>\n",
       "      <td>Miami</td>\n",
       "    </tr>\n",
       "    <tr>\n",
       "      <th>1384</th>\n",
       "      <td>Miami</td>\n",
       "      <td>London</td>\n",
       "      <td>Paris</td>\n",
       "      <td>NYC</td>\n",
       "      <td>Miami</td>\n",
       "    </tr>\n",
       "    <tr>\n",
       "      <th>452</th>\n",
       "      <td>Miami</td>\n",
       "      <td>NYC</td>\n",
       "      <td>Paris</td>\n",
       "      <td>London</td>\n",
       "      <td>Miami</td>\n",
       "    </tr>\n",
       "    <tr>\n",
       "      <th>1671</th>\n",
       "      <td>Miami</td>\n",
       "      <td>London</td>\n",
       "      <td>NYC</td>\n",
       "      <td>Paris</td>\n",
       "      <td>Miami</td>\n",
       "    </tr>\n",
       "    <tr>\n",
       "      <th>940</th>\n",
       "      <td>Miami</td>\n",
       "      <td>Paris</td>\n",
       "      <td>NYC</td>\n",
       "      <td>London</td>\n",
       "      <td>Miami</td>\n",
>>>>>>> e2978465e2713fb5f37068aa51051b9580f68670
       "    </tr>\n",
       "  </tbody>\n",
       "</table>\n",
       "</div>"
      ],
      "text/plain": [
       "     Starting_Point First_Stop Second_Stop Third_Stop End_Point\n",
<<<<<<< HEAD
       "4134          miami     madrid      london      paris     miami\n",
       "1885          miami     london      madrid      paris     miami\n",
       "5225          miami      paris      london     madrid     miami\n",
       "3167          miami     madrid       paris     london     miami\n",
       "340           miami     london       paris     madrid     miami\n",
       "2598          miami      paris      madrid     london     miami"
      ]
     },
     "execution_count": 15,
=======
       "1787          Miami        NYC      London      Paris     Miami\n",
       "358           Miami      Paris      London        NYC     Miami\n",
       "1384          Miami     London       Paris        NYC     Miami\n",
       "452           Miami        NYC       Paris     London     Miami\n",
       "1671          Miami     London         NYC      Paris     Miami\n",
       "940           Miami      Paris         NYC     London     Miami"
      ]
     },
     "execution_count": 16,
>>>>>>> e2978465e2713fb5f37068aa51051b9580f68670
     "metadata": {},
     "output_type": "execute_result"
    }
   ],
   "source": [
    "destination_df = df_fullnew.loc[:,['Starting_Point','First_Stop','Second_Stop','Third_Stop','End_Point']]\n",
    "destination_df"
   ]
  },
  {
   "cell_type": "code",
<<<<<<< HEAD
   "execution_count": 16,
=======
   "execution_count": 17,
>>>>>>> e2978465e2713fb5f37068aa51051b9580f68670
   "metadata": {},
   "outputs": [
    {
     "name": "stdout",
     "output_type": "stream",
     "text": [
<<<<<<< HEAD
      "[['miami', 'madrid', 'london', 'paris', 'miami'], ['miami', 'london', 'madrid', 'paris', 'miami'], ['miami', 'paris', 'london', 'madrid', 'miami'], ['miami', 'madrid', 'paris', 'london', 'miami'], ['miami', 'london', 'paris', 'madrid', 'miami'], ['miami', 'paris', 'madrid', 'london', 'miami']]\n"
=======
      "[['Miami', 'NYC', 'London', 'Paris', 'Miami'], ['Miami', 'Paris', 'London', 'NYC', 'Miami'], ['Miami', 'London', 'Paris', 'NYC', 'Miami'], ['Miami', 'NYC', 'Paris', 'London', 'Miami'], ['Miami', 'London', 'NYC', 'Paris', 'Miami'], ['Miami', 'Paris', 'NYC', 'London', 'Miami']]\n"
>>>>>>> e2978465e2713fb5f37068aa51051b9580f68670
     ]
    }
   ],
   "source": [
    "# Create an empty list \n",
    "destinations_list =[] \n",
    "  \n",
    "# Iterate over each row \n",
    "for index, rows in destination_df.iterrows(): \n",
    "    # Create list for the current row \n",
    "    my_list =[rows.Starting_Point, rows.First_Stop, rows.Second_Stop, rows.Third_Stop, rows.End_Point] \n",
    "      \n",
    "    # append the list to the final list \n",
    "    destinations_list.append(my_list) \n",
    "  \n",
    "# Print the list \n",
    "print(destinations_list) \n"
   ]
  },
  {
   "cell_type": "code",
<<<<<<< HEAD
   "execution_count": 23,
   "metadata": {},
   "outputs": [],
=======
   "execution_count": 18,
   "metadata": {},
   "outputs": [
    {
     "name": "stderr",
     "output_type": "stream",
     "text": [
      "RateLimiter caught an error, retrying (0/2 tries). Called with (*('Miami',), **{}).\n",
      "Traceback (most recent call last):\n",
      "  File \"//anaconda3/lib/python3.7/urllib/request.py\", line 1317, in do_open\n",
      "    encode_chunked=req.has_header('Transfer-encoding'))\n",
      "  File \"//anaconda3/lib/python3.7/http/client.py\", line 1229, in request\n",
      "    self._send_request(method, url, body, headers, encode_chunked)\n",
      "  File \"//anaconda3/lib/python3.7/http/client.py\", line 1275, in _send_request\n",
      "    self.endheaders(body, encode_chunked=encode_chunked)\n",
      "  File \"//anaconda3/lib/python3.7/http/client.py\", line 1224, in endheaders\n",
      "    self._send_output(message_body, encode_chunked=encode_chunked)\n",
      "  File \"//anaconda3/lib/python3.7/http/client.py\", line 1016, in _send_output\n",
      "    self.send(msg)\n",
      "  File \"//anaconda3/lib/python3.7/http/client.py\", line 956, in send\n",
      "    self.connect()\n",
      "  File \"//anaconda3/lib/python3.7/http/client.py\", line 1384, in connect\n",
      "    super().connect()\n",
      "  File \"//anaconda3/lib/python3.7/http/client.py\", line 928, in connect\n",
      "    (self.host,self.port), self.timeout, self.source_address)\n",
      "  File \"//anaconda3/lib/python3.7/socket.py\", line 727, in create_connection\n",
      "    raise err\n",
      "  File \"//anaconda3/lib/python3.7/socket.py\", line 716, in create_connection\n",
      "    sock.connect(sa)\n",
      "socket.timeout: timed out\n",
      "\n",
      "During handling of the above exception, another exception occurred:\n",
      "\n",
      "Traceback (most recent call last):\n",
      "  File \"//anaconda3/lib/python3.7/site-packages/geopy/geocoders/base.py\", line 355, in _call_geocoder\n",
      "    page = requester(req, timeout=timeout, **kwargs)\n",
      "  File \"//anaconda3/lib/python3.7/urllib/request.py\", line 525, in open\n",
      "    response = self._open(req, data)\n",
      "  File \"//anaconda3/lib/python3.7/urllib/request.py\", line 543, in _open\n",
      "    '_open', req)\n",
      "  File \"//anaconda3/lib/python3.7/urllib/request.py\", line 503, in _call_chain\n",
      "    result = func(*args)\n",
      "  File \"//anaconda3/lib/python3.7/urllib/request.py\", line 1360, in https_open\n",
      "    context=self._context, check_hostname=self._check_hostname)\n",
      "  File \"//anaconda3/lib/python3.7/urllib/request.py\", line 1319, in do_open\n",
      "    raise URLError(err)\n",
      "urllib.error.URLError: <urlopen error timed out>\n",
      "\n",
      "During handling of the above exception, another exception occurred:\n",
      "\n",
      "Traceback (most recent call last):\n",
      "  File \"//anaconda3/lib/python3.7/site-packages/geopy/extra/rate_limiter.py\", line 126, in __call__\n",
      "    return self.func(*args, **kwargs)\n",
      "  File \"//anaconda3/lib/python3.7/site-packages/geopy/geocoders/osm.py\", line 387, in geocode\n",
      "    self._call_geocoder(url, timeout=timeout), exactly_one\n",
      "  File \"//anaconda3/lib/python3.7/site-packages/geopy/geocoders/base.py\", line 378, in _call_geocoder\n",
      "    raise GeocoderTimedOut('Service timed out')\n",
      "geopy.exc.GeocoderTimedOut: Service timed out\n"
     ]
    }
   ],
>>>>>>> e2978465e2713fb5f37068aa51051b9580f68670
   "source": [
    "from geopy.geocoders import Nominatim\n",
    "geolocator = Nominatim(user_agent=\"specify_your_app_name_here\")\n",
    "\n",
    "from geopy.extra.rate_limiter import RateLimiter\n",
    "geocode = RateLimiter(geolocator.geocode)\n",
    "destination_df['location'] = destination_df['Starting_Point'].apply(geocode)\n",
    "destination_df['point'] = destination_df['location'].apply(lambda loc: tuple(loc.point) if loc else None)\n",
    "destination_df['location2'] = destination_df['First_Stop'].apply(geocode)\n",
    "destination_df['point2'] = destination_df['location2'].apply(lambda loc: tuple(loc.point) if loc else None)\n",
    "destination_df['location3'] = destination_df['Second_Stop'].apply(geocode)\n",
    "destination_df['point3'] = destination_df['location3'].apply(lambda loc: tuple(loc.point) if loc else None)\n",
    "destination_df['location4'] = destination_df['Third_Stop'].apply(geocode)\n",
    "destination_df['point4'] = destination_df['location4'].apply(lambda loc: tuple(loc.point) if loc else None)"
   ]
  },
  {
   "cell_type": "code",
<<<<<<< HEAD
   "execution_count": 24,
=======
   "execution_count": 19,
>>>>>>> e2978465e2713fb5f37068aa51051b9580f68670
   "metadata": {},
   "outputs": [
    {
     "data": {
      "text/html": [
       "<div>\n",
       "<style scoped>\n",
       "    .dataframe tbody tr th:only-of-type {\n",
       "        vertical-align: middle;\n",
       "    }\n",
       "\n",
       "    .dataframe tbody tr th {\n",
       "        vertical-align: top;\n",
       "    }\n",
       "\n",
       "    .dataframe thead th {\n",
       "        text-align: right;\n",
       "    }\n",
       "</style>\n",
       "<table border=\"1\" class=\"dataframe\">\n",
       "  <thead>\n",
       "    <tr style=\"text-align: right;\">\n",
       "      <th></th>\n",
       "      <th>Starting_Point</th>\n",
       "      <th>First_Stop</th>\n",
       "      <th>Second_Stop</th>\n",
       "      <th>Third_Stop</th>\n",
       "      <th>End_Point</th>\n",
       "      <th>location</th>\n",
       "      <th>point</th>\n",
       "      <th>location2</th>\n",
       "      <th>point2</th>\n",
       "      <th>location3</th>\n",
       "      <th>point3</th>\n",
       "      <th>location4</th>\n",
       "      <th>point4</th>\n",
       "    </tr>\n",
       "  </thead>\n",
       "  <tbody>\n",
       "    <tr>\n",
<<<<<<< HEAD
       "      <td>4134</td>\n",
       "      <td>miami</td>\n",
       "      <td>madrid</td>\n",
       "      <td>london</td>\n",
       "      <td>paris</td>\n",
       "      <td>miami</td>\n",
       "      <td>(Miami, Miami-Dade County, Florida, United Sta...</td>\n",
       "      <td>(25.7742658, -80.1936589, 0.0)</td>\n",
       "      <td>(Madrid, Área metropolitana de Madrid y Corred...</td>\n",
       "      <td>(40.4167047, -3.7035825, 0.0)</td>\n",
       "      <td>(London, Greater London, England, SW1A 2DX, Un...</td>\n",
       "      <td>(51.5073219, -0.1276474, 0.0)</td>\n",
       "      <td>(Paris, Île-de-France, France, (48.8566101, 2....</td>\n",
       "      <td>(48.8566101, 2.3514992, 0.0)</td>\n",
       "    </tr>\n",
       "    <tr>\n",
       "      <td>1885</td>\n",
       "      <td>miami</td>\n",
       "      <td>london</td>\n",
       "      <td>madrid</td>\n",
       "      <td>paris</td>\n",
       "      <td>miami</td>\n",
       "      <td>(Miami, Miami-Dade County, Florida, United Sta...</td>\n",
       "      <td>(25.7742658, -80.1936589, 0.0)</td>\n",
       "      <td>(London, Greater London, England, SW1A 2DX, Un...</td>\n",
       "      <td>(51.5073219, -0.1276474, 0.0)</td>\n",
       "      <td>(Madrid, Área metropolitana de Madrid y Corred...</td>\n",
       "      <td>(40.4167047, -3.7035825, 0.0)</td>\n",
=======
       "      <th>1787</th>\n",
       "      <td>Miami</td>\n",
       "      <td>NYC</td>\n",
       "      <td>London</td>\n",
       "      <td>Paris</td>\n",
       "      <td>Miami</td>\n",
       "      <td>(Miami, Miami-Dade County, Florida, United Sta...</td>\n",
       "      <td>(25.7742658, -80.1936589, 0.0)</td>\n",
       "      <td>(New York, United States of America, (40.71272...</td>\n",
       "      <td>(40.7127281, -74.0060152, 0.0)</td>\n",
       "    </tr>\n",
       "    <tr>\n",
       "      <th>358</th>\n",
       "      <td>Miami</td>\n",
       "      <td>Paris</td>\n",
       "      <td>London</td>\n",
       "      <td>NYC</td>\n",
       "      <td>Miami</td>\n",
       "      <td>(Miami, Miami-Dade County, Florida, United Sta...</td>\n",
       "      <td>(25.7742658, -80.1936589, 0.0)</td>\n",
>>>>>>> e2978465e2713fb5f37068aa51051b9580f68670
       "      <td>(Paris, Île-de-France, France, (48.8566101, 2....</td>\n",
       "      <td>(48.8566101, 2.3514992, 0.0)</td>\n",
       "    </tr>\n",
       "    <tr>\n",
<<<<<<< HEAD
       "      <td>5225</td>\n",
       "      <td>miami</td>\n",
       "      <td>paris</td>\n",
       "      <td>london</td>\n",
       "      <td>madrid</td>\n",
       "      <td>miami</td>\n",
       "      <td>(Miami, Miami-Dade County, Florida, United Sta...</td>\n",
       "      <td>(25.7742658, -80.1936589, 0.0)</td>\n",
       "      <td>(Paris, Île-de-France, France, (48.8566101, 2....</td>\n",
       "      <td>(48.8566101, 2.3514992, 0.0)</td>\n",
       "      <td>(London, Greater London, England, SW1A 2DX, Un...</td>\n",
       "      <td>(51.5073219, -0.1276474, 0.0)</td>\n",
       "      <td>(Madrid, Área metropolitana de Madrid y Corred...</td>\n",
       "      <td>(40.4167047, -3.7035825, 0.0)</td>\n",
       "    </tr>\n",
       "    <tr>\n",
       "      <td>3167</td>\n",
       "      <td>miami</td>\n",
       "      <td>madrid</td>\n",
       "      <td>paris</td>\n",
       "      <td>london</td>\n",
       "      <td>miami</td>\n",
       "      <td>(Miami, Miami-Dade County, Florida, United Sta...</td>\n",
       "      <td>(25.7742658, -80.1936589, 0.0)</td>\n",
       "      <td>(Madrid, Área metropolitana de Madrid y Corred...</td>\n",
       "      <td>(40.4167047, -3.7035825, 0.0)</td>\n",
       "      <td>(Paris, Île-de-France, France, (48.8566101, 2....</td>\n",
       "      <td>(48.8566101, 2.3514992, 0.0)</td>\n",
       "      <td>(London, Greater London, England, SW1A 2DX, Un...</td>\n",
       "      <td>(51.5073219, -0.1276474, 0.0)</td>\n",
       "    </tr>\n",
       "    <tr>\n",
       "      <td>340</td>\n",
       "      <td>miami</td>\n",
       "      <td>london</td>\n",
       "      <td>paris</td>\n",
       "      <td>madrid</td>\n",
       "      <td>miami</td>\n",
=======
       "      <th>1384</th>\n",
       "      <td>Miami</td>\n",
       "      <td>London</td>\n",
       "      <td>Paris</td>\n",
       "      <td>NYC</td>\n",
       "      <td>Miami</td>\n",
       "      <td>(Miami, Miami-Dade County, Florida, United Sta...</td>\n",
       "      <td>(25.7742658, -80.1936589, 0.0)</td>\n",
       "      <td>(London, Greater London, England, SW1A 2DX, Un...</td>\n",
       "      <td>(51.5073219, -0.1276474, 0.0)</td>\n",
       "    </tr>\n",
       "    <tr>\n",
       "      <th>452</th>\n",
       "      <td>Miami</td>\n",
       "      <td>NYC</td>\n",
       "      <td>Paris</td>\n",
       "      <td>London</td>\n",
       "      <td>Miami</td>\n",
       "      <td>(Miami, Miami-Dade County, Florida, United Sta...</td>\n",
       "      <td>(25.7742658, -80.1936589, 0.0)</td>\n",
       "      <td>(New York, United States of America, (40.71272...</td>\n",
       "      <td>(40.7127281, -74.0060152, 0.0)</td>\n",
       "    </tr>\n",
       "    <tr>\n",
       "      <th>1671</th>\n",
       "      <td>Miami</td>\n",
       "      <td>London</td>\n",
       "      <td>NYC</td>\n",
       "      <td>Paris</td>\n",
       "      <td>Miami</td>\n",
>>>>>>> e2978465e2713fb5f37068aa51051b9580f68670
       "      <td>(Miami, Miami-Dade County, Florida, United Sta...</td>\n",
       "      <td>(25.7742658, -80.1936589, 0.0)</td>\n",
       "      <td>(London, Greater London, England, SW1A 2DX, Un...</td>\n",
       "      <td>(51.5073219, -0.1276474, 0.0)</td>\n",
<<<<<<< HEAD
       "      <td>(Paris, Île-de-France, France, (48.8566101, 2....</td>\n",
       "      <td>(48.8566101, 2.3514992, 0.0)</td>\n",
       "      <td>(Madrid, Área metropolitana de Madrid y Corred...</td>\n",
       "      <td>(40.4167047, -3.7035825, 0.0)</td>\n",
       "    </tr>\n",
       "    <tr>\n",
       "      <td>2598</td>\n",
       "      <td>miami</td>\n",
       "      <td>paris</td>\n",
       "      <td>madrid</td>\n",
       "      <td>london</td>\n",
       "      <td>miami</td>\n",
=======
       "    </tr>\n",
       "    <tr>\n",
       "      <th>940</th>\n",
       "      <td>Miami</td>\n",
       "      <td>Paris</td>\n",
       "      <td>NYC</td>\n",
       "      <td>London</td>\n",
       "      <td>Miami</td>\n",
>>>>>>> e2978465e2713fb5f37068aa51051b9580f68670
       "      <td>(Miami, Miami-Dade County, Florida, United Sta...</td>\n",
       "      <td>(25.7742658, -80.1936589, 0.0)</td>\n",
       "      <td>(Paris, Île-de-France, France, (48.8566101, 2....</td>\n",
       "      <td>(48.8566101, 2.3514992, 0.0)</td>\n",
<<<<<<< HEAD
       "      <td>(Madrid, Área metropolitana de Madrid y Corred...</td>\n",
       "      <td>(40.4167047, -3.7035825, 0.0)</td>\n",
       "      <td>(London, Greater London, England, SW1A 2DX, Un...</td>\n",
       "      <td>(51.5073219, -0.1276474, 0.0)</td>\n",
=======
>>>>>>> e2978465e2713fb5f37068aa51051b9580f68670
       "    </tr>\n",
       "  </tbody>\n",
       "</table>\n",
       "</div>"
      ],
      "text/plain": [
       "     Starting_Point First_Stop Second_Stop Third_Stop End_Point  \\\n",
<<<<<<< HEAD
       "4134          miami     madrid      london      paris     miami   \n",
       "1885          miami     london      madrid      paris     miami   \n",
       "5225          miami      paris      london     madrid     miami   \n",
       "3167          miami     madrid       paris     london     miami   \n",
       "340           miami     london       paris     madrid     miami   \n",
       "2598          miami      paris      madrid     london     miami   \n",
       "\n",
       "                                               location  \\\n",
       "4134  (Miami, Miami-Dade County, Florida, United Sta...   \n",
       "1885  (Miami, Miami-Dade County, Florida, United Sta...   \n",
       "5225  (Miami, Miami-Dade County, Florida, United Sta...   \n",
       "3167  (Miami, Miami-Dade County, Florida, United Sta...   \n",
       "340   (Miami, Miami-Dade County, Florida, United Sta...   \n",
       "2598  (Miami, Miami-Dade County, Florida, United Sta...   \n",
       "\n",
       "                               point  \\\n",
       "4134  (25.7742658, -80.1936589, 0.0)   \n",
       "1885  (25.7742658, -80.1936589, 0.0)   \n",
       "5225  (25.7742658, -80.1936589, 0.0)   \n",
       "3167  (25.7742658, -80.1936589, 0.0)   \n",
       "340   (25.7742658, -80.1936589, 0.0)   \n",
       "2598  (25.7742658, -80.1936589, 0.0)   \n",
       "\n",
       "                                              location2  \\\n",
       "4134  (Madrid, Área metropolitana de Madrid y Corred...   \n",
       "1885  (London, Greater London, England, SW1A 2DX, Un...   \n",
       "5225  (Paris, Île-de-France, France, (48.8566101, 2....   \n",
       "3167  (Madrid, Área metropolitana de Madrid y Corred...   \n",
       "340   (London, Greater London, England, SW1A 2DX, Un...   \n",
       "2598  (Paris, Île-de-France, France, (48.8566101, 2....   \n",
       "\n",
       "                             point2  \\\n",
       "4134  (40.4167047, -3.7035825, 0.0)   \n",
       "1885  (51.5073219, -0.1276474, 0.0)   \n",
       "5225   (48.8566101, 2.3514992, 0.0)   \n",
       "3167  (40.4167047, -3.7035825, 0.0)   \n",
       "340   (51.5073219, -0.1276474, 0.0)   \n",
       "2598   (48.8566101, 2.3514992, 0.0)   \n",
       "\n",
       "                                              location3  \\\n",
       "4134  (London, Greater London, England, SW1A 2DX, Un...   \n",
       "1885  (Madrid, Área metropolitana de Madrid y Corred...   \n",
       "5225  (London, Greater London, England, SW1A 2DX, Un...   \n",
       "3167  (Paris, Île-de-France, France, (48.8566101, 2....   \n",
       "340   (Paris, Île-de-France, France, (48.8566101, 2....   \n",
       "2598  (Madrid, Área metropolitana de Madrid y Corred...   \n",
       "\n",
       "                             point3  \\\n",
       "4134  (51.5073219, -0.1276474, 0.0)   \n",
       "1885  (40.4167047, -3.7035825, 0.0)   \n",
       "5225  (51.5073219, -0.1276474, 0.0)   \n",
       "3167   (48.8566101, 2.3514992, 0.0)   \n",
       "340    (48.8566101, 2.3514992, 0.0)   \n",
       "2598  (40.4167047, -3.7035825, 0.0)   \n",
       "\n",
       "                                              location4  \\\n",
       "4134  (Paris, Île-de-France, France, (48.8566101, 2....   \n",
       "1885  (Paris, Île-de-France, France, (48.8566101, 2....   \n",
       "5225  (Madrid, Área metropolitana de Madrid y Corred...   \n",
       "3167  (London, Greater London, England, SW1A 2DX, Un...   \n",
       "340   (Madrid, Área metropolitana de Madrid y Corred...   \n",
       "2598  (London, Greater London, England, SW1A 2DX, Un...   \n",
       "\n",
       "                             point4  \n",
       "4134   (48.8566101, 2.3514992, 0.0)  \n",
       "1885   (48.8566101, 2.3514992, 0.0)  \n",
       "5225  (40.4167047, -3.7035825, 0.0)  \n",
       "3167  (51.5073219, -0.1276474, 0.0)  \n",
       "340   (40.4167047, -3.7035825, 0.0)  \n",
       "2598  (51.5073219, -0.1276474, 0.0)  "
      ]
     },
     "execution_count": 24,
=======
       "1787          Miami        NYC      London      Paris     Miami   \n",
       "358           Miami      Paris      London        NYC     Miami   \n",
       "1384          Miami     London       Paris        NYC     Miami   \n",
       "452           Miami        NYC       Paris     London     Miami   \n",
       "1671          Miami     London         NYC      Paris     Miami   \n",
       "940           Miami      Paris         NYC     London     Miami   \n",
       "\n",
       "                                               location  \\\n",
       "1787  (Miami, Miami-Dade County, Florida, United Sta...   \n",
       "358   (Miami, Miami-Dade County, Florida, United Sta...   \n",
       "1384  (Miami, Miami-Dade County, Florida, United Sta...   \n",
       "452   (Miami, Miami-Dade County, Florida, United Sta...   \n",
       "1671  (Miami, Miami-Dade County, Florida, United Sta...   \n",
       "940   (Miami, Miami-Dade County, Florida, United Sta...   \n",
       "\n",
       "                               point  \\\n",
       "1787  (25.7742658, -80.1936589, 0.0)   \n",
       "358   (25.7742658, -80.1936589, 0.0)   \n",
       "1384  (25.7742658, -80.1936589, 0.0)   \n",
       "452   (25.7742658, -80.1936589, 0.0)   \n",
       "1671  (25.7742658, -80.1936589, 0.0)   \n",
       "940   (25.7742658, -80.1936589, 0.0)   \n",
       "\n",
       "                                              location2  \\\n",
       "1787  (New York, United States of America, (40.71272...   \n",
       "358   (Paris, Île-de-France, France, (48.8566101, 2....   \n",
       "1384  (London, Greater London, England, SW1A 2DX, Un...   \n",
       "452   (New York, United States of America, (40.71272...   \n",
       "1671  (London, Greater London, England, SW1A 2DX, Un...   \n",
       "940   (Paris, Île-de-France, France, (48.8566101, 2....   \n",
       "\n",
       "                              point2  \n",
       "1787  (40.7127281, -74.0060152, 0.0)  \n",
       "358     (48.8566101, 2.3514992, 0.0)  \n",
       "1384   (51.5073219, -0.1276474, 0.0)  \n",
       "452   (40.7127281, -74.0060152, 0.0)  \n",
       "1671   (51.5073219, -0.1276474, 0.0)  \n",
       "940     (48.8566101, 2.3514992, 0.0)  "
      ]
     },
     "execution_count": 19,
>>>>>>> e2978465e2713fb5f37068aa51051b9580f68670
     "metadata": {},
     "output_type": "execute_result"
    }
   ],
   "source": [
    "destination_df"
   ]
  },
  {
   "cell_type": "code",
<<<<<<< HEAD
   "execution_count": 27,
   "metadata": {},
   "outputs": [
    {
     "data": {
      "text/html": [
       "<div>\n",
       "<style scoped>\n",
       "    .dataframe tbody tr th:only-of-type {\n",
       "        vertical-align: middle;\n",
       "    }\n",
       "\n",
       "    .dataframe tbody tr th {\n",
       "        vertical-align: top;\n",
       "    }\n",
       "\n",
       "    .dataframe thead th {\n",
       "        text-align: right;\n",
       "    }\n",
       "</style>\n",
       "<table border=\"1\" class=\"dataframe\">\n",
       "  <thead>\n",
       "    <tr style=\"text-align: right;\">\n",
       "      <th></th>\n",
       "      <th>point</th>\n",
       "      <th>point2</th>\n",
       "      <th>point3</th>\n",
       "      <th>point4</th>\n",
       "      <th>point</th>\n",
       "    </tr>\n",
       "  </thead>\n",
       "  <tbody>\n",
       "    <tr>\n",
       "      <td>4134</td>\n",
       "      <td>(25.7742658, -80.1936589, 0.0)</td>\n",
       "      <td>(40.4167047, -3.7035825, 0.0)</td>\n",
       "      <td>(51.5073219, -0.1276474, 0.0)</td>\n",
       "      <td>(48.8566101, 2.3514992, 0.0)</td>\n",
       "      <td>(25.7742658, -80.1936589, 0.0)</td>\n",
       "    </tr>\n",
       "    <tr>\n",
       "      <td>1885</td>\n",
       "      <td>(25.7742658, -80.1936589, 0.0)</td>\n",
       "      <td>(51.5073219, -0.1276474, 0.0)</td>\n",
       "      <td>(40.4167047, -3.7035825, 0.0)</td>\n",
       "      <td>(48.8566101, 2.3514992, 0.0)</td>\n",
       "      <td>(25.7742658, -80.1936589, 0.0)</td>\n",
       "    </tr>\n",
       "    <tr>\n",
       "      <td>5225</td>\n",
       "      <td>(25.7742658, -80.1936589, 0.0)</td>\n",
       "      <td>(48.8566101, 2.3514992, 0.0)</td>\n",
       "      <td>(51.5073219, -0.1276474, 0.0)</td>\n",
       "      <td>(40.4167047, -3.7035825, 0.0)</td>\n",
       "      <td>(25.7742658, -80.1936589, 0.0)</td>\n",
       "    </tr>\n",
       "    <tr>\n",
       "      <td>3167</td>\n",
       "      <td>(25.7742658, -80.1936589, 0.0)</td>\n",
       "      <td>(40.4167047, -3.7035825, 0.0)</td>\n",
       "      <td>(48.8566101, 2.3514992, 0.0)</td>\n",
       "      <td>(51.5073219, -0.1276474, 0.0)</td>\n",
       "      <td>(25.7742658, -80.1936589, 0.0)</td>\n",
       "    </tr>\n",
       "    <tr>\n",
       "      <td>340</td>\n",
       "      <td>(25.7742658, -80.1936589, 0.0)</td>\n",
       "      <td>(51.5073219, -0.1276474, 0.0)</td>\n",
       "      <td>(48.8566101, 2.3514992, 0.0)</td>\n",
       "      <td>(40.4167047, -3.7035825, 0.0)</td>\n",
       "      <td>(25.7742658, -80.1936589, 0.0)</td>\n",
       "    </tr>\n",
       "    <tr>\n",
       "      <td>2598</td>\n",
       "      <td>(25.7742658, -80.1936589, 0.0)</td>\n",
       "      <td>(48.8566101, 2.3514992, 0.0)</td>\n",
       "      <td>(40.4167047, -3.7035825, 0.0)</td>\n",
       "      <td>(51.5073219, -0.1276474, 0.0)</td>\n",
       "      <td>(25.7742658, -80.1936589, 0.0)</td>\n",
       "    </tr>\n",
       "  </tbody>\n",
       "</table>\n",
       "</div>"
      ],
      "text/plain": [
       "                               point                         point2  \\\n",
       "4134  (25.7742658, -80.1936589, 0.0)  (40.4167047, -3.7035825, 0.0)   \n",
       "1885  (25.7742658, -80.1936589, 0.0)  (51.5073219, -0.1276474, 0.0)   \n",
       "5225  (25.7742658, -80.1936589, 0.0)   (48.8566101, 2.3514992, 0.0)   \n",
       "3167  (25.7742658, -80.1936589, 0.0)  (40.4167047, -3.7035825, 0.0)   \n",
       "340   (25.7742658, -80.1936589, 0.0)  (51.5073219, -0.1276474, 0.0)   \n",
       "2598  (25.7742658, -80.1936589, 0.0)   (48.8566101, 2.3514992, 0.0)   \n",
       "\n",
       "                             point3                         point4  \\\n",
       "4134  (51.5073219, -0.1276474, 0.0)   (48.8566101, 2.3514992, 0.0)   \n",
       "1885  (40.4167047, -3.7035825, 0.0)   (48.8566101, 2.3514992, 0.0)   \n",
       "5225  (51.5073219, -0.1276474, 0.0)  (40.4167047, -3.7035825, 0.0)   \n",
       "3167   (48.8566101, 2.3514992, 0.0)  (51.5073219, -0.1276474, 0.0)   \n",
       "340    (48.8566101, 2.3514992, 0.0)  (40.4167047, -3.7035825, 0.0)   \n",
       "2598  (40.4167047, -3.7035825, 0.0)  (51.5073219, -0.1276474, 0.0)   \n",
       "\n",
       "                               point  \n",
       "4134  (25.7742658, -80.1936589, 0.0)  \n",
       "1885  (25.7742658, -80.1936589, 0.0)  \n",
       "5225  (25.7742658, -80.1936589, 0.0)  \n",
       "3167  (25.7742658, -80.1936589, 0.0)  \n",
       "340   (25.7742658, -80.1936589, 0.0)  \n",
       "2598  (25.7742658, -80.1936589, 0.0)  "
      ]
     },
     "execution_count": 27,
     "metadata": {},
     "output_type": "execute_result"
    }
   ],
   "source": [
    "coorddesti_df = destination_df[['point','point2','point3','point4','point']]\n",
    "coorddesti_df"
   ]
  },
  {
   "cell_type": "code",
   "execution_count": 28,
   "metadata": {},
   "outputs": [
    {
     "data": {
      "text/html": [
       "<div>\n",
       "<style scoped>\n",
       "    .dataframe tbody tr th:only-of-type {\n",
       "        vertical-align: middle;\n",
       "    }\n",
       "\n",
       "    .dataframe tbody tr th {\n",
       "        vertical-align: top;\n",
       "    }\n",
       "\n",
       "    .dataframe thead th {\n",
       "        text-align: right;\n",
       "    }\n",
       "</style>\n",
       "<table border=\"1\" class=\"dataframe\">\n",
       "  <thead>\n",
       "    <tr style=\"text-align: right;\">\n",
       "      <th></th>\n",
       "      <th>point</th>\n",
       "      <th>point2</th>\n",
       "      <th>point3</th>\n",
       "      <th>point4</th>\n",
       "      <th>point</th>\n",
       "      <th>price</th>\n",
       "      <th>agonies</th>\n",
       "      <th>Starting_Point</th>\n",
       "      <th>Starting_Date</th>\n",
       "      <th>First_Stop</th>\n",
       "      <th>Departure_1</th>\n",
       "      <th>Second_Stop</th>\n",
       "      <th>Departure_2</th>\n",
       "      <th>Third_Stop</th>\n",
       "      <th>Departure_3</th>\n",
       "      <th>End_Point</th>\n",
       "      <th>Itinerary_#</th>\n",
       "    </tr>\n",
       "  </thead>\n",
       "  <tbody>\n",
       "    <tr>\n",
       "      <td>4134</td>\n",
       "      <td>(25.7742658, -80.1936589, 0.0)</td>\n",
       "      <td>(40.4167047, -3.7035825, 0.0)</td>\n",
       "      <td>(51.5073219, -0.1276474, 0.0)</td>\n",
       "      <td>(48.8566101, 2.3514992, 0.0)</td>\n",
       "      <td>(25.7742658, -80.1936589, 0.0)</td>\n",
       "      <td>756.0</td>\n",
       "      <td>1892.829071</td>\n",
       "      <td>miami</td>\n",
       "      <td>2019-12-01</td>\n",
       "      <td>madrid</td>\n",
       "      <td>2019-12-05</td>\n",
       "      <td>london</td>\n",
       "      <td>2019-12-08</td>\n",
       "      <td>paris</td>\n",
       "      <td>2019-12-13</td>\n",
       "      <td>miami</td>\n",
       "      <td>95b1d37a22c0ee37b03ffe6912fc4bee</td>\n",
       "    </tr>\n",
       "    <tr>\n",
       "      <td>1885</td>\n",
       "      <td>(25.7742658, -80.1936589, 0.0)</td>\n",
       "      <td>(51.5073219, -0.1276474, 0.0)</td>\n",
       "      <td>(40.4167047, -3.7035825, 0.0)</td>\n",
       "      <td>(48.8566101, 2.3514992, 0.0)</td>\n",
       "      <td>(25.7742658, -80.1936589, 0.0)</td>\n",
       "      <td>836.0</td>\n",
       "      <td>2089.246992</td>\n",
       "      <td>miami</td>\n",
       "      <td>2019-12-01</td>\n",
       "      <td>london</td>\n",
       "      <td>2019-12-04</td>\n",
       "      <td>madrid</td>\n",
       "      <td>2019-12-08</td>\n",
       "      <td>paris</td>\n",
       "      <td>2019-12-13</td>\n",
       "      <td>miami</td>\n",
       "      <td>31d0d781689ff8c075dda41187eb75e8</td>\n",
       "    </tr>\n",
       "    <tr>\n",
       "      <td>5225</td>\n",
       "      <td>(25.7742658, -80.1936589, 0.0)</td>\n",
       "      <td>(48.8566101, 2.3514992, 0.0)</td>\n",
       "      <td>(51.5073219, -0.1276474, 0.0)</td>\n",
       "      <td>(40.4167047, -3.7035825, 0.0)</td>\n",
       "      <td>(25.7742658, -80.1936589, 0.0)</td>\n",
       "      <td>907.0</td>\n",
       "      <td>2452.744867</td>\n",
       "      <td>miami</td>\n",
       "      <td>2019-12-01</td>\n",
       "      <td>paris</td>\n",
       "      <td>2019-12-06</td>\n",
       "      <td>london</td>\n",
       "      <td>2019-12-09</td>\n",
       "      <td>madrid</td>\n",
       "      <td>2019-12-13</td>\n",
       "      <td>miami</td>\n",
       "      <td>41e88f9b9283309febf909ef2dfd6056</td>\n",
       "    </tr>\n",
       "    <tr>\n",
       "      <td>3167</td>\n",
       "      <td>(25.7742658, -80.1936589, 0.0)</td>\n",
       "      <td>(40.4167047, -3.7035825, 0.0)</td>\n",
       "      <td>(48.8566101, 2.3514992, 0.0)</td>\n",
       "      <td>(51.5073219, -0.1276474, 0.0)</td>\n",
       "      <td>(25.7742658, -80.1936589, 0.0)</td>\n",
       "      <td>921.0</td>\n",
       "      <td>2266.817580</td>\n",
       "      <td>miami</td>\n",
       "      <td>2019-12-01</td>\n",
       "      <td>madrid</td>\n",
       "      <td>2019-12-05</td>\n",
       "      <td>paris</td>\n",
       "      <td>2019-12-10</td>\n",
       "      <td>london</td>\n",
       "      <td>2019-12-13</td>\n",
       "      <td>miami</td>\n",
       "      <td>687b5badf9925da67bcf8848d6c99373</td>\n",
       "    </tr>\n",
       "    <tr>\n",
       "      <td>340</td>\n",
       "      <td>(25.7742658, -80.1936589, 0.0)</td>\n",
       "      <td>(51.5073219, -0.1276474, 0.0)</td>\n",
       "      <td>(48.8566101, 2.3514992, 0.0)</td>\n",
       "      <td>(40.4167047, -3.7035825, 0.0)</td>\n",
       "      <td>(25.7742658, -80.1936589, 0.0)</td>\n",
       "      <td>948.0</td>\n",
       "      <td>2591.407324</td>\n",
       "      <td>miami</td>\n",
       "      <td>2019-12-01</td>\n",
       "      <td>london</td>\n",
       "      <td>2019-12-04</td>\n",
       "      <td>paris</td>\n",
       "      <td>2019-12-09</td>\n",
       "      <td>madrid</td>\n",
       "      <td>2019-12-13</td>\n",
       "      <td>miami</td>\n",
       "      <td>4b4457350814fb577ff2e8e1420dcb30</td>\n",
       "    </tr>\n",
       "    <tr>\n",
       "      <td>2598</td>\n",
       "      <td>(25.7742658, -80.1936589, 0.0)</td>\n",
       "      <td>(48.8566101, 2.3514992, 0.0)</td>\n",
       "      <td>(40.4167047, -3.7035825, 0.0)</td>\n",
       "      <td>(51.5073219, -0.1276474, 0.0)</td>\n",
       "      <td>(25.7742658, -80.1936589, 0.0)</td>\n",
       "      <td>952.0</td>\n",
       "      <td>2247.553815</td>\n",
       "      <td>miami</td>\n",
       "      <td>2019-12-01</td>\n",
       "      <td>paris</td>\n",
       "      <td>2019-12-06</td>\n",
       "      <td>madrid</td>\n",
       "      <td>2019-12-10</td>\n",
       "      <td>london</td>\n",
       "      <td>2019-12-13</td>\n",
       "      <td>miami</td>\n",
       "      <td>74f5e47de4ead87b3018c60b7799db2c</td>\n",
       "    </tr>\n",
       "  </tbody>\n",
       "</table>\n",
       "</div>"
      ],
      "text/plain": [
       "                               point                         point2  \\\n",
       "4134  (25.7742658, -80.1936589, 0.0)  (40.4167047, -3.7035825, 0.0)   \n",
       "1885  (25.7742658, -80.1936589, 0.0)  (51.5073219, -0.1276474, 0.0)   \n",
       "5225  (25.7742658, -80.1936589, 0.0)   (48.8566101, 2.3514992, 0.0)   \n",
       "3167  (25.7742658, -80.1936589, 0.0)  (40.4167047, -3.7035825, 0.0)   \n",
       "340   (25.7742658, -80.1936589, 0.0)  (51.5073219, -0.1276474, 0.0)   \n",
       "2598  (25.7742658, -80.1936589, 0.0)   (48.8566101, 2.3514992, 0.0)   \n",
       "\n",
       "                             point3                         point4  \\\n",
       "4134  (51.5073219, -0.1276474, 0.0)   (48.8566101, 2.3514992, 0.0)   \n",
       "1885  (40.4167047, -3.7035825, 0.0)   (48.8566101, 2.3514992, 0.0)   \n",
       "5225  (51.5073219, -0.1276474, 0.0)  (40.4167047, -3.7035825, 0.0)   \n",
       "3167   (48.8566101, 2.3514992, 0.0)  (51.5073219, -0.1276474, 0.0)   \n",
       "340    (48.8566101, 2.3514992, 0.0)  (40.4167047, -3.7035825, 0.0)   \n",
       "2598  (40.4167047, -3.7035825, 0.0)  (51.5073219, -0.1276474, 0.0)   \n",
       "\n",
       "                               point  price      agonies Starting_Point  \\\n",
       "4134  (25.7742658, -80.1936589, 0.0)  756.0  1892.829071          miami   \n",
       "1885  (25.7742658, -80.1936589, 0.0)  836.0  2089.246992          miami   \n",
       "5225  (25.7742658, -80.1936589, 0.0)  907.0  2452.744867          miami   \n",
       "3167  (25.7742658, -80.1936589, 0.0)  921.0  2266.817580          miami   \n",
       "340   (25.7742658, -80.1936589, 0.0)  948.0  2591.407324          miami   \n",
       "2598  (25.7742658, -80.1936589, 0.0)  952.0  2247.553815          miami   \n",
       "\n",
       "     Starting_Date First_Stop Departure_1 Second_Stop Departure_2 Third_Stop  \\\n",
       "4134    2019-12-01     madrid  2019-12-05      london  2019-12-08      paris   \n",
       "1885    2019-12-01     london  2019-12-04      madrid  2019-12-08      paris   \n",
       "5225    2019-12-01      paris  2019-12-06      london  2019-12-09     madrid   \n",
       "3167    2019-12-01     madrid  2019-12-05       paris  2019-12-10     london   \n",
       "340     2019-12-01     london  2019-12-04       paris  2019-12-09     madrid   \n",
       "2598    2019-12-01      paris  2019-12-06      madrid  2019-12-10     london   \n",
       "\n",
       "     Departure_3 End_Point                       Itinerary_#  \n",
       "4134  2019-12-13     miami  95b1d37a22c0ee37b03ffe6912fc4bee  \n",
       "1885  2019-12-13     miami  31d0d781689ff8c075dda41187eb75e8  \n",
       "5225  2019-12-13     miami  41e88f9b9283309febf909ef2dfd6056  \n",
       "3167  2019-12-13     miami  687b5badf9925da67bcf8848d6c99373  \n",
       "340   2019-12-13     miami  4b4457350814fb577ff2e8e1420dcb30  \n",
       "2598  2019-12-13     miami  74f5e47de4ead87b3018c60b7799db2c  "
      ]
     },
     "execution_count": 28,
     "metadata": {},
     "output_type": "execute_result"
    }
   ],
   "source": [
    "mergedDf = coorddesti_df.merge(df_fullnew, left_index=True, right_index=True)\n",
    "mergedDf"
   ]
  },
  {
   "cell_type": "code",
   "execution_count": 33,
   "metadata": {},
   "outputs": [
    {
     "data": {
      "application/vnd.plotly.v1+json": {
       "config": {
        "plotlyServerURL": "https://plot.ly"
       },
       "data": [
        {
         "marker": {
          "size": 5
         },
         "mode": "markers+lines",
         "type": "scattermapbox"
        },
        {
         "lat": [
          25.7742658,
          40.4167047,
          51.5073219,
          48.8566101,
          25.7742658
         ],
         "lon": [
          -80.1936589,
          -3.7035825,
          -0.1276474,
          2.3514992,
          -80.1936589
         ],
         "marker": {
          "size": 5
         },
         "mode": "markers+lines",
         "type": "scattermapbox"
        }
       ],
       "layout": {
        "mapbox": {
         "center": {
          "lat": -20,
          "lon": -20
         },
         "style": "stamen-terrain",
         "zoom": 1
        },
        "margin": {
         "b": 0,
         "l": 0,
         "r": 0,
         "t": 0
        },
        "template": {
         "data": {
          "bar": [
           {
            "error_x": {
             "color": "#2a3f5f"
            },
            "error_y": {
             "color": "#2a3f5f"
            },
            "marker": {
             "line": {
              "color": "#E5ECF6",
              "width": 0.5
             }
            },
            "type": "bar"
           }
          ],
          "barpolar": [
           {
            "marker": {
             "line": {
              "color": "#E5ECF6",
              "width": 0.5
             }
            },
            "type": "barpolar"
           }
          ],
          "carpet": [
           {
            "aaxis": {
             "endlinecolor": "#2a3f5f",
             "gridcolor": "white",
             "linecolor": "white",
             "minorgridcolor": "white",
             "startlinecolor": "#2a3f5f"
            },
            "baxis": {
             "endlinecolor": "#2a3f5f",
             "gridcolor": "white",
             "linecolor": "white",
             "minorgridcolor": "white",
             "startlinecolor": "#2a3f5f"
            },
            "type": "carpet"
           }
          ],
          "choropleth": [
           {
            "colorbar": {
             "outlinewidth": 0,
             "ticks": ""
            },
            "type": "choropleth"
           }
          ],
          "contour": [
           {
            "colorbar": {
             "outlinewidth": 0,
             "ticks": ""
            },
            "colorscale": [
             [
              0,
              "#0d0887"
             ],
             [
              0.1111111111111111,
              "#46039f"
             ],
             [
              0.2222222222222222,
              "#7201a8"
             ],
             [
              0.3333333333333333,
              "#9c179e"
             ],
             [
              0.4444444444444444,
              "#bd3786"
             ],
             [
              0.5555555555555556,
              "#d8576b"
             ],
             [
              0.6666666666666666,
              "#ed7953"
             ],
             [
              0.7777777777777778,
              "#fb9f3a"
             ],
             [
              0.8888888888888888,
              "#fdca26"
             ],
             [
              1,
              "#f0f921"
             ]
            ],
            "type": "contour"
           }
          ],
          "contourcarpet": [
           {
            "colorbar": {
             "outlinewidth": 0,
             "ticks": ""
            },
            "type": "contourcarpet"
           }
          ],
          "heatmap": [
           {
            "colorbar": {
             "outlinewidth": 0,
             "ticks": ""
            },
            "colorscale": [
             [
              0,
              "#0d0887"
             ],
             [
              0.1111111111111111,
              "#46039f"
             ],
             [
              0.2222222222222222,
              "#7201a8"
             ],
             [
              0.3333333333333333,
              "#9c179e"
             ],
             [
              0.4444444444444444,
              "#bd3786"
             ],
             [
              0.5555555555555556,
              "#d8576b"
             ],
             [
              0.6666666666666666,
              "#ed7953"
             ],
             [
              0.7777777777777778,
              "#fb9f3a"
             ],
             [
              0.8888888888888888,
              "#fdca26"
             ],
             [
              1,
              "#f0f921"
             ]
            ],
            "type": "heatmap"
           }
          ],
          "heatmapgl": [
           {
            "colorbar": {
             "outlinewidth": 0,
             "ticks": ""
            },
            "colorscale": [
             [
              0,
              "#0d0887"
             ],
             [
              0.1111111111111111,
              "#46039f"
             ],
             [
              0.2222222222222222,
              "#7201a8"
             ],
             [
              0.3333333333333333,
              "#9c179e"
             ],
             [
              0.4444444444444444,
              "#bd3786"
             ],
             [
              0.5555555555555556,
              "#d8576b"
             ],
             [
              0.6666666666666666,
              "#ed7953"
             ],
             [
              0.7777777777777778,
              "#fb9f3a"
             ],
             [
              0.8888888888888888,
              "#fdca26"
             ],
             [
              1,
              "#f0f921"
             ]
            ],
            "type": "heatmapgl"
           }
          ],
          "histogram": [
           {
            "marker": {
             "colorbar": {
              "outlinewidth": 0,
              "ticks": ""
             }
            },
            "type": "histogram"
           }
          ],
          "histogram2d": [
           {
            "colorbar": {
             "outlinewidth": 0,
             "ticks": ""
            },
            "colorscale": [
             [
              0,
              "#0d0887"
             ],
             [
              0.1111111111111111,
              "#46039f"
             ],
             [
              0.2222222222222222,
              "#7201a8"
             ],
             [
              0.3333333333333333,
              "#9c179e"
             ],
             [
              0.4444444444444444,
              "#bd3786"
             ],
             [
              0.5555555555555556,
              "#d8576b"
             ],
             [
              0.6666666666666666,
              "#ed7953"
             ],
             [
              0.7777777777777778,
              "#fb9f3a"
             ],
             [
              0.8888888888888888,
              "#fdca26"
             ],
             [
              1,
              "#f0f921"
             ]
            ],
            "type": "histogram2d"
           }
          ],
          "histogram2dcontour": [
           {
            "colorbar": {
             "outlinewidth": 0,
             "ticks": ""
            },
            "colorscale": [
             [
              0,
              "#0d0887"
             ],
             [
              0.1111111111111111,
              "#46039f"
             ],
             [
              0.2222222222222222,
              "#7201a8"
             ],
             [
              0.3333333333333333,
              "#9c179e"
             ],
             [
              0.4444444444444444,
              "#bd3786"
             ],
             [
              0.5555555555555556,
              "#d8576b"
             ],
             [
              0.6666666666666666,
              "#ed7953"
             ],
             [
              0.7777777777777778,
              "#fb9f3a"
             ],
             [
              0.8888888888888888,
              "#fdca26"
             ],
             [
              1,
              "#f0f921"
             ]
            ],
            "type": "histogram2dcontour"
           }
          ],
          "mesh3d": [
           {
            "colorbar": {
             "outlinewidth": 0,
             "ticks": ""
            },
            "type": "mesh3d"
           }
          ],
          "parcoords": [
           {
            "line": {
             "colorbar": {
              "outlinewidth": 0,
              "ticks": ""
             }
            },
            "type": "parcoords"
           }
          ],
          "pie": [
           {
            "automargin": true,
            "type": "pie"
           }
          ],
          "scatter": [
           {
            "marker": {
             "colorbar": {
              "outlinewidth": 0,
              "ticks": ""
             }
            },
            "type": "scatter"
           }
          ],
          "scatter3d": [
           {
            "line": {
             "colorbar": {
              "outlinewidth": 0,
              "ticks": ""
             }
            },
            "marker": {
             "colorbar": {
              "outlinewidth": 0,
              "ticks": ""
             }
            },
            "type": "scatter3d"
           }
          ],
          "scattercarpet": [
           {
            "marker": {
             "colorbar": {
              "outlinewidth": 0,
              "ticks": ""
             }
            },
            "type": "scattercarpet"
           }
          ],
          "scattergeo": [
           {
            "marker": {
             "colorbar": {
              "outlinewidth": 0,
              "ticks": ""
             }
            },
            "type": "scattergeo"
           }
          ],
          "scattergl": [
           {
            "marker": {
             "colorbar": {
              "outlinewidth": 0,
              "ticks": ""
             }
            },
            "type": "scattergl"
           }
          ],
          "scattermapbox": [
           {
            "marker": {
             "colorbar": {
              "outlinewidth": 0,
              "ticks": ""
             }
            },
            "type": "scattermapbox"
           }
          ],
          "scatterpolar": [
           {
            "marker": {
             "colorbar": {
              "outlinewidth": 0,
              "ticks": ""
             }
            },
            "type": "scatterpolar"
           }
          ],
          "scatterpolargl": [
           {
            "marker": {
             "colorbar": {
              "outlinewidth": 0,
              "ticks": ""
             }
            },
            "type": "scatterpolargl"
           }
          ],
          "scatterternary": [
           {
            "marker": {
             "colorbar": {
              "outlinewidth": 0,
              "ticks": ""
             }
            },
            "type": "scatterternary"
           }
          ],
          "surface": [
           {
            "colorbar": {
             "outlinewidth": 0,
             "ticks": ""
            },
            "colorscale": [
             [
              0,
              "#0d0887"
             ],
             [
              0.1111111111111111,
              "#46039f"
             ],
             [
              0.2222222222222222,
              "#7201a8"
             ],
             [
              0.3333333333333333,
              "#9c179e"
             ],
             [
              0.4444444444444444,
              "#bd3786"
             ],
             [
              0.5555555555555556,
              "#d8576b"
             ],
             [
              0.6666666666666666,
              "#ed7953"
             ],
             [
              0.7777777777777778,
              "#fb9f3a"
             ],
             [
              0.8888888888888888,
              "#fdca26"
             ],
             [
              1,
              "#f0f921"
             ]
            ],
            "type": "surface"
           }
          ],
          "table": [
           {
            "cells": {
             "fill": {
              "color": "#EBF0F8"
             },
             "line": {
              "color": "white"
             }
            },
            "header": {
             "fill": {
              "color": "#C8D4E3"
             },
             "line": {
              "color": "white"
             }
            },
            "type": "table"
           }
          ]
         },
         "layout": {
          "annotationdefaults": {
           "arrowcolor": "#2a3f5f",
           "arrowhead": 0,
           "arrowwidth": 1
          },
          "coloraxis": {
           "colorbar": {
            "outlinewidth": 0,
            "ticks": ""
           }
          },
          "colorscale": {
           "diverging": [
            [
             0,
             "#8e0152"
            ],
            [
             0.1,
             "#c51b7d"
            ],
            [
             0.2,
             "#de77ae"
            ],
            [
             0.3,
             "#f1b6da"
            ],
            [
             0.4,
             "#fde0ef"
            ],
            [
             0.5,
             "#f7f7f7"
            ],
            [
             0.6,
             "#e6f5d0"
            ],
            [
             0.7,
             "#b8e186"
            ],
            [
             0.8,
             "#7fbc41"
            ],
            [
             0.9,
             "#4d9221"
            ],
            [
             1,
             "#276419"
            ]
           ],
           "sequential": [
            [
             0,
             "#0d0887"
            ],
            [
             0.1111111111111111,
             "#46039f"
            ],
            [
             0.2222222222222222,
             "#7201a8"
            ],
            [
             0.3333333333333333,
             "#9c179e"
            ],
            [
             0.4444444444444444,
             "#bd3786"
            ],
            [
             0.5555555555555556,
             "#d8576b"
            ],
            [
             0.6666666666666666,
             "#ed7953"
            ],
            [
             0.7777777777777778,
             "#fb9f3a"
            ],
            [
             0.8888888888888888,
             "#fdca26"
            ],
            [
             1,
             "#f0f921"
            ]
           ],
           "sequentialminus": [
            [
             0,
             "#0d0887"
            ],
            [
             0.1111111111111111,
             "#46039f"
            ],
            [
             0.2222222222222222,
             "#7201a8"
            ],
            [
             0.3333333333333333,
             "#9c179e"
            ],
            [
             0.4444444444444444,
             "#bd3786"
            ],
            [
             0.5555555555555556,
             "#d8576b"
            ],
            [
             0.6666666666666666,
             "#ed7953"
            ],
            [
             0.7777777777777778,
             "#fb9f3a"
            ],
            [
             0.8888888888888888,
             "#fdca26"
            ],
            [
             1,
             "#f0f921"
            ]
           ]
          },
          "colorway": [
           "#636efa",
           "#EF553B",
           "#00cc96",
           "#ab63fa",
           "#FFA15A",
           "#19d3f3",
           "#FF6692",
           "#B6E880",
           "#FF97FF",
           "#FECB52"
          ],
          "font": {
           "color": "#2a3f5f"
          },
          "geo": {
           "bgcolor": "white",
           "lakecolor": "white",
           "landcolor": "#E5ECF6",
           "showlakes": true,
           "showland": true,
           "subunitcolor": "white"
          },
          "hoverlabel": {
           "align": "left"
          },
          "hovermode": "closest",
          "mapbox": {
           "style": "light"
          },
          "paper_bgcolor": "white",
          "plot_bgcolor": "#E5ECF6",
          "polar": {
           "angularaxis": {
            "gridcolor": "white",
            "linecolor": "white",
            "ticks": ""
           },
           "bgcolor": "#E5ECF6",
           "radialaxis": {
            "gridcolor": "white",
            "linecolor": "white",
            "ticks": ""
           }
          },
          "scene": {
           "xaxis": {
            "backgroundcolor": "#E5ECF6",
            "gridcolor": "white",
            "gridwidth": 2,
            "linecolor": "white",
            "showbackground": true,
            "ticks": "",
            "zerolinecolor": "white"
           },
           "yaxis": {
            "backgroundcolor": "#E5ECF6",
            "gridcolor": "white",
            "gridwidth": 2,
            "linecolor": "white",
            "showbackground": true,
            "ticks": "",
            "zerolinecolor": "white"
           },
           "zaxis": {
            "backgroundcolor": "#E5ECF6",
            "gridcolor": "white",
            "gridwidth": 2,
            "linecolor": "white",
            "showbackground": true,
            "ticks": "",
            "zerolinecolor": "white"
           }
          },
          "shapedefaults": {
           "line": {
            "color": "#2a3f5f"
           }
          },
          "ternary": {
           "aaxis": {
            "gridcolor": "white",
            "linecolor": "white",
            "ticks": ""
           },
           "baxis": {
            "gridcolor": "white",
            "linecolor": "white",
            "ticks": ""
           },
           "bgcolor": "#E5ECF6",
           "caxis": {
            "gridcolor": "white",
            "linecolor": "white",
            "ticks": ""
           }
          },
          "title": {
           "x": 0.05
          },
          "xaxis": {
           "automargin": true,
           "gridcolor": "white",
           "linecolor": "white",
           "ticks": "",
           "title": {
            "standoff": 15
           },
           "zerolinecolor": "white",
           "zerolinewidth": 2
          },
          "yaxis": {
           "automargin": true,
           "gridcolor": "white",
           "linecolor": "white",
           "ticks": "",
           "title": {
            "standoff": 15
           },
           "zerolinecolor": "white",
           "zerolinewidth": 2
          }
         }
        }
       }
      },
      "text/html": [
       "<div>\n",
       "        \n",
       "        \n",
       "            <div id=\"e075733a-f42d-46c2-a4ae-766a34334fa3\" class=\"plotly-graph-div\" style=\"height:525px; width:100%;\"></div>\n",
       "            <script type=\"text/javascript\">\n",
       "                require([\"plotly\"], function(Plotly) {\n",
       "                    window.PLOTLYENV=window.PLOTLYENV || {};\n",
       "                    \n",
       "                if (document.getElementById(\"e075733a-f42d-46c2-a4ae-766a34334fa3\")) {\n",
       "                    Plotly.newPlot(\n",
       "                        'e075733a-f42d-46c2-a4ae-766a34334fa3',\n",
       "                        [{\"marker\": {\"size\": 5}, \"mode\": \"markers+lines\", \"type\": \"scattermapbox\"}, {\"lat\": [25.7742658, 40.4167047, 51.5073219, 48.8566101, 25.7742658], \"lon\": [-80.1936589, -3.7035825, -0.1276474, 2.3514992, -80.1936589], \"marker\": {\"size\": 5}, \"mode\": \"markers+lines\", \"type\": \"scattermapbox\"}],\n",
       "                        {\"mapbox\": {\"center\": {\"lat\": -20, \"lon\": -20}, \"style\": \"stamen-terrain\", \"zoom\": 1}, \"margin\": {\"b\": 0, \"l\": 0, \"r\": 0, \"t\": 0}, \"template\": {\"data\": {\"bar\": [{\"error_x\": {\"color\": \"#2a3f5f\"}, \"error_y\": {\"color\": \"#2a3f5f\"}, \"marker\": {\"line\": {\"color\": \"#E5ECF6\", \"width\": 0.5}}, \"type\": \"bar\"}], \"barpolar\": [{\"marker\": {\"line\": {\"color\": \"#E5ECF6\", \"width\": 0.5}}, \"type\": \"barpolar\"}], \"carpet\": [{\"aaxis\": {\"endlinecolor\": \"#2a3f5f\", \"gridcolor\": \"white\", \"linecolor\": \"white\", \"minorgridcolor\": \"white\", \"startlinecolor\": \"#2a3f5f\"}, \"baxis\": {\"endlinecolor\": \"#2a3f5f\", \"gridcolor\": \"white\", \"linecolor\": \"white\", \"minorgridcolor\": \"white\", \"startlinecolor\": \"#2a3f5f\"}, \"type\": \"carpet\"}], \"choropleth\": [{\"colorbar\": {\"outlinewidth\": 0, \"ticks\": \"\"}, \"type\": \"choropleth\"}], \"contour\": [{\"colorbar\": {\"outlinewidth\": 0, \"ticks\": \"\"}, \"colorscale\": [[0.0, \"#0d0887\"], [0.1111111111111111, \"#46039f\"], [0.2222222222222222, \"#7201a8\"], [0.3333333333333333, \"#9c179e\"], [0.4444444444444444, \"#bd3786\"], [0.5555555555555556, \"#d8576b\"], [0.6666666666666666, \"#ed7953\"], [0.7777777777777778, \"#fb9f3a\"], [0.8888888888888888, \"#fdca26\"], [1.0, \"#f0f921\"]], \"type\": \"contour\"}], \"contourcarpet\": [{\"colorbar\": {\"outlinewidth\": 0, \"ticks\": \"\"}, \"type\": \"contourcarpet\"}], \"heatmap\": [{\"colorbar\": {\"outlinewidth\": 0, \"ticks\": \"\"}, \"colorscale\": [[0.0, \"#0d0887\"], [0.1111111111111111, \"#46039f\"], [0.2222222222222222, \"#7201a8\"], [0.3333333333333333, \"#9c179e\"], [0.4444444444444444, \"#bd3786\"], [0.5555555555555556, \"#d8576b\"], [0.6666666666666666, \"#ed7953\"], [0.7777777777777778, \"#fb9f3a\"], [0.8888888888888888, \"#fdca26\"], [1.0, \"#f0f921\"]], \"type\": \"heatmap\"}], \"heatmapgl\": [{\"colorbar\": {\"outlinewidth\": 0, \"ticks\": \"\"}, \"colorscale\": [[0.0, \"#0d0887\"], [0.1111111111111111, \"#46039f\"], [0.2222222222222222, \"#7201a8\"], [0.3333333333333333, \"#9c179e\"], [0.4444444444444444, \"#bd3786\"], [0.5555555555555556, \"#d8576b\"], [0.6666666666666666, \"#ed7953\"], [0.7777777777777778, \"#fb9f3a\"], [0.8888888888888888, \"#fdca26\"], [1.0, \"#f0f921\"]], \"type\": \"heatmapgl\"}], \"histogram\": [{\"marker\": {\"colorbar\": {\"outlinewidth\": 0, \"ticks\": \"\"}}, \"type\": \"histogram\"}], \"histogram2d\": [{\"colorbar\": {\"outlinewidth\": 0, \"ticks\": \"\"}, \"colorscale\": [[0.0, \"#0d0887\"], [0.1111111111111111, \"#46039f\"], [0.2222222222222222, \"#7201a8\"], [0.3333333333333333, \"#9c179e\"], [0.4444444444444444, \"#bd3786\"], [0.5555555555555556, \"#d8576b\"], [0.6666666666666666, \"#ed7953\"], [0.7777777777777778, \"#fb9f3a\"], [0.8888888888888888, \"#fdca26\"], [1.0, \"#f0f921\"]], \"type\": \"histogram2d\"}], \"histogram2dcontour\": [{\"colorbar\": {\"outlinewidth\": 0, \"ticks\": \"\"}, \"colorscale\": [[0.0, \"#0d0887\"], [0.1111111111111111, \"#46039f\"], [0.2222222222222222, \"#7201a8\"], [0.3333333333333333, \"#9c179e\"], [0.4444444444444444, \"#bd3786\"], [0.5555555555555556, \"#d8576b\"], [0.6666666666666666, \"#ed7953\"], [0.7777777777777778, \"#fb9f3a\"], [0.8888888888888888, \"#fdca26\"], [1.0, \"#f0f921\"]], \"type\": \"histogram2dcontour\"}], \"mesh3d\": [{\"colorbar\": {\"outlinewidth\": 0, \"ticks\": \"\"}, \"type\": \"mesh3d\"}], \"parcoords\": [{\"line\": {\"colorbar\": {\"outlinewidth\": 0, \"ticks\": \"\"}}, \"type\": \"parcoords\"}], \"pie\": [{\"automargin\": true, \"type\": \"pie\"}], \"scatter\": [{\"marker\": {\"colorbar\": {\"outlinewidth\": 0, \"ticks\": \"\"}}, \"type\": \"scatter\"}], \"scatter3d\": [{\"line\": {\"colorbar\": {\"outlinewidth\": 0, \"ticks\": \"\"}}, \"marker\": {\"colorbar\": {\"outlinewidth\": 0, \"ticks\": \"\"}}, \"type\": \"scatter3d\"}], \"scattercarpet\": [{\"marker\": {\"colorbar\": {\"outlinewidth\": 0, \"ticks\": \"\"}}, \"type\": \"scattercarpet\"}], \"scattergeo\": [{\"marker\": {\"colorbar\": {\"outlinewidth\": 0, \"ticks\": \"\"}}, \"type\": \"scattergeo\"}], \"scattergl\": [{\"marker\": {\"colorbar\": {\"outlinewidth\": 0, \"ticks\": \"\"}}, \"type\": \"scattergl\"}], \"scattermapbox\": [{\"marker\": {\"colorbar\": {\"outlinewidth\": 0, \"ticks\": \"\"}}, \"type\": \"scattermapbox\"}], \"scatterpolar\": [{\"marker\": {\"colorbar\": {\"outlinewidth\": 0, \"ticks\": \"\"}}, \"type\": \"scatterpolar\"}], \"scatterpolargl\": [{\"marker\": {\"colorbar\": {\"outlinewidth\": 0, \"ticks\": \"\"}}, \"type\": \"scatterpolargl\"}], \"scatterternary\": [{\"marker\": {\"colorbar\": {\"outlinewidth\": 0, \"ticks\": \"\"}}, \"type\": \"scatterternary\"}], \"surface\": [{\"colorbar\": {\"outlinewidth\": 0, \"ticks\": \"\"}, \"colorscale\": [[0.0, \"#0d0887\"], [0.1111111111111111, \"#46039f\"], [0.2222222222222222, \"#7201a8\"], [0.3333333333333333, \"#9c179e\"], [0.4444444444444444, \"#bd3786\"], [0.5555555555555556, \"#d8576b\"], [0.6666666666666666, \"#ed7953\"], [0.7777777777777778, \"#fb9f3a\"], [0.8888888888888888, \"#fdca26\"], [1.0, \"#f0f921\"]], \"type\": \"surface\"}], \"table\": [{\"cells\": {\"fill\": {\"color\": \"#EBF0F8\"}, \"line\": {\"color\": \"white\"}}, \"header\": {\"fill\": {\"color\": \"#C8D4E3\"}, \"line\": {\"color\": \"white\"}}, \"type\": \"table\"}]}, \"layout\": {\"annotationdefaults\": {\"arrowcolor\": \"#2a3f5f\", \"arrowhead\": 0, \"arrowwidth\": 1}, \"coloraxis\": {\"colorbar\": {\"outlinewidth\": 0, \"ticks\": \"\"}}, \"colorscale\": {\"diverging\": [[0, \"#8e0152\"], [0.1, \"#c51b7d\"], [0.2, \"#de77ae\"], [0.3, \"#f1b6da\"], [0.4, \"#fde0ef\"], [0.5, \"#f7f7f7\"], [0.6, \"#e6f5d0\"], [0.7, \"#b8e186\"], [0.8, \"#7fbc41\"], [0.9, \"#4d9221\"], [1, \"#276419\"]], \"sequential\": [[0.0, \"#0d0887\"], [0.1111111111111111, \"#46039f\"], [0.2222222222222222, \"#7201a8\"], [0.3333333333333333, \"#9c179e\"], [0.4444444444444444, \"#bd3786\"], [0.5555555555555556, \"#d8576b\"], [0.6666666666666666, \"#ed7953\"], [0.7777777777777778, \"#fb9f3a\"], [0.8888888888888888, \"#fdca26\"], [1.0, \"#f0f921\"]], \"sequentialminus\": [[0.0, \"#0d0887\"], [0.1111111111111111, \"#46039f\"], [0.2222222222222222, \"#7201a8\"], [0.3333333333333333, \"#9c179e\"], [0.4444444444444444, \"#bd3786\"], [0.5555555555555556, \"#d8576b\"], [0.6666666666666666, \"#ed7953\"], [0.7777777777777778, \"#fb9f3a\"], [0.8888888888888888, \"#fdca26\"], [1.0, \"#f0f921\"]]}, \"colorway\": [\"#636efa\", \"#EF553B\", \"#00cc96\", \"#ab63fa\", \"#FFA15A\", \"#19d3f3\", \"#FF6692\", \"#B6E880\", \"#FF97FF\", \"#FECB52\"], \"font\": {\"color\": \"#2a3f5f\"}, \"geo\": {\"bgcolor\": \"white\", \"lakecolor\": \"white\", \"landcolor\": \"#E5ECF6\", \"showlakes\": true, \"showland\": true, \"subunitcolor\": \"white\"}, \"hoverlabel\": {\"align\": \"left\"}, \"hovermode\": \"closest\", \"mapbox\": {\"style\": \"light\"}, \"paper_bgcolor\": \"white\", \"plot_bgcolor\": \"#E5ECF6\", \"polar\": {\"angularaxis\": {\"gridcolor\": \"white\", \"linecolor\": \"white\", \"ticks\": \"\"}, \"bgcolor\": \"#E5ECF6\", \"radialaxis\": {\"gridcolor\": \"white\", \"linecolor\": \"white\", \"ticks\": \"\"}}, \"scene\": {\"xaxis\": {\"backgroundcolor\": \"#E5ECF6\", \"gridcolor\": \"white\", \"gridwidth\": 2, \"linecolor\": \"white\", \"showbackground\": true, \"ticks\": \"\", \"zerolinecolor\": \"white\"}, \"yaxis\": {\"backgroundcolor\": \"#E5ECF6\", \"gridcolor\": \"white\", \"gridwidth\": 2, \"linecolor\": \"white\", \"showbackground\": true, \"ticks\": \"\", \"zerolinecolor\": \"white\"}, \"zaxis\": {\"backgroundcolor\": \"#E5ECF6\", \"gridcolor\": \"white\", \"gridwidth\": 2, \"linecolor\": \"white\", \"showbackground\": true, \"ticks\": \"\", \"zerolinecolor\": \"white\"}}, \"shapedefaults\": {\"line\": {\"color\": \"#2a3f5f\"}}, \"ternary\": {\"aaxis\": {\"gridcolor\": \"white\", \"linecolor\": \"white\", \"ticks\": \"\"}, \"baxis\": {\"gridcolor\": \"white\", \"linecolor\": \"white\", \"ticks\": \"\"}, \"bgcolor\": \"#E5ECF6\", \"caxis\": {\"gridcolor\": \"white\", \"linecolor\": \"white\", \"ticks\": \"\"}}, \"title\": {\"x\": 0.05}, \"xaxis\": {\"automargin\": true, \"gridcolor\": \"white\", \"linecolor\": \"white\", \"ticks\": \"\", \"title\": {\"standoff\": 15}, \"zerolinecolor\": \"white\", \"zerolinewidth\": 2}, \"yaxis\": {\"automargin\": true, \"gridcolor\": \"white\", \"linecolor\": \"white\", \"ticks\": \"\", \"title\": {\"standoff\": 15}, \"zerolinecolor\": \"white\", \"zerolinewidth\": 2}}}},\n",
       "                        {\"responsive\": true}\n",
       "                    ).then(function(){\n",
       "                            \n",
       "var gd = document.getElementById('e075733a-f42d-46c2-a4ae-766a34334fa3');\n",
       "var x = new MutationObserver(function (mutations, observer) {{\n",
       "        var display = window.getComputedStyle(gd).display;\n",
       "        if (!display || display === 'none') {{\n",
       "            console.log([gd, 'removed!']);\n",
       "            Plotly.purge(gd);\n",
       "            observer.disconnect();\n",
       "        }}\n",
       "}});\n",
       "\n",
       "// Listen for the removal of the full notebook cells\n",
       "var notebookContainer = gd.closest('#notebook-container');\n",
       "if (notebookContainer) {{\n",
       "    x.observe(notebookContainer, {childList: true});\n",
       "}}\n",
       "\n",
       "// Listen for the clearing of the current output cell\n",
       "var outputEl = gd.closest('.output');\n",
       "if (outputEl) {{\n",
       "    x.observe(outputEl, {childList: true});\n",
       "}}\n",
       "\n",
       "                        })\n",
       "                };\n",
       "                });\n",
       "            </script>\n",
       "        </div>"
      ]
     },
     "metadata": {},
     "output_type": "display_data"
=======
   "execution_count": 20,
   "metadata": {},
   "outputs": [
    {
     "ename": "NameError",
     "evalue": "name 'cities' is not defined",
     "output_type": "error",
     "traceback": [
      "\u001b[0;31m---------------------------------------------------------------------------\u001b[0m",
      "\u001b[0;31mNameError\u001b[0m                                 Traceback (most recent call last)",
      "\u001b[0;32m<ipython-input-20-1e5d07097d93>\u001b[0m in \u001b[0;36m<module>\u001b[0;34m\u001b[0m\n\u001b[0;32m----> 1\u001b[0;31m \u001b[0;32mfor\u001b[0m \u001b[0mciti\u001b[0m \u001b[0;32min\u001b[0m \u001b[0mcities\u001b[0m\u001b[0;34m:\u001b[0m\u001b[0;34m\u001b[0m\u001b[0;34m\u001b[0m\u001b[0m\n\u001b[0m\u001b[1;32m      2\u001b[0m     \u001b[0mprint\u001b[0m\u001b[0;34m(\u001b[0m\u001b[0mciti\u001b[0m\u001b[0;34m)\u001b[0m\u001b[0;34m\u001b[0m\u001b[0;34m\u001b[0m\u001b[0m\n\u001b[1;32m      3\u001b[0m     \u001b[0mlocation\u001b[0m \u001b[0;34m=\u001b[0m \u001b[0mgeolocator\u001b[0m\u001b[0;34m.\u001b[0m\u001b[0mgeocode\u001b[0m\u001b[0;34m(\u001b[0m\u001b[0mciti\u001b[0m\u001b[0;34m)\u001b[0m\u001b[0;34m\u001b[0m\u001b[0;34m\u001b[0m\u001b[0m\n",
      "\u001b[0;31mNameError\u001b[0m: name 'cities' is not defined"
     ]
>>>>>>> e2978465e2713fb5f37068aa51051b9580f68670
    }
   ],
   "source": [
    "import plotly.graph_objects as go\n",
    "\n",
    "fig = go.Figure(go.Scattermapbox(\n",
    "    mode = \"markers+lines\",\n",
    "    \n",
    "    marker = {'size': 5}))\n",
    "\n",
    "fig.add_trace(go.Scattermapbox(\n",
    "mode = \"markers+lines\",\n",
    "lon = [-80.1936589, -3.7035825,-0.1276474,2.3514992,-80.1936589],\n",
    "lat = [25.7742658, 40.4167047, 51.5073219,48.8566101,25.7742658],\n",
    "marker = {'size': 5}))\n",
    "\n",
    "fig.update_layout(\n",
    "    margin ={'l':0,'t':0,'b':0,'r':0},\n",
    "    mapbox = {\n",
    "        'center': {'lon': 10, 'lat': 10},\n",
    "        'style': \"stamen-terrain\",\n",
    "        'center': {'lon': -20, 'lat': -20},\n",
    "        'zoom': 1})\n",
    "fig.show()"
   ]
  },
  {
   "cell_type": "code",
   "execution_count": null,
   "metadata": {},
   "outputs": [],
   "source": []
  }
 ],
 "metadata": {
  "kernelspec": {
   "display_name": "Python 3",
   "language": "python",
   "name": "python3"
  },
  "language_info": {
   "codemirror_mode": {
    "name": "ipython",
    "version": 3
   },
   "file_extension": ".py",
   "mimetype": "text/x-python",
   "name": "python",
   "nbconvert_exporter": "python",
   "pygments_lexer": "ipython3",
   "version": "3.7.3"
  }
 },
 "nbformat": 4,
 "nbformat_minor": 2
}
