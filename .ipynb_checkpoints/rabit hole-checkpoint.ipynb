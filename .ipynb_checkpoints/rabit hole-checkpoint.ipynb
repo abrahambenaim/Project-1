{
 "cells": [
  {
   "cell_type": "code",
   "execution_count": 1,
   "metadata": {},
   "outputs": [],
   "source": [
    "# Import dependencies\n",
    "import requests\n",
    "import os\n",
    "import pprint\n",
    "from datetime import datetime,timedelta\n",
    "import json\n",
    "import pandas as pd\n",
    "from dateutil.parser import parse"
   ]
  },
  {
   "cell_type": "code",
   "execution_count": 2,
   "metadata": {
    "scrolled": true
   },
   "outputs": [
    {
     "name": "stdout",
     "output_type": "stream",
     "text": [
      " # of adults will be traveling?1\n",
      " # Children traveling with you?0\n",
      " Starting placeMIA\n",
      "Trip start date (mm/dd/yyyy)02/12/2020\n",
      "List the cities do you want to travel to? And how many days per city? (ex. London,4,Madrid,3)NYC,5,Boston,4,Atlanta,3\n"
     ]
    }
   ],
   "source": [
    "# Set params for query\n",
    "pax = input(' # of adults will be traveling?')\n",
    "children = input(' # Children traveling with you?')\n",
    "p0 = input(' Starting place') \n",
    "startdate = input('Trip start date (mm/dd/yyyy)')\n",
    "destinations = input('List the cities do you want to travel to? And how many days per city? (ex. London,4,Madrid,3)')\n",
    "destinations.replace(\" \", \"\")\n",
    "destinations1 = list(destinations.split(','))\n",
    "\n",
    "\n"
   ]
  },
  {
   "cell_type": "code",
   "execution_count": 7,
   "metadata": {},
   "outputs": [],
   "source": [
    "\n",
    "p1=(str(destinations1[0]), int(destinations1[1]))\n",
    "p2 = (str(destinations1[2]), int(destinations1[3]))\n",
    "p3 = (str(destinations1[4]), int(destinations1[5]))\n",
    "res=[]\n",
    "\n",
    "def changeorder(p1,p2,p3,startdate,p0,children,pax):\n",
    "    global res\n",
    "\n",
    "    start_date = parse(startdate)\n",
    "    days_p1=p1[1]\n",
    "    days_p2=p2[1]\n",
    "    days_p3=p3[1]\n",
    "    start_p1 = start_date + timedelta(days=days_p1)\n",
    "    start_p2 = start_p1 + timedelta(days=days_p2)\n",
    "    start_p3 = start_p2 + timedelta(days=days_p3)\n",
    "    url = \"https://apidojo-hipmunk-v1.p.rapidapi.com/flights/create-session\"\n",
    "\n",
    "    querystring = {\"from1\":p1[0],\"from2\":p2[0],\"from3\":p3[0],\"to1\":p2[0],\"to2\":p3[0],\"to3\":p0,\"date1\":start_p1,\"date2\":start_p2,\"date3\":start_p3,\"infants_lap\":\"0\",\"children\":children,\"seniors\":\"0\",\"country\":\"US\",\"from0\":p0,\"to0\":p1[0],\"date0\":startdate,\"pax\":pax,\"cabin\":\"Coach\"}\n",
    "    headers = {\n",
    "        'x-rapidapi-host': \"apidojo-hipmunk-v1.p.rapidapi.com\",\n",
    "        'x-rapidapi-key': \"f52da07954msh79f61d44ab028c2p138041jsne9cd9d426802\"\n",
    "        }\n",
    "\n",
    "    response = requests.request(\"GET\", url, headers=headers, params=querystring).json()\n",
    "\n",
    "    #does stuff with response\n",
    "#itins dict\n",
    "    idnums=[]\n",
    "    agonies=[]\n",
    "    prices=[]\n",
    "    routing_id=[]\n",
    "    names=[]\n",
    "    bookingid=[]\n",
    "    \n",
    "    \n",
    "# #routings dict\n",
    "#     rid=[]\n",
    "#     leg_ids=[]\n",
    "    \n",
    "# #legs dict\n",
    "#     luid=[]\n",
    "#     from_code =[]\n",
    "#     depart=[]\n",
    "#     to_code =[]\n",
    "#     arrival=[]\n",
    "#     flight_num =[]\n",
    "\n",
    "\n",
    "##loop through itins dict\n",
    "    for key,value in response['itins'].items():\n",
    "        idnum=key\n",
    "        agony=value['agony']\n",
    "        price=value['price']\n",
    "        booking_url=value['booking_urls']\n",
    "        routing=value['routing_idens']\n",
    "        idnums.append(idnum)\n",
    "        agonies.append(agony)\n",
    "        prices.append(price)\n",
    "        routing_id.append(routing)\n",
    "        for key2,value2 in value['booking_urls'].items():\n",
    "            bookingid=key\n",
    "            name=value['name']\n",
    "            names.append(name)\n",
    "            \n",
    "    df = pd.DataFrame()\n",
    "    df['Price']=prices\n",
    "    df['Agonies']=agonies\n",
    "    df['ID']=idnums \n",
    "    df['Routing Number']=routing_id\n",
    "    df['Airline']=names\n",
    "    \n",
    "##loop through routings dict\n",
    "\n",
    "    for key,value in response['routings'].items():\n",
    "        routingid=key\n",
    "        agony=value['agony']\n",
    "        price=value['price']\n",
    "        booking_url=value['booking_urls']\n",
    "        routing=value['routing_idens']\n",
    "        idnums.append(idnum)\n",
    "        agonies.append(agony)\n",
    "        prices.append(price)\n",
    "        routing_id.append(routing)\n",
    "    \n",
    "# #    for key,value in response['legs'].items():\n",
    "#         luid=key\n",
    "#         from_code=value['from_code']\n",
    "#         depart=value['depart_iso']\n",
    "#         to_code=value['to_code']\n",
    "#         arrival=value['arrive_iso']\n",
    "#         flight_num=value['operating_num']\n",
    "#     df['Flight Number']=flight_num\n",
    "#     df['Departure Airport']=from_code\n",
    "#     df['Departure Time']=depart\n",
    "#     df['Arrival Airport']=to_code\n",
    "#     df['Arrival Time']=arrival\n",
    "\n",
    "    # Print DF with values\n",
    "    df = df.sort_values(['price'], ascending=[True])\n",
    "    df = df[:5]\n",
    "    df\n",
    "    res.append([(p1,p2,p3),df])\n",
    "\n",
    "\n",
    "\n",
    "    p1,p2,p3 = p2,p3,p1\n",
    "    return p1,p2,p3"
   ]
  },
  {
   "cell_type": "code",
   "execution_count": 8,
   "metadata": {},
   "outputs": [
    {
     "ename": "KeyError",
     "evalue": "'name'",
     "output_type": "error",
     "traceback": [
      "\u001b[0;31m---------------------------------------------------------------------------\u001b[0m",
      "\u001b[0;31mKeyError\u001b[0m                                  Traceback (most recent call last)",
      "\u001b[0;32m<ipython-input-8-a749ea5ab9af>\u001b[0m in \u001b[0;36m<module>\u001b[0;34m\u001b[0m\n\u001b[1;32m      1\u001b[0m \u001b[0mres\u001b[0m\u001b[0;34m=\u001b[0m\u001b[0;34m[\u001b[0m\u001b[0;34m]\u001b[0m\u001b[0;34m\u001b[0m\u001b[0;34m\u001b[0m\u001b[0m\n\u001b[1;32m      2\u001b[0m \u001b[0;32mfor\u001b[0m \u001b[0m_\u001b[0m \u001b[0;32min\u001b[0m \u001b[0mrange\u001b[0m\u001b[0;34m(\u001b[0m\u001b[0;36m3\u001b[0m\u001b[0;34m)\u001b[0m\u001b[0;34m:\u001b[0m\u001b[0;34m\u001b[0m\u001b[0;34m\u001b[0m\u001b[0m\n\u001b[0;32m----> 3\u001b[0;31m     \u001b[0mp1\u001b[0m\u001b[0;34m,\u001b[0m\u001b[0mp2\u001b[0m\u001b[0;34m,\u001b[0m\u001b[0mp3\u001b[0m\u001b[0;34m=\u001b[0m\u001b[0mchangeorder\u001b[0m\u001b[0;34m(\u001b[0m\u001b[0mp1\u001b[0m\u001b[0;34m,\u001b[0m\u001b[0mp2\u001b[0m\u001b[0;34m,\u001b[0m\u001b[0mp3\u001b[0m\u001b[0;34m,\u001b[0m\u001b[0mstartdate\u001b[0m\u001b[0;34m,\u001b[0m\u001b[0mp0\u001b[0m\u001b[0;34m,\u001b[0m\u001b[0mchildren\u001b[0m\u001b[0;34m,\u001b[0m\u001b[0mpax\u001b[0m\u001b[0;34m)\u001b[0m\u001b[0;34m\u001b[0m\u001b[0;34m\u001b[0m\u001b[0m\n\u001b[0m\u001b[1;32m      4\u001b[0m \u001b[0mres\u001b[0m\u001b[0;34m\u001b[0m\u001b[0;34m\u001b[0m\u001b[0m\n",
      "\u001b[0;32m<ipython-input-7-ac2f7b5d7b4e>\u001b[0m in \u001b[0;36mchangeorder\u001b[0;34m(p1, p2, p3, startdate, p0, children, pax)\u001b[0m\n\u001b[1;32m     58\u001b[0m         \u001b[0;32mfor\u001b[0m \u001b[0mkey2\u001b[0m\u001b[0;34m,\u001b[0m\u001b[0mvalue2\u001b[0m \u001b[0;32min\u001b[0m \u001b[0mvalue\u001b[0m\u001b[0;34m[\u001b[0m\u001b[0;34m'booking_urls'\u001b[0m\u001b[0;34m]\u001b[0m\u001b[0;34m.\u001b[0m\u001b[0mitems\u001b[0m\u001b[0;34m(\u001b[0m\u001b[0;34m)\u001b[0m\u001b[0;34m:\u001b[0m\u001b[0;34m\u001b[0m\u001b[0;34m\u001b[0m\u001b[0m\n\u001b[1;32m     59\u001b[0m             \u001b[0mbookingid\u001b[0m\u001b[0;34m=\u001b[0m\u001b[0mkey\u001b[0m\u001b[0;34m\u001b[0m\u001b[0;34m\u001b[0m\u001b[0m\n\u001b[0;32m---> 60\u001b[0;31m             \u001b[0mname\u001b[0m\u001b[0;34m=\u001b[0m\u001b[0mvalue\u001b[0m\u001b[0;34m[\u001b[0m\u001b[0;34m'name'\u001b[0m\u001b[0;34m]\u001b[0m\u001b[0;34m\u001b[0m\u001b[0;34m\u001b[0m\u001b[0m\n\u001b[0m\u001b[1;32m     61\u001b[0m             \u001b[0mnames\u001b[0m\u001b[0;34m.\u001b[0m\u001b[0mappend\u001b[0m\u001b[0;34m(\u001b[0m\u001b[0mname\u001b[0m\u001b[0;34m)\u001b[0m\u001b[0;34m\u001b[0m\u001b[0;34m\u001b[0m\u001b[0m\n\u001b[1;32m     62\u001b[0m \u001b[0;34m\u001b[0m\u001b[0m\n",
      "\u001b[0;31mKeyError\u001b[0m: 'name'"
     ]
    }
   ],
   "source": [
    "res=[]\n",
    "for _ in range(3):\n",
    "    p1,p2,p3=changeorder(p1,p2,p3,startdate,p0,children,pax)\n",
    "res\n"
   ]
  },
  {
   "cell_type": "code",
   "execution_count": null,
   "metadata": {},
   "outputs": [],
   "source": [
    "df1=pd.DataFrame(res[0][1])\n",
    "df2=pd.DataFrame(res[1][1])\n",
    "df3=pd.DataFrame(res[2][1])"
   ]
  },
  {
   "cell_type": "code",
   "execution_count": null,
   "metadata": {},
   "outputs": [],
   "source": [
    "df3"
   ]
  },
  {
   "cell_type": "code",
   "execution_count": null,
   "metadata": {},
   "outputs": [],
   "source": [
    "days_p1"
   ]
  },
  {
   "cell_type": "code",
   "execution_count": null,
   "metadata": {},
   "outputs": [],
   "source": []
  },
  {
   "cell_type": "code",
   "execution_count": null,
   "metadata": {},
   "outputs": [],
   "source": []
  },
  {
   "cell_type": "code",
   "execution_count": null,
   "metadata": {},
   "outputs": [],
   "source": []
  }
 ],
 "metadata": {
  "kernelspec": {
   "display_name": "Python 3",
   "language": "python",
   "name": "python3"
  },
  "language_info": {
   "codemirror_mode": {
    "name": "ipython",
    "version": 3
   },
   "file_extension": ".py",
   "mimetype": "text/x-python",
   "name": "python",
   "nbconvert_exporter": "python",
   "pygments_lexer": "ipython3",
   "version": "3.7.3"
  }
 },
 "nbformat": 4,
 "nbformat_minor": 2
}
