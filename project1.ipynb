{
 "cells": [
  {
   "cell_type": "code",
   "execution_count": 1,
   "metadata": {},
   "outputs": [],
   "source": [
    "# Import dependencies\n",
    "import requests\n",
    "import os\n",
    "import pprint\n",
    "from datetime import datetime,timedelta\n",
    "import json\n",
    "import pandas as pd\n",
    "from dateutil.parser import parse"
   ]
  },
  {
   "cell_type": "code",
   "execution_count": 2,
   "metadata": {
    "scrolled": true
   },
   "outputs": [
    {
     "name": "stdout",
     "output_type": "stream",
     "text": [
      " # of adults will be traveling?1\n",
      " # Children traveling with you?0\n",
      " Starting placemiami\n",
      "Trip start date (mm/dd/yyyy)12/01/2019\n",
      "List the cities do you want to travel to? And how many days per city? ex(London,4,Madrid,3)nyc,3,boston,2,la,4\n"
     ]
    }
   ],
   "source": [
    "# Set params for query\n",
    "pax = input(' # of adults will be traveling?')\n",
    "children = input(' # Children traveling with you?')\n",
    "p0 = input(' Starting place') \n",
    "startdate = input('Trip start date (mm/dd/yyyy)')\n",
    "destinations = input('List the cities do you want to travel to? And how many days per city? ex(London,4,Madrid,3)')\n",
    "destinations.replace(\" \", \"\")\n",
    "destinations1 = list(destinations.split(','))\n",
    "\n",
    "\n"
   ]
  },
  {
   "cell_type": "code",
   "execution_count": 9,
   "metadata": {},
   "outputs": [],
   "source": [
    "\n",
    "p1=(str(destinations1[0]),int(destinations1[1]))\n",
    "p2 = (str(destinations1[2]), int(destinations1[3]))\n",
    "p3 = (str(destinations1[4]), int(destinations1[5]))\n",
    "res=[]\n",
    "\n",
    "def changeorder(p1,p2,p3,startdate,p0,children,pax):\n",
    "    global res\n",
    "\n",
    "    start_date = parse(startdate)\n",
    "    days_p1=p1[1]\n",
    "    days_p2=p2[1]\n",
    "    days_p3=p3[1]\n",
    "    start_p1 = start_date + timedelta(days=days_p1)\n",
    "    start_p2 = start_p1 + timedelta(days=days_p2)\n",
    "    start_p3 = start_p2 + timedelta(days=days_p3)\n",
    "    url = \"https://apidojo-hipmunk-v1.p.rapidapi.com/flights/create-session\"\n",
    "\n",
    "    querystring = {\"from1\":p1[0],\"from2\":p2[0],\"from3\":p3[0],\"to1\":p2[0],\"to2\":p3[0],\"to3\":p0,\"date1\":start_p1,\"date2\":start_p2,\"date3\":start_p3,\"infants_lap\":\"0\",\"children\":children,\"seniors\":\"0\",\"country\":\"US\",\"from0\":p0,\"to0\":p1[0],\"date0\":startdate,\"pax\":pax,\"cabin\":\"Coach\"}\n",
    "    headers = {\n",
    "        'x-rapidapi-host': \"apidojo-hipmunk-v1.p.rapidapi.com\",\n",
    "        'x-rapidapi-key': \"f52da07954msh79f61d44ab028c2p138041jsne9cd9d426802\"\n",
    "        }\n",
    "\n",
    "    response = requests.request(\"GET\", url, headers=headers, params=querystring).json()\n",
    "\n",
    "    #does stuff with response\n",
    "    idnums=[]\n",
    "    agonies=[]\n",
    "    prices=[]\n",
    "\n",
    "    for key,value in response['itins'].items():\n",
    "        idnum=key\n",
    "        agony=value['agony']\n",
    "        price=value['price']\n",
    "        idnums.append(idnum)\n",
    "        agonies.append(agony)\n",
    "        prices.append(price)\n",
    "    df=pd.DataFrame()\n",
    "    df['price']=prices\n",
    "    df['agonies']=agonies\n",
    "    df['id']=idnums \n",
    "\n",
    "\n",
    "    # Print DF with values\n",
    "    df = df.sort_values(['price'], ascending=[True])\n",
    "    df = df[:5]\n",
    "\n",
    "    res.append([(p1,p2,p3),df])\n",
    "\n",
    "\n",
    "\n",
    "    p1,p2,p3 = p2,p3,p1\n",
    "    return p1,p2,p3\n",
    "    \n",
    "    "
   ]
  },
  {
   "cell_type": "code",
   "execution_count": 10,
   "metadata": {},
   "outputs": [
    {
     "data": {
      "text/plain": [
       "[[(('nyc', 3), ('boston', 2), ('la', 4)),\n",
       "        price      agonies                                id\n",
       "  1137  628.0  1508.283047  7814cb00e7b63fd2d45d9c19aa0db4ca\n",
       "  1550  628.0  1522.892992  2d01718fa77666cfe0e1b79b159d8ab5\n",
       "  1257  628.0  1514.755849  d9f8fb1bb7ba6c0a71406131fecfc969\n",
       "  1572  628.0  1516.900068  8c588033a442fb8f4dcc8884a826a6e8\n",
       "  1574  628.0  1519.358423  694e30f0a4a418616e6e8034efd4f0d7],\n",
       " [(('boston', 2), ('la', 4), ('nyc', 3)),\n",
       "        price      agonies                                id\n",
       "  3666  559.0  1732.600775  d64f34973a848d494a90fc257466ec94\n",
       "  3264  559.0  1738.337566  aac25366ee197332d534416c75f9f412\n",
       "  1784  559.0  1738.865125  49d75c638009ff3ca9f316e499050e46\n",
       "  3134  559.0  1739.466767  4aa766621487d9153d7ad4315061f398\n",
       "  39    559.0  1739.466767  10425e10b0b7281a22211149fb2b6e59],\n",
       " [(('la', 4), ('nyc', 3), ('boston', 2)),\n",
       "        price      agonies                                id\n",
       "  1802  901.0  2095.306317  937a12c5e884ccc7138a7ea59fe01967\n",
       "  3236  901.0  2085.473159  a205bd217a2b40ee888a0181e6517058\n",
       "  1070  901.0  2086.754511  161975d06003b517c7cb775b3bb40508\n",
       "  264   901.0  2084.258632  e3b0eaebc085578f54d39470480edd65\n",
       "  3224  901.0  2084.258632  289a4c86ec07e68348a25d7b7d668429]]"
      ]
     },
     "execution_count": 10,
     "metadata": {},
     "output_type": "execute_result"
    }
   ],
   "source": [
    "res=[]\n",
    "for _ in range(3):\n",
    "    p1,p2,p3=changeorder(p1,p2,p3,startdate,p0,children,pax)\n",
    "res\n"
   ]
  },
  {
   "cell_type": "code",
   "execution_count": 22,
   "metadata": {},
   "outputs": [],
   "source": [
    "df1=pd.DataFrame(res[0][1])\n",
    "df2=pd.DataFrame(res[1][1])\n",
    "df3=pd.DataFrame(res[2][1])"
   ]
  },
  {
   "cell_type": "code",
   "execution_count": 25,
   "metadata": {},
   "outputs": [
    {
     "data": {
      "text/html": [
       "<div>\n",
       "<style scoped>\n",
       "    .dataframe tbody tr th:only-of-type {\n",
       "        vertical-align: middle;\n",
       "    }\n",
       "\n",
       "    .dataframe tbody tr th {\n",
       "        vertical-align: top;\n",
       "    }\n",
       "\n",
       "    .dataframe thead th {\n",
       "        text-align: right;\n",
       "    }\n",
       "</style>\n",
       "<table border=\"1\" class=\"dataframe\">\n",
       "  <thead>\n",
       "    <tr style=\"text-align: right;\">\n",
       "      <th></th>\n",
       "      <th>price</th>\n",
       "      <th>agonies</th>\n",
       "      <th>id</th>\n",
       "    </tr>\n",
       "  </thead>\n",
       "  <tbody>\n",
       "    <tr>\n",
       "      <td>1802</td>\n",
       "      <td>901.0</td>\n",
       "      <td>2095.306317</td>\n",
       "      <td>937a12c5e884ccc7138a7ea59fe01967</td>\n",
       "    </tr>\n",
       "    <tr>\n",
       "      <td>3236</td>\n",
       "      <td>901.0</td>\n",
       "      <td>2085.473159</td>\n",
       "      <td>a205bd217a2b40ee888a0181e6517058</td>\n",
       "    </tr>\n",
       "    <tr>\n",
       "      <td>1070</td>\n",
       "      <td>901.0</td>\n",
       "      <td>2086.754511</td>\n",
       "      <td>161975d06003b517c7cb775b3bb40508</td>\n",
       "    </tr>\n",
       "    <tr>\n",
       "      <td>264</td>\n",
       "      <td>901.0</td>\n",
       "      <td>2084.258632</td>\n",
       "      <td>e3b0eaebc085578f54d39470480edd65</td>\n",
       "    </tr>\n",
       "    <tr>\n",
       "      <td>3224</td>\n",
       "      <td>901.0</td>\n",
       "      <td>2084.258632</td>\n",
       "      <td>289a4c86ec07e68348a25d7b7d668429</td>\n",
       "    </tr>\n",
       "  </tbody>\n",
       "</table>\n",
       "</div>"
      ],
      "text/plain": [
       "      price      agonies                                id\n",
       "1802  901.0  2095.306317  937a12c5e884ccc7138a7ea59fe01967\n",
       "3236  901.0  2085.473159  a205bd217a2b40ee888a0181e6517058\n",
       "1070  901.0  2086.754511  161975d06003b517c7cb775b3bb40508\n",
       "264   901.0  2084.258632  e3b0eaebc085578f54d39470480edd65\n",
       "3224  901.0  2084.258632  289a4c86ec07e68348a25d7b7d668429"
      ]
     },
     "execution_count": 25,
     "metadata": {},
     "output_type": "execute_result"
    }
   ],
   "source": [
    "df3"
   ]
  },
  {
   "cell_type": "code",
   "execution_count": null,
   "metadata": {},
   "outputs": [],
   "source": [
    "days_p1"
   ]
  },
  {
   "cell_type": "code",
   "execution_count": null,
   "metadata": {},
   "outputs": [],
   "source": []
  },
  {
   "cell_type": "code",
   "execution_count": null,
   "metadata": {},
   "outputs": [],
   "source": []
  }
 ],
 "metadata": {
  "kernelspec": {
   "display_name": "Python 3",
   "language": "python",
   "name": "python3"
  },
  "language_info": {
   "codemirror_mode": {
    "name": "ipython",
    "version": 3
   },
   "file_extension": ".py",
   "mimetype": "text/x-python",
   "name": "python",
   "nbconvert_exporter": "python",
   "pygments_lexer": "ipython3",
   "version": "3.7.4"
  }
 },
 "nbformat": 4,
 "nbformat_minor": 2
}
