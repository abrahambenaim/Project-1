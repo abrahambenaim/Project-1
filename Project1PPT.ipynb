{
 "cells": [
  {
   "cell_type": "code",
   "execution_count": 153,
   "metadata": {},
   "outputs": [],
   "source": [
    "# Import dependencies\n",
    "import requests\n",
    "import os\n",
    "import pprint\n",
    "from datetime import datetime,timedelta\n",
    "import json\n",
    "import pandas as pd\n",
    "from dateutil.parser import parse\n",
    "import itertools\n",
    "from itertools import permutations\n",
    "import tqdm \n",
    "from tqdm import tqdm\n",
    "import csv\n"
   ]
  },
  {
   "cell_type": "code",
   "execution_count": 154,
   "metadata": {
    "scrolled": true
   },
   "outputs": [
    {
     "name": "stdout",
     "output_type": "stream",
     "text": [
      " # of adults will be traveling?1\n",
      " # Children traveling with you?0\n",
      " Starting placemiami\n",
      "Trip start date (mm/dd/yyyy)12/01/2019\n",
      "List the cities do you want to travel to? And how many days per city? ex(London,4,Madrid,3,Paris,6)madrid,6,paris,3,tel aviv,5\n"
     ]
    }
   ],
   "source": [
    "# Set params for query\n",
    "pax = input(' # of adults will be traveling?')\n",
    "children = input(' # Children traveling with you?')\n",
    "p0 = input(' Starting place') \n",
    "startdate = input('Trip start date (mm/dd/yyyy)')\n",
    "destinations = input('List the cities do you want to travel to? And how many days per city? ex(London,4,Madrid,3,Paris,6)')\n",
    "#destinations.replace(\" \", \"\")\n",
    "destinations1 = list(destinations.split(','))\n",
    "\n",
    "\n"
   ]
  },
  {
   "cell_type": "code",
   "execution_count": 155,
   "metadata": {},
   "outputs": [],
   "source": [
    "p1=(str(destinations1[0]),int(destinations1[1]))\n",
    "p2 = (str(destinations1[2]), int(destinations1[3]))\n",
    "p3 = (str(destinations1[4]), int(destinations1[5]))\n",
    "\n",
    "\n",
    "def changeorder(res,p1,p2,p3,startdate,p0,children,pax):\n",
    "    \n",
    "\n",
    "    start_date = parse(startdate)\n",
    "    days_p1=p1[1]\n",
    "    days_p2=p2[1]\n",
    "    days_p3=p3[1]\n",
    "    start_p1 = start_date + timedelta(days=days_p1)\n",
    "    start_p2 = start_p1 + timedelta(days=days_p2)\n",
    "    start_p3 = start_p2 + timedelta(days=days_p3)\n",
    "    url = \"https://apidojo-hipmunk-v1.p.rapidapi.com/flights/create-session\"\n",
    "\n",
    "    querystring = {\"from1\":p1[0],\"from2\":p2[0],\"from3\":p3[0],\"to1\":p2[0],\"to2\":p3[0],\"to3\":p0,\"date1\":start_p1,\"date2\":start_p2,\"date3\":start_p3,\"infants_lap\":\"0\",\"children\":children,\"seniors\":\"0\",\"country\":\"US\",\"from0\":p0,\"to0\":p1[0],\"date0\":startdate,\"pax\":pax,\"cabin\":\"Coach\"}\n",
    "    headers = {\n",
    "        'x-rapidapi-host': \"apidojo-hipmunk-v1.p.rapidapi.com\",\n",
    "        'x-rapidapi-key': \"c36e6ce6fcmsh7fe55ace5e9f40fp10fdc1jsn690a20bbc0ef\"\n",
    "        }\n",
    "\n",
    "    response = requests.request(\"GET\", url, headers=headers, params=querystring).json()\n",
    "\n",
    "    #does stuff with response\n",
    "    idnums=[]\n",
    "    agonies=[]\n",
    "    prices=[]\n",
    "    routingid=[]\n",
    "    \n",
    "\n",
    "    for key,value in response['itins'].items():\n",
    "        idnum=key\n",
    "        agony=value['agony']\n",
    "        price=value['price']\n",
    "        routing_id=value['routing_idens']\n",
    "        idnums.append(idnum)\n",
    "        agonies.append(agony)\n",
    "        prices.append(price)\n",
    "        routingid.append(routing_id)\n",
    "    df=pd.DataFrame()\n",
    "    df['price']=prices\n",
    "    df['agonies']=agonies\n",
    "    df['id']=idnums\n",
    "    df['routing']=routingid\n",
    "    \n",
    "    \n",
    "    \n",
    "    \n",
    "\n",
    "\n",
    "    # Print DF with values\n",
    "    df = df.sort_values(['price','agonies'], ascending=[True,True])\n",
    "    df = df[:1]\n",
    "\n",
    "    res.append([(p1,p2,p3),df])\n",
    "\n",
    "\n",
    "\n",
    "    #p1,p2,p3 = p2,p3,p1\n",
    "    return res\n",
    "    \n",
    "    "
   ]
  },
  {
   "cell_type": "code",
   "execution_count": 156,
   "metadata": {},
   "outputs": [
    {
     "data": {
      "text/plain": [
       "[(('madrid', 6), ('paris', 3), ('tel aviv', 5)),\n",
       " (('madrid', 6), ('tel aviv', 5), ('paris', 3)),\n",
       " (('paris', 3), ('madrid', 6), ('tel aviv', 5)),\n",
       " (('paris', 3), ('tel aviv', 5), ('madrid', 6)),\n",
       " (('tel aviv', 5), ('madrid', 6), ('paris', 3)),\n",
       " (('tel aviv', 5), ('paris', 3), ('madrid', 6))]"
      ]
     },
     "execution_count": 156,
     "metadata": {},
     "output_type": "execute_result"
    }
   ],
   "source": [
    "alist = []\n",
    "listA = [p1, p2, p3]\n",
    "perm = itertools.permutations(listA) \n",
    "  \n",
    "for i in list(perm): \n",
    "    alist.append(i)\n",
    "alist\n",
    "    \n",
    "    \n",
    "    "
   ]
  },
  {
   "cell_type": "code",
   "execution_count": 157,
   "metadata": {},
   "outputs": [
    {
     "name": "stderr",
     "output_type": "stream",
     "text": [
      "\n",
      "  0%|          | 0/6 [00:00<?, ?it/s]\u001b[A"
     ]
    },
    {
     "name": "stdout",
     "output_type": "stream",
     "text": [
      "Sorry, this may take a while...\n"
     ]
    },
    {
     "name": "stderr",
     "output_type": "stream",
     "text": [
      "\n",
      " 17%|█▋        | 1/6 [00:07<00:38,  7.76s/it]\u001b[A\n",
      " 33%|███▎      | 2/6 [00:18<00:34,  8.69s/it]\u001b[A\n",
      " 50%|█████     | 3/6 [00:26<00:25,  8.36s/it]\u001b[A\n",
      " 67%|██████▋   | 4/6 [00:33<00:15,  7.95s/it]\u001b[A\n",
      " 83%|████████▎ | 5/6 [00:39<00:07,  7.59s/it]\u001b[A\n",
      "100%|██████████| 6/6 [00:47<00:00,  7.87s/it]\u001b[A\n",
      "\n",
      "  0%|          | 0/6 [00:00<?, ?it/s]\u001b[A\n",
      " 17%|█▋        | 1/6 [00:09<00:46,  9.32s/it]\u001b[A\n",
      " 33%|███▎      | 2/6 [00:26<00:46, 11.54s/it]\u001b[A\n",
      " 50%|█████     | 3/6 [00:34<00:31, 10.57s/it]\u001b[A\n",
      " 67%|██████▋   | 4/6 [00:45<00:21, 10.87s/it]\u001b[A\n",
      " 83%|████████▎ | 5/6 [00:58<00:11, 11.38s/it]\u001b[A\n",
      "100%|██████████| 6/6 [01:07<00:00, 11.29s/it]\u001b[A"
     ]
    },
    {
     "name": "stdout",
     "output_type": "stream",
     "text": [
      "Search 100% completed\n"
     ]
    },
    {
     "name": "stderr",
     "output_type": "stream",
     "text": [
      "\n"
     ]
    },
    {
     "data": {
      "text/plain": [
       "[[(('madrid', 6), ('paris', 3), ('tel aviv', 5)),\n",
       "        price      agonies                                id  \\\n",
       "  1387  879.0  2453.350352  ee537b0132943c9f97c90e4b8653d651   \n",
       "  \n",
       "                                                  routing  \n",
       "  1387  [458dfcf2fb8507a7fc373035c2f493c1, 0351ab680c7...  ],\n",
       " [(('madrid', 6), ('tel aviv', 5), ('paris', 3)),\n",
       "        price      agonies                                id  \\\n",
       "  2505  934.0  2451.391697  b321bad0df5bc791eecaf5dae7f0e625   \n",
       "  \n",
       "                                                  routing  \n",
       "  2505  [458dfcf2fb8507a7fc373035c2f493c1, e167819e424...  ],\n",
       " [(('paris', 3), ('madrid', 6), ('tel aviv', 5)),\n",
       "        price      agonies                                id  \\\n",
       "  2599  937.0  2610.383066  457db576dbc7520601f5de3e06faf269   \n",
       "  \n",
       "                                                  routing  \n",
       "  2599  [75f75c75221f6185973ac7818bead59c, cca07e5af23...  ],\n",
       " [(('paris', 3), ('tel aviv', 5), ('madrid', 6)),\n",
       "         price      agonies                                id  \\\n",
       "  3023  1079.0  2773.472319  c299a5e94dd8a1984f3471b0391cf2f3   \n",
       "  \n",
       "                                                  routing  \n",
       "  3023  [75f75c75221f6185973ac7818bead59c, b5006149e84...  ],\n",
       " [(('tel aviv', 5), ('madrid', 6), ('paris', 3)),\n",
       "       price      agonies                                id  \\\n",
       "  284  966.0  2362.558312  a37364ef8901cbe2fbf728122a26b32f   \n",
       "  \n",
       "                                                 routing  \n",
       "  284  [e1822122b586328afa5d1a0fcc9ea2be, 1dc8aea4375...  ],\n",
       " [(('tel aviv', 5), ('paris', 3), ('madrid', 6)),\n",
       "        price      agonies                                id  \\\n",
       "  212  1009.0  2795.724016  0859205198a272dc147ef1ae73b19476   \n",
       "  \n",
       "                                                 routing  \n",
       "  212  [e1822122b586328afa5d1a0fcc9ea2be, 8bef34a01e9...  ]]"
      ]
     },
     "execution_count": 157,
     "metadata": {},
     "output_type": "execute_result"
    }
   ],
   "source": [
    "print('Sorry, this may take a while...')\n",
    "res=[]\n",
    "for i in tqdm(alist):\n",
    "    p1,p2,p3=i[0],i[1],i[2]\n",
    "    res=changeorder(res,p1,p2,p3,startdate,p0,children,pax)\n",
    "    \n",
    "res=[]\n",
    "for i in tqdm(alist):\n",
    "    p1,p2,p3=i[0],i[1],i[2]\n",
    "    res=changeorder(res,p1,p2,p3,startdate,p0,children,pax)    \n",
    "    \n",
    "print('Search 100% completed')   \n",
    "res"
   ]
  },
  {
   "cell_type": "code",
   "execution_count": 158,
   "metadata": {},
   "outputs": [],
   "source": [
    "df1=pd.DataFrame(res[0][1])\n",
    "df2=pd.DataFrame(res[1][1])\n",
    "df3=pd.DataFrame(res[2][1])\n",
    "df4=pd.DataFrame(res[3][1])\n",
    "df5=pd.DataFrame(res[4][1])\n",
    "df6=pd.DataFrame(res[5][1])\n"
   ]
  },
  {
   "cell_type": "code",
   "execution_count": 159,
   "metadata": {
    "scrolled": false
   },
   "outputs": [],
   "source": [
    "#Joining all results into a single DF:\n",
    "\n",
    "#Option 1\n",
    "first_choice = df1['routing'].astype(str)\n",
    "df1new = first_choice.str.split(\", \",expand=True)\n",
    "firstchoice_merged = df1.merge(df1new, how='outer', left_index=True, right_index=True)\n",
    "firstchoice_merged = firstchoice_merged.drop(columns=['routing'])\n",
    "\n",
    "#Option 2\n",
    "second_choice = df2['routing'].astype(str)\n",
    "df2new = second_choice.str.split(\", \",expand=True)\n",
    "secondchoice_merged = df2.merge(df2new, how='outer', left_index=True, right_index=True)\n",
    "secondchoice_merged = secondchoice_merged.drop(columns=['routing'])\n",
    "\n",
    "#Option 3\n",
    "third_choice = df3['routing'].astype(str)\n",
    "df3new = third_choice.str.split(\", \",expand=True)\n",
    "thirdchoice_merged = df3.merge(df3new, how='outer', left_index=True, right_index=True)\n",
    "thirdchoice_merged = thirdchoice_merged.drop(columns=['routing'])\n",
    "\n",
    "#Option 4\n",
    "fourth_choice = df4['routing'].astype(str)\n",
    "df4new = fourth_choice.str.split(\", \",expand=True)\n",
    "fourthchoice_merged = df4.merge(df4new, how='outer', left_index=True, right_index=True)\n",
    "fourthchoice_merged = fourthchoice_merged.drop(columns=['routing'])\n",
    "\n",
    "#Option 5\n",
    "fifth_choice = df5['routing'].astype(str)\n",
    "df5new = fifth_choice.str.split(\", \",expand=True)\n",
    "fifthchoice_merged = df5.merge(df5new, how='outer', left_index=True, right_index=True)\n",
    "fifthchoice_merged = fifthchoice_merged.drop(columns=['routing'])\n",
    "\n",
    "#Option 6\n",
    "sixth_choice = df6['routing'].astype(str)\n",
    "df6new = sixth_choice.str.split(\", \",expand=True)\n",
    "sixthchoice_merged = df6.merge(df6new, how='outer', left_index=True, right_index=True)\n",
    "sixthchoice_merged = sixthchoice_merged.drop(columns=['routing'])\n",
    "\n",
    "bigdata = [firstchoice_merged,secondchoice_merged,thirdchoice_merged,fourthchoice_merged,fifthchoice_merged,sixthchoice_merged]\n",
    "result = pd.concat(bigdata)\n",
    "#result_df = result.sort_values(['price','agonies'], ascending=[True,True])"
   ]
  },
  {
   "cell_type": "code",
   "execution_count": 160,
   "metadata": {},
   "outputs": [
    {
     "data": {
      "text/html": [
       "<div>\n",
       "<style scoped>\n",
       "    .dataframe tbody tr th:only-of-type {\n",
       "        vertical-align: middle;\n",
       "    }\n",
       "\n",
       "    .dataframe tbody tr th {\n",
       "        vertical-align: top;\n",
       "    }\n",
       "\n",
       "    .dataframe thead th {\n",
       "        text-align: right;\n",
       "    }\n",
       "</style>\n",
       "<table border=\"1\" class=\"dataframe\">\n",
       "  <thead>\n",
       "    <tr style=\"text-align: right;\">\n",
       "      <th></th>\n",
       "      <th>price</th>\n",
       "      <th>agonies</th>\n",
       "      <th>id</th>\n",
       "    </tr>\n",
       "  </thead>\n",
       "  <tbody>\n",
       "    <tr>\n",
       "      <td>1387</td>\n",
       "      <td>879.0</td>\n",
       "      <td>2453.350352</td>\n",
       "      <td>ee537b0132943c9f97c90e4b8653d651</td>\n",
       "    </tr>\n",
       "    <tr>\n",
       "      <td>2505</td>\n",
       "      <td>934.0</td>\n",
       "      <td>2451.391697</td>\n",
       "      <td>b321bad0df5bc791eecaf5dae7f0e625</td>\n",
       "    </tr>\n",
       "    <tr>\n",
       "      <td>2599</td>\n",
       "      <td>937.0</td>\n",
       "      <td>2610.383066</td>\n",
       "      <td>457db576dbc7520601f5de3e06faf269</td>\n",
       "    </tr>\n",
       "    <tr>\n",
       "      <td>3023</td>\n",
       "      <td>1079.0</td>\n",
       "      <td>2773.472319</td>\n",
       "      <td>c299a5e94dd8a1984f3471b0391cf2f3</td>\n",
       "    </tr>\n",
       "    <tr>\n",
       "      <td>284</td>\n",
       "      <td>966.0</td>\n",
       "      <td>2362.558312</td>\n",
       "      <td>a37364ef8901cbe2fbf728122a26b32f</td>\n",
       "    </tr>\n",
       "    <tr>\n",
       "      <td>212</td>\n",
       "      <td>1009.0</td>\n",
       "      <td>2795.724016</td>\n",
       "      <td>0859205198a272dc147ef1ae73b19476</td>\n",
       "    </tr>\n",
       "  </tbody>\n",
       "</table>\n",
       "</div>"
      ],
      "text/plain": [
       "       price      agonies                                id\n",
       "1387   879.0  2453.350352  ee537b0132943c9f97c90e4b8653d651\n",
       "2505   934.0  2451.391697  b321bad0df5bc791eecaf5dae7f0e625\n",
       "2599   937.0  2610.383066  457db576dbc7520601f5de3e06faf269\n",
       "3023  1079.0  2773.472319  c299a5e94dd8a1984f3471b0391cf2f3\n",
       "284    966.0  2362.558312  a37364ef8901cbe2fbf728122a26b32f\n",
       "212   1009.0  2795.724016  0859205198a272dc147ef1ae73b19476"
      ]
     },
     "execution_count": 160,
     "metadata": {},
     "output_type": "execute_result"
    }
   ],
   "source": [
    "resultuse_df = result.drop(columns=[0,1,2,3])\n",
    "resultuse_df\n"
   ]
  },
  {
   "cell_type": "code",
   "execution_count": 161,
   "metadata": {},
   "outputs": [
    {
     "name": "stdout",
     "output_type": "stream",
     "text": [
      "['madrid', 'madrid', 'paris', 'paris', 'tel aviv', 'tel aviv']\n",
      "[6, 6, 3, 3, 5, 5]\n"
     ]
    }
   ],
   "source": [
    "xlist1=[]\n",
    "ylist1=[]\n",
    "xlist2=[]\n",
    "ylist2=[]\n",
    "xlist3=[]\n",
    "ylist3=[]\n",
    "\n",
    "for x,y,z in alist:\n",
    "    d1,d2 = x\n",
    "    xlist1.append(d1)\n",
    "    ylist1.append(d2)\n",
    "    d3,d4 = y\n",
    "    xlist2.append(d3)\n",
    "    ylist2.append(d4)\n",
    "    d5,d6 = z\n",
    "    xlist3.append(d5)\n",
    "    ylist3.append(d6)\n",
    "print(xlist1)\n",
    "print(ylist1)\n",
    "\n"
   ]
  },
  {
   "cell_type": "code",
   "execution_count": 162,
   "metadata": {},
   "outputs": [
    {
     "data": {
      "text/plain": [
       "[(('madrid', 6), ('paris', 3), ('tel aviv', 5)),\n",
       " (('madrid', 6), ('tel aviv', 5), ('paris', 3)),\n",
       " (('paris', 3), ('madrid', 6), ('tel aviv', 5)),\n",
       " (('paris', 3), ('tel aviv', 5), ('madrid', 6)),\n",
       " (('tel aviv', 5), ('madrid', 6), ('paris', 3)),\n",
       " (('tel aviv', 5), ('paris', 3), ('madrid', 6))]"
      ]
     },
     "execution_count": 162,
     "metadata": {},
     "output_type": "execute_result"
    }
   ],
   "source": [
    "alist"
   ]
  },
  {
   "cell_type": "code",
   "execution_count": 163,
   "metadata": {},
   "outputs": [
    {
     "data": {
      "text/html": [
       "<div>\n",
       "<style scoped>\n",
       "    .dataframe tbody tr th:only-of-type {\n",
       "        vertical-align: middle;\n",
       "    }\n",
       "\n",
       "    .dataframe tbody tr th {\n",
       "        vertical-align: top;\n",
       "    }\n",
       "\n",
       "    .dataframe thead th {\n",
       "        text-align: right;\n",
       "    }\n",
       "</style>\n",
       "<table border=\"1\" class=\"dataframe\">\n",
       "  <thead>\n",
       "    <tr style=\"text-align: right;\">\n",
       "      <th></th>\n",
       "      <th>0</th>\n",
       "      <th>1</th>\n",
       "      <th>2</th>\n",
       "    </tr>\n",
       "  </thead>\n",
       "  <tbody>\n",
       "    <tr>\n",
       "      <td>0</td>\n",
       "      <td>(madrid, 6)</td>\n",
       "      <td>(paris, 3)</td>\n",
       "      <td>(tel aviv, 5)</td>\n",
       "    </tr>\n",
       "    <tr>\n",
       "      <td>1</td>\n",
       "      <td>(madrid, 6)</td>\n",
       "      <td>(tel aviv, 5)</td>\n",
       "      <td>(paris, 3)</td>\n",
       "    </tr>\n",
       "    <tr>\n",
       "      <td>2</td>\n",
       "      <td>(paris, 3)</td>\n",
       "      <td>(madrid, 6)</td>\n",
       "      <td>(tel aviv, 5)</td>\n",
       "    </tr>\n",
       "    <tr>\n",
       "      <td>3</td>\n",
       "      <td>(paris, 3)</td>\n",
       "      <td>(tel aviv, 5)</td>\n",
       "      <td>(madrid, 6)</td>\n",
       "    </tr>\n",
       "    <tr>\n",
       "      <td>4</td>\n",
       "      <td>(tel aviv, 5)</td>\n",
       "      <td>(madrid, 6)</td>\n",
       "      <td>(paris, 3)</td>\n",
       "    </tr>\n",
       "    <tr>\n",
       "      <td>5</td>\n",
       "      <td>(tel aviv, 5)</td>\n",
       "      <td>(paris, 3)</td>\n",
       "      <td>(madrid, 6)</td>\n",
       "    </tr>\n",
       "  </tbody>\n",
       "</table>\n",
       "</div>"
      ],
      "text/plain": [
       "               0              1              2\n",
       "0    (madrid, 6)     (paris, 3)  (tel aviv, 5)\n",
       "1    (madrid, 6)  (tel aviv, 5)     (paris, 3)\n",
       "2     (paris, 3)    (madrid, 6)  (tel aviv, 5)\n",
       "3     (paris, 3)  (tel aviv, 5)    (madrid, 6)\n",
       "4  (tel aviv, 5)    (madrid, 6)     (paris, 3)\n",
       "5  (tel aviv, 5)     (paris, 3)    (madrid, 6)"
      ]
     },
     "execution_count": 163,
     "metadata": {},
     "output_type": "execute_result"
    }
   ],
   "source": [
    "alist_df = pd.DataFrame(alist)\n",
    "alist_df\n",
    "alist_df"
   ]
  },
  {
   "cell_type": "code",
   "execution_count": 164,
   "metadata": {},
   "outputs": [],
   "source": [
    "start = parse(startdate)\n",
    "#start = start_date.strftime(\"%B %d, %Y\")\n",
    "\n",
    "#Translating the lenght of stay into a date for first stop departure\n",
    "g=[]\n",
    "date1=[]\n",
    "for days1 in ylist1:\n",
    "    g = start + timedelta(days=days1)\n",
    "    #g1 = g.strftime(\"%B %d, %Y\")\n",
    "    date1.append(g)\n",
    "\n",
    "#Translating the lenght of stay into a date for second stop departure\n",
    "c=[]\n",
    "date2=[]\n",
    "c1=[]\n",
    "c2=[]\n",
    "i=[]\n",
    "\n",
    "for days2 in date1:\n",
    "    c1.append(days2)\n",
    "\n",
    "for i in range(6):    \n",
    "    xi = (c1[i])\n",
    "    xh = (ylist2[i])\n",
    "    c2 = xi + timedelta(days=xh)\n",
    "    date2.append(c2) \n",
    "    \n",
    "#Translating the lenght of stay into a date for third stop departure    \n",
    "    \n",
    "c3=[]\n",
    "date3=[]\n",
    "c3=[]\n",
    "c4=[]\n",
    "i=[]\n",
    "\n",
    "for days3 in date2:\n",
    "    c3.append(days3)\n",
    "\n",
    "for i in range(6):    \n",
    "    xe = (c3[i])\n",
    "    xr = (ylist3[i])\n",
    "    c4 = xe + timedelta(days=xr)\n",
    "    date3.append(c4)\n",
    "\n",
    "                               \n",
    "resultuse_df['Starting_Point'] = p0\n",
    "resultuse_df['Starting_Date'] = start\n",
    "resultuse_df['First_Stop'] = xlist1\n",
    "resultuse_df['Departure_1'] = date1\n",
    "resultuse_df['Second_Stop'] = xlist2\n",
    "resultuse_df['Departure_2'] = date2\n",
    "resultuse_df['Third_Stop'] = xlist3\n",
    "resultuse_df['Departure_3'] = date3\n",
    "resultuse_df['End_Point'] = p0\n",
    "#resultuse_df = resultuse_df.drop[['Starting_Point','Starting_Date']]\n",
    "df_full = resultuse_df[['price','agonies','Starting_Point','Starting_Date','First_Stop','Departure_1','Second_Stop','Departure_2','Third_Stop','Departure_3','End_Point','id']]"
   ]
  },
  {
   "cell_type": "code",
   "execution_count": 165,
   "metadata": {},
   "outputs": [],
   "source": [
    "df_fullnew = df_full.rename(columns={\"id\":'Itinerary_#'})\n",
    "df_fullnew=df_fullnew.sort_values(['price','agonies'], ascending=[True,True])"
   ]
  },
  {
   "cell_type": "code",
   "execution_count": 166,
   "metadata": {},
   "outputs": [
    {
     "data": {
      "text/html": [
       "<div>\n",
       "<style scoped>\n",
       "    .dataframe tbody tr th:only-of-type {\n",
       "        vertical-align: middle;\n",
       "    }\n",
       "\n",
       "    .dataframe tbody tr th {\n",
       "        vertical-align: top;\n",
       "    }\n",
       "\n",
       "    .dataframe thead th {\n",
       "        text-align: right;\n",
       "    }\n",
       "</style>\n",
       "<table border=\"1\" class=\"dataframe\">\n",
       "  <thead>\n",
       "    <tr style=\"text-align: right;\">\n",
       "      <th></th>\n",
       "      <th>price</th>\n",
       "      <th>agonies</th>\n",
       "      <th>Starting_Point</th>\n",
       "      <th>Starting_Date</th>\n",
       "      <th>First_Stop</th>\n",
       "      <th>Departure_1</th>\n",
       "      <th>Second_Stop</th>\n",
       "      <th>Departure_2</th>\n",
       "      <th>Third_Stop</th>\n",
       "      <th>Departure_3</th>\n",
       "      <th>End_Point</th>\n",
       "      <th>Itinerary_#</th>\n",
       "    </tr>\n",
       "  </thead>\n",
       "  <tbody>\n",
       "    <tr>\n",
       "      <td>1387</td>\n",
       "      <td>879.0</td>\n",
       "      <td>2453.350352</td>\n",
       "      <td>miami</td>\n",
       "      <td>2019-12-01</td>\n",
       "      <td>madrid</td>\n",
       "      <td>2019-12-07</td>\n",
       "      <td>paris</td>\n",
       "      <td>2019-12-10</td>\n",
       "      <td>tel aviv</td>\n",
       "      <td>2019-12-15</td>\n",
       "      <td>miami</td>\n",
       "      <td>ee537b0132943c9f97c90e4b8653d651</td>\n",
       "    </tr>\n",
       "    <tr>\n",
       "      <td>2505</td>\n",
       "      <td>934.0</td>\n",
       "      <td>2451.391697</td>\n",
       "      <td>miami</td>\n",
       "      <td>2019-12-01</td>\n",
       "      <td>madrid</td>\n",
       "      <td>2019-12-07</td>\n",
       "      <td>tel aviv</td>\n",
       "      <td>2019-12-12</td>\n",
       "      <td>paris</td>\n",
       "      <td>2019-12-15</td>\n",
       "      <td>miami</td>\n",
       "      <td>b321bad0df5bc791eecaf5dae7f0e625</td>\n",
       "    </tr>\n",
       "    <tr>\n",
       "      <td>2599</td>\n",
       "      <td>937.0</td>\n",
       "      <td>2610.383066</td>\n",
       "      <td>miami</td>\n",
       "      <td>2019-12-01</td>\n",
       "      <td>paris</td>\n",
       "      <td>2019-12-04</td>\n",
       "      <td>madrid</td>\n",
       "      <td>2019-12-10</td>\n",
       "      <td>tel aviv</td>\n",
       "      <td>2019-12-15</td>\n",
       "      <td>miami</td>\n",
       "      <td>457db576dbc7520601f5de3e06faf269</td>\n",
       "    </tr>\n",
       "    <tr>\n",
       "      <td>284</td>\n",
       "      <td>966.0</td>\n",
       "      <td>2362.558312</td>\n",
       "      <td>miami</td>\n",
       "      <td>2019-12-01</td>\n",
       "      <td>tel aviv</td>\n",
       "      <td>2019-12-06</td>\n",
       "      <td>madrid</td>\n",
       "      <td>2019-12-12</td>\n",
       "      <td>paris</td>\n",
       "      <td>2019-12-15</td>\n",
       "      <td>miami</td>\n",
       "      <td>a37364ef8901cbe2fbf728122a26b32f</td>\n",
       "    </tr>\n",
       "    <tr>\n",
       "      <td>212</td>\n",
       "      <td>1009.0</td>\n",
       "      <td>2795.724016</td>\n",
       "      <td>miami</td>\n",
       "      <td>2019-12-01</td>\n",
       "      <td>tel aviv</td>\n",
       "      <td>2019-12-06</td>\n",
       "      <td>paris</td>\n",
       "      <td>2019-12-09</td>\n",
       "      <td>madrid</td>\n",
       "      <td>2019-12-15</td>\n",
       "      <td>miami</td>\n",
       "      <td>0859205198a272dc147ef1ae73b19476</td>\n",
       "    </tr>\n",
       "    <tr>\n",
       "      <td>3023</td>\n",
       "      <td>1079.0</td>\n",
       "      <td>2773.472319</td>\n",
       "      <td>miami</td>\n",
       "      <td>2019-12-01</td>\n",
       "      <td>paris</td>\n",
       "      <td>2019-12-04</td>\n",
       "      <td>tel aviv</td>\n",
       "      <td>2019-12-09</td>\n",
       "      <td>madrid</td>\n",
       "      <td>2019-12-15</td>\n",
       "      <td>miami</td>\n",
       "      <td>c299a5e94dd8a1984f3471b0391cf2f3</td>\n",
       "    </tr>\n",
       "  </tbody>\n",
       "</table>\n",
       "</div>"
      ],
      "text/plain": [
       "       price      agonies Starting_Point Starting_Date First_Stop Departure_1  \\\n",
       "1387   879.0  2453.350352          miami    2019-12-01     madrid  2019-12-07   \n",
       "2505   934.0  2451.391697          miami    2019-12-01     madrid  2019-12-07   \n",
       "2599   937.0  2610.383066          miami    2019-12-01      paris  2019-12-04   \n",
       "284    966.0  2362.558312          miami    2019-12-01   tel aviv  2019-12-06   \n",
       "212   1009.0  2795.724016          miami    2019-12-01   tel aviv  2019-12-06   \n",
       "3023  1079.0  2773.472319          miami    2019-12-01      paris  2019-12-04   \n",
       "\n",
       "     Second_Stop Departure_2 Third_Stop Departure_3 End_Point  \\\n",
       "1387       paris  2019-12-10   tel aviv  2019-12-15     miami   \n",
       "2505    tel aviv  2019-12-12      paris  2019-12-15     miami   \n",
       "2599      madrid  2019-12-10   tel aviv  2019-12-15     miami   \n",
       "284       madrid  2019-12-12      paris  2019-12-15     miami   \n",
       "212        paris  2019-12-09     madrid  2019-12-15     miami   \n",
       "3023    tel aviv  2019-12-09     madrid  2019-12-15     miami   \n",
       "\n",
       "                           Itinerary_#  \n",
       "1387  ee537b0132943c9f97c90e4b8653d651  \n",
       "2505  b321bad0df5bc791eecaf5dae7f0e625  \n",
       "2599  457db576dbc7520601f5de3e06faf269  \n",
       "284   a37364ef8901cbe2fbf728122a26b32f  \n",
       "212   0859205198a272dc147ef1ae73b19476  \n",
       "3023  c299a5e94dd8a1984f3471b0391cf2f3  "
      ]
     },
     "execution_count": 166,
     "metadata": {},
     "output_type": "execute_result"
    }
   ],
   "source": [
    "df_fullnew"
   ]
  },
  {
   "cell_type": "code",
   "execution_count": 167,
   "metadata": {},
   "outputs": [
    {
     "data": {
      "text/html": [
       "<div>\n",
       "<style scoped>\n",
       "    .dataframe tbody tr th:only-of-type {\n",
       "        vertical-align: middle;\n",
       "    }\n",
       "\n",
       "    .dataframe tbody tr th {\n",
       "        vertical-align: top;\n",
       "    }\n",
       "\n",
       "    .dataframe thead th {\n",
       "        text-align: right;\n",
       "    }\n",
       "</style>\n",
       "<table border=\"1\" class=\"dataframe\">\n",
       "  <thead>\n",
       "    <tr style=\"text-align: right;\">\n",
       "      <th></th>\n",
       "      <th>Starting_Point</th>\n",
       "      <th>First_Stop</th>\n",
       "      <th>Second_Stop</th>\n",
       "      <th>Third_Stop</th>\n",
       "      <th>End_Point</th>\n",
       "    </tr>\n",
       "  </thead>\n",
       "  <tbody>\n",
       "    <tr>\n",
       "      <td>1387</td>\n",
       "      <td>miami</td>\n",
       "      <td>madrid</td>\n",
       "      <td>paris</td>\n",
       "      <td>tel aviv</td>\n",
       "      <td>miami</td>\n",
       "    </tr>\n",
       "    <tr>\n",
       "      <td>2505</td>\n",
       "      <td>miami</td>\n",
       "      <td>madrid</td>\n",
       "      <td>tel aviv</td>\n",
       "      <td>paris</td>\n",
       "      <td>miami</td>\n",
       "    </tr>\n",
       "    <tr>\n",
       "      <td>2599</td>\n",
       "      <td>miami</td>\n",
       "      <td>paris</td>\n",
       "      <td>madrid</td>\n",
       "      <td>tel aviv</td>\n",
       "      <td>miami</td>\n",
       "    </tr>\n",
       "    <tr>\n",
       "      <td>284</td>\n",
       "      <td>miami</td>\n",
       "      <td>tel aviv</td>\n",
       "      <td>madrid</td>\n",
       "      <td>paris</td>\n",
       "      <td>miami</td>\n",
       "    </tr>\n",
       "    <tr>\n",
       "      <td>212</td>\n",
       "      <td>miami</td>\n",
       "      <td>tel aviv</td>\n",
       "      <td>paris</td>\n",
       "      <td>madrid</td>\n",
       "      <td>miami</td>\n",
       "    </tr>\n",
       "    <tr>\n",
       "      <td>3023</td>\n",
       "      <td>miami</td>\n",
       "      <td>paris</td>\n",
       "      <td>tel aviv</td>\n",
       "      <td>madrid</td>\n",
       "      <td>miami</td>\n",
       "    </tr>\n",
       "  </tbody>\n",
       "</table>\n",
       "</div>"
      ],
      "text/plain": [
       "     Starting_Point First_Stop Second_Stop Third_Stop End_Point\n",
       "1387          miami     madrid       paris   tel aviv     miami\n",
       "2505          miami     madrid    tel aviv      paris     miami\n",
       "2599          miami      paris      madrid   tel aviv     miami\n",
       "284           miami   tel aviv      madrid      paris     miami\n",
       "212           miami   tel aviv       paris     madrid     miami\n",
       "3023          miami      paris    tel aviv     madrid     miami"
      ]
     },
     "execution_count": 167,
     "metadata": {},
     "output_type": "execute_result"
    }
   ],
   "source": [
    "destination_df = df_fullnew.loc[:,['Starting_Point','First_Stop','Second_Stop','Third_Stop','End_Point']]\n",
    "destination_df"
   ]
  },
  {
   "cell_type": "code",
   "execution_count": 168,
   "metadata": {},
   "outputs": [
    {
     "name": "stdout",
     "output_type": "stream",
     "text": [
      "[['miami', 'madrid', 'paris', 'tel aviv', 'miami'], ['miami', 'madrid', 'tel aviv', 'paris', 'miami'], ['miami', 'paris', 'madrid', 'tel aviv', 'miami'], ['miami', 'tel aviv', 'madrid', 'paris', 'miami'], ['miami', 'tel aviv', 'paris', 'madrid', 'miami'], ['miami', 'paris', 'tel aviv', 'madrid', 'miami']]\n"
     ]
    }
   ],
   "source": [
    "# Create an empty list \n",
    "destinations_list =[] \n",
    "  \n",
    "# Iterate over each row \n",
    "for index, rows in destination_df.iterrows(): \n",
    "    # Create list for the current row \n",
    "    my_list =[rows.Starting_Point, rows.First_Stop, rows.Second_Stop, rows.Third_Stop, rows.End_Point] \n",
    "      \n",
    "    # append the list to the final list \n",
    "    destinations_list.append(my_list) \n",
    "  \n",
    "# Print the list \n",
    "print(destinations_list) \n"
   ]
  },
  {
   "cell_type": "code",
   "execution_count": 169,
   "metadata": {},
   "outputs": [],
   "source": [
    "from geopy.geocoders import Nominatim\n",
    "geolocator = Nominatim(user_agent=\"specify_your_app_name_here\")\n",
    "\n",
    "from geopy.extra.rate_limiter import RateLimiter\n",
    "geocode = RateLimiter(geolocator.geocode)\n",
    "destination_df['location'] = destination_df['Starting_Point'].apply(geocode)\n",
    "destination_df['point'] = destination_df['location'].apply(lambda loc: tuple(loc.point) if loc else None)\n",
    "destination_df['location2'] = destination_df['First_Stop'].apply(geocode)\n",
    "destination_df['point2'] = destination_df['location2'].apply(lambda loc: tuple(loc.point) if loc else None)\n",
    "destination_df['location3'] = destination_df['Second_Stop'].apply(geocode)\n",
    "destination_df['point3'] = destination_df['location3'].apply(lambda loc: tuple(loc.point) if loc else None)\n",
    "destination_df['location4'] = destination_df['Third_Stop'].apply(geocode)\n",
    "destination_df['point4'] = destination_df['location4'].apply(lambda loc: tuple(loc.point) if loc else None)"
   ]
  },
  {
   "cell_type": "code",
   "execution_count": 170,
   "metadata": {},
   "outputs": [
    {
     "data": {
      "text/html": [
       "<div>\n",
       "<style scoped>\n",
       "    .dataframe tbody tr th:only-of-type {\n",
       "        vertical-align: middle;\n",
       "    }\n",
       "\n",
       "    .dataframe tbody tr th {\n",
       "        vertical-align: top;\n",
       "    }\n",
       "\n",
       "    .dataframe thead th {\n",
       "        text-align: right;\n",
       "    }\n",
       "</style>\n",
       "<table border=\"1\" class=\"dataframe\">\n",
       "  <thead>\n",
       "    <tr style=\"text-align: right;\">\n",
       "      <th></th>\n",
       "      <th>Starting_Point</th>\n",
       "      <th>First_Stop</th>\n",
       "      <th>Second_Stop</th>\n",
       "      <th>Third_Stop</th>\n",
       "      <th>End_Point</th>\n",
       "      <th>location</th>\n",
       "      <th>point</th>\n",
       "      <th>location2</th>\n",
       "      <th>point2</th>\n",
       "      <th>location3</th>\n",
       "      <th>point3</th>\n",
       "      <th>location4</th>\n",
       "      <th>point4</th>\n",
       "    </tr>\n",
       "  </thead>\n",
       "  <tbody>\n",
       "    <tr>\n",
       "      <td>1387</td>\n",
       "      <td>miami</td>\n",
       "      <td>madrid</td>\n",
       "      <td>paris</td>\n",
       "      <td>tel aviv</td>\n",
       "      <td>miami</td>\n",
       "      <td>(Miami, Miami-Dade County, Florida, United Sta...</td>\n",
       "      <td>(25.7742658, -80.1936589, 0.0)</td>\n",
       "      <td>(Madrid, Área metropolitana de Madrid y Corred...</td>\n",
       "      <td>(40.4167047, -3.7035825, 0.0)</td>\n",
       "      <td>(Paris, Île-de-France, France, (48.8566101, 2....</td>\n",
       "      <td>(48.8566101, 2.3514992, 0.0)</td>\n",
       "      <td>(תל אביב-יפו, מחוז תל אביב, ישראל, (32.0804808...</td>\n",
       "      <td>(32.0804808, 34.7805274, 0.0)</td>\n",
       "    </tr>\n",
       "    <tr>\n",
       "      <td>2505</td>\n",
       "      <td>miami</td>\n",
       "      <td>madrid</td>\n",
       "      <td>tel aviv</td>\n",
       "      <td>paris</td>\n",
       "      <td>miami</td>\n",
       "      <td>(Miami, Miami-Dade County, Florida, United Sta...</td>\n",
       "      <td>(25.7742658, -80.1936589, 0.0)</td>\n",
       "      <td>(Madrid, Área metropolitana de Madrid y Corred...</td>\n",
       "      <td>(40.4167047, -3.7035825, 0.0)</td>\n",
       "      <td>(תל אביב-יפו, מחוז תל אביב, ישראל, (32.0804808...</td>\n",
       "      <td>(32.0804808, 34.7805274, 0.0)</td>\n",
       "      <td>(Paris, Île-de-France, France, (48.8566101, 2....</td>\n",
       "      <td>(48.8566101, 2.3514992, 0.0)</td>\n",
       "    </tr>\n",
       "    <tr>\n",
       "      <td>2599</td>\n",
       "      <td>miami</td>\n",
       "      <td>paris</td>\n",
       "      <td>madrid</td>\n",
       "      <td>tel aviv</td>\n",
       "      <td>miami</td>\n",
       "      <td>(Miami, Miami-Dade County, Florida, United Sta...</td>\n",
       "      <td>(25.7742658, -80.1936589, 0.0)</td>\n",
       "      <td>(Paris, Île-de-France, France, (48.8566101, 2....</td>\n",
       "      <td>(48.8566101, 2.3514992, 0.0)</td>\n",
       "      <td>(Madrid, Área metropolitana de Madrid y Corred...</td>\n",
       "      <td>(40.4167047, -3.7035825, 0.0)</td>\n",
       "      <td>(תל אביב-יפו, מחוז תל אביב, ישראל, (32.0804808...</td>\n",
       "      <td>(32.0804808, 34.7805274, 0.0)</td>\n",
       "    </tr>\n",
       "    <tr>\n",
       "      <td>284</td>\n",
       "      <td>miami</td>\n",
       "      <td>tel aviv</td>\n",
       "      <td>madrid</td>\n",
       "      <td>paris</td>\n",
       "      <td>miami</td>\n",
       "      <td>(Miami, Miami-Dade County, Florida, United Sta...</td>\n",
       "      <td>(25.7742658, -80.1936589, 0.0)</td>\n",
       "      <td>(תל אביב-יפו, מחוז תל אביב, ישראל, (32.0804808...</td>\n",
       "      <td>(32.0804808, 34.7805274, 0.0)</td>\n",
       "      <td>(Madrid, Área metropolitana de Madrid y Corred...</td>\n",
       "      <td>(40.4167047, -3.7035825, 0.0)</td>\n",
       "      <td>(Paris, Île-de-France, France, (48.8566101, 2....</td>\n",
       "      <td>(48.8566101, 2.3514992, 0.0)</td>\n",
       "    </tr>\n",
       "    <tr>\n",
       "      <td>212</td>\n",
       "      <td>miami</td>\n",
       "      <td>tel aviv</td>\n",
       "      <td>paris</td>\n",
       "      <td>madrid</td>\n",
       "      <td>miami</td>\n",
       "      <td>(Miami, Miami-Dade County, Florida, United Sta...</td>\n",
       "      <td>(25.7742658, -80.1936589, 0.0)</td>\n",
       "      <td>(תל אביב-יפו, מחוז תל אביב, ישראל, (32.0804808...</td>\n",
       "      <td>(32.0804808, 34.7805274, 0.0)</td>\n",
       "      <td>(Paris, Île-de-France, France, (48.8566101, 2....</td>\n",
       "      <td>(48.8566101, 2.3514992, 0.0)</td>\n",
       "      <td>(Madrid, Área metropolitana de Madrid y Corred...</td>\n",
       "      <td>(40.4167047, -3.7035825, 0.0)</td>\n",
       "    </tr>\n",
       "    <tr>\n",
       "      <td>3023</td>\n",
       "      <td>miami</td>\n",
       "      <td>paris</td>\n",
       "      <td>tel aviv</td>\n",
       "      <td>madrid</td>\n",
       "      <td>miami</td>\n",
       "      <td>(Miami, Miami-Dade County, Florida, United Sta...</td>\n",
       "      <td>(25.7742658, -80.1936589, 0.0)</td>\n",
       "      <td>(Paris, Île-de-France, France, (48.8566101, 2....</td>\n",
       "      <td>(48.8566101, 2.3514992, 0.0)</td>\n",
       "      <td>(תל אביב-יפו, מחוז תל אביב, ישראל, (32.0804808...</td>\n",
       "      <td>(32.0804808, 34.7805274, 0.0)</td>\n",
       "      <td>(Madrid, Área metropolitana de Madrid y Corred...</td>\n",
       "      <td>(40.4167047, -3.7035825, 0.0)</td>\n",
       "    </tr>\n",
       "  </tbody>\n",
       "</table>\n",
       "</div>"
      ],
      "text/plain": [
       "     Starting_Point First_Stop Second_Stop Third_Stop End_Point  \\\n",
       "1387          miami     madrid       paris   tel aviv     miami   \n",
       "2505          miami     madrid    tel aviv      paris     miami   \n",
       "2599          miami      paris      madrid   tel aviv     miami   \n",
       "284           miami   tel aviv      madrid      paris     miami   \n",
       "212           miami   tel aviv       paris     madrid     miami   \n",
       "3023          miami      paris    tel aviv     madrid     miami   \n",
       "\n",
       "                                               location  \\\n",
       "1387  (Miami, Miami-Dade County, Florida, United Sta...   \n",
       "2505  (Miami, Miami-Dade County, Florida, United Sta...   \n",
       "2599  (Miami, Miami-Dade County, Florida, United Sta...   \n",
       "284   (Miami, Miami-Dade County, Florida, United Sta...   \n",
       "212   (Miami, Miami-Dade County, Florida, United Sta...   \n",
       "3023  (Miami, Miami-Dade County, Florida, United Sta...   \n",
       "\n",
       "                               point  \\\n",
       "1387  (25.7742658, -80.1936589, 0.0)   \n",
       "2505  (25.7742658, -80.1936589, 0.0)   \n",
       "2599  (25.7742658, -80.1936589, 0.0)   \n",
       "284   (25.7742658, -80.1936589, 0.0)   \n",
       "212   (25.7742658, -80.1936589, 0.0)   \n",
       "3023  (25.7742658, -80.1936589, 0.0)   \n",
       "\n",
       "                                              location2  \\\n",
       "1387  (Madrid, Área metropolitana de Madrid y Corred...   \n",
       "2505  (Madrid, Área metropolitana de Madrid y Corred...   \n",
       "2599  (Paris, Île-de-France, France, (48.8566101, 2....   \n",
       "284   (תל אביב-יפו, מחוז תל אביב, ישראל, (32.0804808...   \n",
       "212   (תל אביב-יפו, מחוז תל אביב, ישראל, (32.0804808...   \n",
       "3023  (Paris, Île-de-France, France, (48.8566101, 2....   \n",
       "\n",
       "                             point2  \\\n",
       "1387  (40.4167047, -3.7035825, 0.0)   \n",
       "2505  (40.4167047, -3.7035825, 0.0)   \n",
       "2599   (48.8566101, 2.3514992, 0.0)   \n",
       "284   (32.0804808, 34.7805274, 0.0)   \n",
       "212   (32.0804808, 34.7805274, 0.0)   \n",
       "3023   (48.8566101, 2.3514992, 0.0)   \n",
       "\n",
       "                                              location3  \\\n",
       "1387  (Paris, Île-de-France, France, (48.8566101, 2....   \n",
       "2505  (תל אביב-יפו, מחוז תל אביב, ישראל, (32.0804808...   \n",
       "2599  (Madrid, Área metropolitana de Madrid y Corred...   \n",
       "284   (Madrid, Área metropolitana de Madrid y Corred...   \n",
       "212   (Paris, Île-de-France, France, (48.8566101, 2....   \n",
       "3023  (תל אביב-יפו, מחוז תל אביב, ישראל, (32.0804808...   \n",
       "\n",
       "                             point3  \\\n",
       "1387   (48.8566101, 2.3514992, 0.0)   \n",
       "2505  (32.0804808, 34.7805274, 0.0)   \n",
       "2599  (40.4167047, -3.7035825, 0.0)   \n",
       "284   (40.4167047, -3.7035825, 0.0)   \n",
       "212    (48.8566101, 2.3514992, 0.0)   \n",
       "3023  (32.0804808, 34.7805274, 0.0)   \n",
       "\n",
       "                                              location4  \\\n",
       "1387  (תל אביב-יפו, מחוז תל אביב, ישראל, (32.0804808...   \n",
       "2505  (Paris, Île-de-France, France, (48.8566101, 2....   \n",
       "2599  (תל אביב-יפו, מחוז תל אביב, ישראל, (32.0804808...   \n",
       "284   (Paris, Île-de-France, France, (48.8566101, 2....   \n",
       "212   (Madrid, Área metropolitana de Madrid y Corred...   \n",
       "3023  (Madrid, Área metropolitana de Madrid y Corred...   \n",
       "\n",
       "                             point4  \n",
       "1387  (32.0804808, 34.7805274, 0.0)  \n",
       "2505   (48.8566101, 2.3514992, 0.0)  \n",
       "2599  (32.0804808, 34.7805274, 0.0)  \n",
       "284    (48.8566101, 2.3514992, 0.0)  \n",
       "212   (40.4167047, -3.7035825, 0.0)  \n",
       "3023  (40.4167047, -3.7035825, 0.0)  "
      ]
     },
     "execution_count": 170,
     "metadata": {},
     "output_type": "execute_result"
    }
   ],
   "source": [
    "destination_df"
   ]
  },
  {
   "cell_type": "code",
   "execution_count": 171,
   "metadata": {},
   "outputs": [
    {
     "name": "stdout",
     "output_type": "stream",
     "text": [
      "c = (25.7742658, 40.4167047, 48.8566101, 32.0804808)\n",
      "v = (-80.1936589, -3.7035825, 2.3514992, 34.7805274)\n"
     ]
    }
   ],
   "source": [
    "coorddesti_df = destination_df[['point','point2','point3','point4']]\n",
    "maping_coord = coorddesti_df.iloc[[0]]\n",
    "\n",
    "# Create an empty list \n",
    "Row_list =[] \n",
    "  \n",
    "# Iterate over each row \n",
    "for index, rows in maping_coord.iterrows(): \n",
    "    # Create list for the current row \n",
    "    my_list =[rows.point, rows.point2, rows.point3, rows.point4] \n",
    "      \n",
    "    # append the list to the final list \n",
    "    Row_list.append(my_list) \n",
    "\n",
    "c, v, z =  zip(*my_list)\n",
    "print('c =', c)\n",
    "print('v =', v)\n",
    "\n",
    "lat0 = c[0]\n",
    "lat1 = c[1]\n",
    "lat2 = c[2]\n",
    "lat3 = c[3]\n",
    "\n",
    "long0 = v[0]\n",
    "long1 = v[1]\n",
    "long2 = v[2]\n",
    "long3 = v[3]\n",
    "\n",
    "\n"
   ]
  },
  {
   "cell_type": "code",
   "execution_count": 172,
   "metadata": {},
   "outputs": [
    {
     "data": {
      "text/html": [
       "<div>\n",
       "<style scoped>\n",
       "    .dataframe tbody tr th:only-of-type {\n",
       "        vertical-align: middle;\n",
       "    }\n",
       "\n",
       "    .dataframe tbody tr th {\n",
       "        vertical-align: top;\n",
       "    }\n",
       "\n",
       "    .dataframe thead th {\n",
       "        text-align: right;\n",
       "    }\n",
       "</style>\n",
       "<table border=\"1\" class=\"dataframe\">\n",
       "  <thead>\n",
       "    <tr style=\"text-align: right;\">\n",
       "      <th></th>\n",
       "      <th>point</th>\n",
       "      <th>point2</th>\n",
       "      <th>point3</th>\n",
       "      <th>point4</th>\n",
       "      <th>price</th>\n",
       "      <th>agonies</th>\n",
       "      <th>Starting_Point</th>\n",
       "      <th>Starting_Date</th>\n",
       "      <th>First_Stop</th>\n",
       "      <th>Departure_1</th>\n",
       "      <th>Second_Stop</th>\n",
       "      <th>Departure_2</th>\n",
       "      <th>Third_Stop</th>\n",
       "      <th>Departure_3</th>\n",
       "      <th>End_Point</th>\n",
       "      <th>Itinerary_#</th>\n",
       "    </tr>\n",
       "  </thead>\n",
       "  <tbody>\n",
       "    <tr>\n",
       "      <td>1387</td>\n",
       "      <td>(25.7742658, -80.1936589, 0.0)</td>\n",
       "      <td>(40.4167047, -3.7035825, 0.0)</td>\n",
       "      <td>(48.8566101, 2.3514992, 0.0)</td>\n",
       "      <td>(32.0804808, 34.7805274, 0.0)</td>\n",
       "      <td>879.0</td>\n",
       "      <td>2453.350352</td>\n",
       "      <td>miami</td>\n",
       "      <td>2019-12-01</td>\n",
       "      <td>madrid</td>\n",
       "      <td>2019-12-07</td>\n",
       "      <td>paris</td>\n",
       "      <td>2019-12-10</td>\n",
       "      <td>tel aviv</td>\n",
       "      <td>2019-12-15</td>\n",
       "      <td>miami</td>\n",
       "      <td>ee537b0132943c9f97c90e4b8653d651</td>\n",
       "    </tr>\n",
       "    <tr>\n",
       "      <td>2505</td>\n",
       "      <td>(25.7742658, -80.1936589, 0.0)</td>\n",
       "      <td>(40.4167047, -3.7035825, 0.0)</td>\n",
       "      <td>(32.0804808, 34.7805274, 0.0)</td>\n",
       "      <td>(48.8566101, 2.3514992, 0.0)</td>\n",
       "      <td>934.0</td>\n",
       "      <td>2451.391697</td>\n",
       "      <td>miami</td>\n",
       "      <td>2019-12-01</td>\n",
       "      <td>madrid</td>\n",
       "      <td>2019-12-07</td>\n",
       "      <td>tel aviv</td>\n",
       "      <td>2019-12-12</td>\n",
       "      <td>paris</td>\n",
       "      <td>2019-12-15</td>\n",
       "      <td>miami</td>\n",
       "      <td>b321bad0df5bc791eecaf5dae7f0e625</td>\n",
       "    </tr>\n",
       "    <tr>\n",
       "      <td>2599</td>\n",
       "      <td>(25.7742658, -80.1936589, 0.0)</td>\n",
       "      <td>(48.8566101, 2.3514992, 0.0)</td>\n",
       "      <td>(40.4167047, -3.7035825, 0.0)</td>\n",
       "      <td>(32.0804808, 34.7805274, 0.0)</td>\n",
       "      <td>937.0</td>\n",
       "      <td>2610.383066</td>\n",
       "      <td>miami</td>\n",
       "      <td>2019-12-01</td>\n",
       "      <td>paris</td>\n",
       "      <td>2019-12-04</td>\n",
       "      <td>madrid</td>\n",
       "      <td>2019-12-10</td>\n",
       "      <td>tel aviv</td>\n",
       "      <td>2019-12-15</td>\n",
       "      <td>miami</td>\n",
       "      <td>457db576dbc7520601f5de3e06faf269</td>\n",
       "    </tr>\n",
       "    <tr>\n",
       "      <td>284</td>\n",
       "      <td>(25.7742658, -80.1936589, 0.0)</td>\n",
       "      <td>(32.0804808, 34.7805274, 0.0)</td>\n",
       "      <td>(40.4167047, -3.7035825, 0.0)</td>\n",
       "      <td>(48.8566101, 2.3514992, 0.0)</td>\n",
       "      <td>966.0</td>\n",
       "      <td>2362.558312</td>\n",
       "      <td>miami</td>\n",
       "      <td>2019-12-01</td>\n",
       "      <td>tel aviv</td>\n",
       "      <td>2019-12-06</td>\n",
       "      <td>madrid</td>\n",
       "      <td>2019-12-12</td>\n",
       "      <td>paris</td>\n",
       "      <td>2019-12-15</td>\n",
       "      <td>miami</td>\n",
       "      <td>a37364ef8901cbe2fbf728122a26b32f</td>\n",
       "    </tr>\n",
       "    <tr>\n",
       "      <td>212</td>\n",
       "      <td>(25.7742658, -80.1936589, 0.0)</td>\n",
       "      <td>(32.0804808, 34.7805274, 0.0)</td>\n",
       "      <td>(48.8566101, 2.3514992, 0.0)</td>\n",
       "      <td>(40.4167047, -3.7035825, 0.0)</td>\n",
       "      <td>1009.0</td>\n",
       "      <td>2795.724016</td>\n",
       "      <td>miami</td>\n",
       "      <td>2019-12-01</td>\n",
       "      <td>tel aviv</td>\n",
       "      <td>2019-12-06</td>\n",
       "      <td>paris</td>\n",
       "      <td>2019-12-09</td>\n",
       "      <td>madrid</td>\n",
       "      <td>2019-12-15</td>\n",
       "      <td>miami</td>\n",
       "      <td>0859205198a272dc147ef1ae73b19476</td>\n",
       "    </tr>\n",
       "    <tr>\n",
       "      <td>3023</td>\n",
       "      <td>(25.7742658, -80.1936589, 0.0)</td>\n",
       "      <td>(48.8566101, 2.3514992, 0.0)</td>\n",
       "      <td>(32.0804808, 34.7805274, 0.0)</td>\n",
       "      <td>(40.4167047, -3.7035825, 0.0)</td>\n",
       "      <td>1079.0</td>\n",
       "      <td>2773.472319</td>\n",
       "      <td>miami</td>\n",
       "      <td>2019-12-01</td>\n",
       "      <td>paris</td>\n",
       "      <td>2019-12-04</td>\n",
       "      <td>tel aviv</td>\n",
       "      <td>2019-12-09</td>\n",
       "      <td>madrid</td>\n",
       "      <td>2019-12-15</td>\n",
       "      <td>miami</td>\n",
       "      <td>c299a5e94dd8a1984f3471b0391cf2f3</td>\n",
       "    </tr>\n",
       "  </tbody>\n",
       "</table>\n",
       "</div>"
      ],
      "text/plain": [
       "                               point                         point2  \\\n",
       "1387  (25.7742658, -80.1936589, 0.0)  (40.4167047, -3.7035825, 0.0)   \n",
       "2505  (25.7742658, -80.1936589, 0.0)  (40.4167047, -3.7035825, 0.0)   \n",
       "2599  (25.7742658, -80.1936589, 0.0)   (48.8566101, 2.3514992, 0.0)   \n",
       "284   (25.7742658, -80.1936589, 0.0)  (32.0804808, 34.7805274, 0.0)   \n",
       "212   (25.7742658, -80.1936589, 0.0)  (32.0804808, 34.7805274, 0.0)   \n",
       "3023  (25.7742658, -80.1936589, 0.0)   (48.8566101, 2.3514992, 0.0)   \n",
       "\n",
       "                             point3                         point4   price  \\\n",
       "1387   (48.8566101, 2.3514992, 0.0)  (32.0804808, 34.7805274, 0.0)   879.0   \n",
       "2505  (32.0804808, 34.7805274, 0.0)   (48.8566101, 2.3514992, 0.0)   934.0   \n",
       "2599  (40.4167047, -3.7035825, 0.0)  (32.0804808, 34.7805274, 0.0)   937.0   \n",
       "284   (40.4167047, -3.7035825, 0.0)   (48.8566101, 2.3514992, 0.0)   966.0   \n",
       "212    (48.8566101, 2.3514992, 0.0)  (40.4167047, -3.7035825, 0.0)  1009.0   \n",
       "3023  (32.0804808, 34.7805274, 0.0)  (40.4167047, -3.7035825, 0.0)  1079.0   \n",
       "\n",
       "          agonies Starting_Point Starting_Date First_Stop Departure_1  \\\n",
       "1387  2453.350352          miami    2019-12-01     madrid  2019-12-07   \n",
       "2505  2451.391697          miami    2019-12-01     madrid  2019-12-07   \n",
       "2599  2610.383066          miami    2019-12-01      paris  2019-12-04   \n",
       "284   2362.558312          miami    2019-12-01   tel aviv  2019-12-06   \n",
       "212   2795.724016          miami    2019-12-01   tel aviv  2019-12-06   \n",
       "3023  2773.472319          miami    2019-12-01      paris  2019-12-04   \n",
       "\n",
       "     Second_Stop Departure_2 Third_Stop Departure_3 End_Point  \\\n",
       "1387       paris  2019-12-10   tel aviv  2019-12-15     miami   \n",
       "2505    tel aviv  2019-12-12      paris  2019-12-15     miami   \n",
       "2599      madrid  2019-12-10   tel aviv  2019-12-15     miami   \n",
       "284       madrid  2019-12-12      paris  2019-12-15     miami   \n",
       "212        paris  2019-12-09     madrid  2019-12-15     miami   \n",
       "3023    tel aviv  2019-12-09     madrid  2019-12-15     miami   \n",
       "\n",
       "                           Itinerary_#  \n",
       "1387  ee537b0132943c9f97c90e4b8653d651  \n",
       "2505  b321bad0df5bc791eecaf5dae7f0e625  \n",
       "2599  457db576dbc7520601f5de3e06faf269  \n",
       "284   a37364ef8901cbe2fbf728122a26b32f  \n",
       "212   0859205198a272dc147ef1ae73b19476  \n",
       "3023  c299a5e94dd8a1984f3471b0391cf2f3  "
      ]
     },
     "execution_count": 172,
     "metadata": {},
     "output_type": "execute_result"
    }
   ],
   "source": [
    "mergedDf = coorddesti_df.merge(df_fullnew, left_index=True, right_index=True)\n",
    "mergedDf"
   ]
  },
  {
   "cell_type": "code",
   "execution_count": 173,
   "metadata": {},
   "outputs": [
    {
     "data": {
      "application/vnd.plotly.v1+json": {
       "config": {
        "plotlyServerURL": "https://plot.ly"
       },
       "data": [
        {
         "marker": {
          "size": 5
         },
         "mode": "markers+lines",
         "type": "scattermapbox"
        },
        {
         "lat": [
          25.7742658,
          40.4167047,
          48.8566101,
          32.0804808,
          25.7742658
         ],
         "lon": [
          -80.1936589,
          -3.7035825,
          2.3514992,
          34.7805274,
          -80.1936589
         ],
         "marker": {
          "size": 5
         },
         "mode": "markers+lines",
         "type": "scattermapbox"
        }
       ],
       "layout": {
        "mapbox": {
         "center": {
          "lat": -20,
          "lon": -20
         },
         "style": "stamen-terrain",
         "zoom": 1
        },
        "margin": {
         "b": 0,
         "l": 0,
         "r": 0,
         "t": 0
        },
        "template": {
         "data": {
          "bar": [
           {
            "error_x": {
             "color": "#2a3f5f"
            },
            "error_y": {
             "color": "#2a3f5f"
            },
            "marker": {
             "line": {
              "color": "#E5ECF6",
              "width": 0.5
             }
            },
            "type": "bar"
           }
          ],
          "barpolar": [
           {
            "marker": {
             "line": {
              "color": "#E5ECF6",
              "width": 0.5
             }
            },
            "type": "barpolar"
           }
          ],
          "carpet": [
           {
            "aaxis": {
             "endlinecolor": "#2a3f5f",
             "gridcolor": "white",
             "linecolor": "white",
             "minorgridcolor": "white",
             "startlinecolor": "#2a3f5f"
            },
            "baxis": {
             "endlinecolor": "#2a3f5f",
             "gridcolor": "white",
             "linecolor": "white",
             "minorgridcolor": "white",
             "startlinecolor": "#2a3f5f"
            },
            "type": "carpet"
           }
          ],
          "choropleth": [
           {
            "colorbar": {
             "outlinewidth": 0,
             "ticks": ""
            },
            "type": "choropleth"
           }
          ],
          "contour": [
           {
            "colorbar": {
             "outlinewidth": 0,
             "ticks": ""
            },
            "colorscale": [
             [
              0,
              "#0d0887"
             ],
             [
              0.1111111111111111,
              "#46039f"
             ],
             [
              0.2222222222222222,
              "#7201a8"
             ],
             [
              0.3333333333333333,
              "#9c179e"
             ],
             [
              0.4444444444444444,
              "#bd3786"
             ],
             [
              0.5555555555555556,
              "#d8576b"
             ],
             [
              0.6666666666666666,
              "#ed7953"
             ],
             [
              0.7777777777777778,
              "#fb9f3a"
             ],
             [
              0.8888888888888888,
              "#fdca26"
             ],
             [
              1,
              "#f0f921"
             ]
            ],
            "type": "contour"
           }
          ],
          "contourcarpet": [
           {
            "colorbar": {
             "outlinewidth": 0,
             "ticks": ""
            },
            "type": "contourcarpet"
           }
          ],
          "heatmap": [
           {
            "colorbar": {
             "outlinewidth": 0,
             "ticks": ""
            },
            "colorscale": [
             [
              0,
              "#0d0887"
             ],
             [
              0.1111111111111111,
              "#46039f"
             ],
             [
              0.2222222222222222,
              "#7201a8"
             ],
             [
              0.3333333333333333,
              "#9c179e"
             ],
             [
              0.4444444444444444,
              "#bd3786"
             ],
             [
              0.5555555555555556,
              "#d8576b"
             ],
             [
              0.6666666666666666,
              "#ed7953"
             ],
             [
              0.7777777777777778,
              "#fb9f3a"
             ],
             [
              0.8888888888888888,
              "#fdca26"
             ],
             [
              1,
              "#f0f921"
             ]
            ],
            "type": "heatmap"
           }
          ],
          "heatmapgl": [
           {
            "colorbar": {
             "outlinewidth": 0,
             "ticks": ""
            },
            "colorscale": [
             [
              0,
              "#0d0887"
             ],
             [
              0.1111111111111111,
              "#46039f"
             ],
             [
              0.2222222222222222,
              "#7201a8"
             ],
             [
              0.3333333333333333,
              "#9c179e"
             ],
             [
              0.4444444444444444,
              "#bd3786"
             ],
             [
              0.5555555555555556,
              "#d8576b"
             ],
             [
              0.6666666666666666,
              "#ed7953"
             ],
             [
              0.7777777777777778,
              "#fb9f3a"
             ],
             [
              0.8888888888888888,
              "#fdca26"
             ],
             [
              1,
              "#f0f921"
             ]
            ],
            "type": "heatmapgl"
           }
          ],
          "histogram": [
           {
            "marker": {
             "colorbar": {
              "outlinewidth": 0,
              "ticks": ""
             }
            },
            "type": "histogram"
           }
          ],
          "histogram2d": [
           {
            "colorbar": {
             "outlinewidth": 0,
             "ticks": ""
            },
            "colorscale": [
             [
              0,
              "#0d0887"
             ],
             [
              0.1111111111111111,
              "#46039f"
             ],
             [
              0.2222222222222222,
              "#7201a8"
             ],
             [
              0.3333333333333333,
              "#9c179e"
             ],
             [
              0.4444444444444444,
              "#bd3786"
             ],
             [
              0.5555555555555556,
              "#d8576b"
             ],
             [
              0.6666666666666666,
              "#ed7953"
             ],
             [
              0.7777777777777778,
              "#fb9f3a"
             ],
             [
              0.8888888888888888,
              "#fdca26"
             ],
             [
              1,
              "#f0f921"
             ]
            ],
            "type": "histogram2d"
           }
          ],
          "histogram2dcontour": [
           {
            "colorbar": {
             "outlinewidth": 0,
             "ticks": ""
            },
            "colorscale": [
             [
              0,
              "#0d0887"
             ],
             [
              0.1111111111111111,
              "#46039f"
             ],
             [
              0.2222222222222222,
              "#7201a8"
             ],
             [
              0.3333333333333333,
              "#9c179e"
             ],
             [
              0.4444444444444444,
              "#bd3786"
             ],
             [
              0.5555555555555556,
              "#d8576b"
             ],
             [
              0.6666666666666666,
              "#ed7953"
             ],
             [
              0.7777777777777778,
              "#fb9f3a"
             ],
             [
              0.8888888888888888,
              "#fdca26"
             ],
             [
              1,
              "#f0f921"
             ]
            ],
            "type": "histogram2dcontour"
           }
          ],
          "mesh3d": [
           {
            "colorbar": {
             "outlinewidth": 0,
             "ticks": ""
            },
            "type": "mesh3d"
           }
          ],
          "parcoords": [
           {
            "line": {
             "colorbar": {
              "outlinewidth": 0,
              "ticks": ""
             }
            },
            "type": "parcoords"
           }
          ],
          "pie": [
           {
            "automargin": true,
            "type": "pie"
           }
          ],
          "scatter": [
           {
            "marker": {
             "colorbar": {
              "outlinewidth": 0,
              "ticks": ""
             }
            },
            "type": "scatter"
           }
          ],
          "scatter3d": [
           {
            "line": {
             "colorbar": {
              "outlinewidth": 0,
              "ticks": ""
             }
            },
            "marker": {
             "colorbar": {
              "outlinewidth": 0,
              "ticks": ""
             }
            },
            "type": "scatter3d"
           }
          ],
          "scattercarpet": [
           {
            "marker": {
             "colorbar": {
              "outlinewidth": 0,
              "ticks": ""
             }
            },
            "type": "scattercarpet"
           }
          ],
          "scattergeo": [
           {
            "marker": {
             "colorbar": {
              "outlinewidth": 0,
              "ticks": ""
             }
            },
            "type": "scattergeo"
           }
          ],
          "scattergl": [
           {
            "marker": {
             "colorbar": {
              "outlinewidth": 0,
              "ticks": ""
             }
            },
            "type": "scattergl"
           }
          ],
          "scattermapbox": [
           {
            "marker": {
             "colorbar": {
              "outlinewidth": 0,
              "ticks": ""
             }
            },
            "type": "scattermapbox"
           }
          ],
          "scatterpolar": [
           {
            "marker": {
             "colorbar": {
              "outlinewidth": 0,
              "ticks": ""
             }
            },
            "type": "scatterpolar"
           }
          ],
          "scatterpolargl": [
           {
            "marker": {
             "colorbar": {
              "outlinewidth": 0,
              "ticks": ""
             }
            },
            "type": "scatterpolargl"
           }
          ],
          "scatterternary": [
           {
            "marker": {
             "colorbar": {
              "outlinewidth": 0,
              "ticks": ""
             }
            },
            "type": "scatterternary"
           }
          ],
          "surface": [
           {
            "colorbar": {
             "outlinewidth": 0,
             "ticks": ""
            },
            "colorscale": [
             [
              0,
              "#0d0887"
             ],
             [
              0.1111111111111111,
              "#46039f"
             ],
             [
              0.2222222222222222,
              "#7201a8"
             ],
             [
              0.3333333333333333,
              "#9c179e"
             ],
             [
              0.4444444444444444,
              "#bd3786"
             ],
             [
              0.5555555555555556,
              "#d8576b"
             ],
             [
              0.6666666666666666,
              "#ed7953"
             ],
             [
              0.7777777777777778,
              "#fb9f3a"
             ],
             [
              0.8888888888888888,
              "#fdca26"
             ],
             [
              1,
              "#f0f921"
             ]
            ],
            "type": "surface"
           }
          ],
          "table": [
           {
            "cells": {
             "fill": {
              "color": "#EBF0F8"
             },
             "line": {
              "color": "white"
             }
            },
            "header": {
             "fill": {
              "color": "#C8D4E3"
             },
             "line": {
              "color": "white"
             }
            },
            "type": "table"
           }
          ]
         },
         "layout": {
          "annotationdefaults": {
           "arrowcolor": "#2a3f5f",
           "arrowhead": 0,
           "arrowwidth": 1
          },
          "coloraxis": {
           "colorbar": {
            "outlinewidth": 0,
            "ticks": ""
           }
          },
          "colorscale": {
           "diverging": [
            [
             0,
             "#8e0152"
            ],
            [
             0.1,
             "#c51b7d"
            ],
            [
             0.2,
             "#de77ae"
            ],
            [
             0.3,
             "#f1b6da"
            ],
            [
             0.4,
             "#fde0ef"
            ],
            [
             0.5,
             "#f7f7f7"
            ],
            [
             0.6,
             "#e6f5d0"
            ],
            [
             0.7,
             "#b8e186"
            ],
            [
             0.8,
             "#7fbc41"
            ],
            [
             0.9,
             "#4d9221"
            ],
            [
             1,
             "#276419"
            ]
           ],
           "sequential": [
            [
             0,
             "#0d0887"
            ],
            [
             0.1111111111111111,
             "#46039f"
            ],
            [
             0.2222222222222222,
             "#7201a8"
            ],
            [
             0.3333333333333333,
             "#9c179e"
            ],
            [
             0.4444444444444444,
             "#bd3786"
            ],
            [
             0.5555555555555556,
             "#d8576b"
            ],
            [
             0.6666666666666666,
             "#ed7953"
            ],
            [
             0.7777777777777778,
             "#fb9f3a"
            ],
            [
             0.8888888888888888,
             "#fdca26"
            ],
            [
             1,
             "#f0f921"
            ]
           ],
           "sequentialminus": [
            [
             0,
             "#0d0887"
            ],
            [
             0.1111111111111111,
             "#46039f"
            ],
            [
             0.2222222222222222,
             "#7201a8"
            ],
            [
             0.3333333333333333,
             "#9c179e"
            ],
            [
             0.4444444444444444,
             "#bd3786"
            ],
            [
             0.5555555555555556,
             "#d8576b"
            ],
            [
             0.6666666666666666,
             "#ed7953"
            ],
            [
             0.7777777777777778,
             "#fb9f3a"
            ],
            [
             0.8888888888888888,
             "#fdca26"
            ],
            [
             1,
             "#f0f921"
            ]
           ]
          },
          "colorway": [
           "#636efa",
           "#EF553B",
           "#00cc96",
           "#ab63fa",
           "#FFA15A",
           "#19d3f3",
           "#FF6692",
           "#B6E880",
           "#FF97FF",
           "#FECB52"
          ],
          "font": {
           "color": "#2a3f5f"
          },
          "geo": {
           "bgcolor": "white",
           "lakecolor": "white",
           "landcolor": "#E5ECF6",
           "showlakes": true,
           "showland": true,
           "subunitcolor": "white"
          },
          "hoverlabel": {
           "align": "left"
          },
          "hovermode": "closest",
          "mapbox": {
           "style": "light"
          },
          "paper_bgcolor": "white",
          "plot_bgcolor": "#E5ECF6",
          "polar": {
           "angularaxis": {
            "gridcolor": "white",
            "linecolor": "white",
            "ticks": ""
           },
           "bgcolor": "#E5ECF6",
           "radialaxis": {
            "gridcolor": "white",
            "linecolor": "white",
            "ticks": ""
           }
          },
          "scene": {
           "xaxis": {
            "backgroundcolor": "#E5ECF6",
            "gridcolor": "white",
            "gridwidth": 2,
            "linecolor": "white",
            "showbackground": true,
            "ticks": "",
            "zerolinecolor": "white"
           },
           "yaxis": {
            "backgroundcolor": "#E5ECF6",
            "gridcolor": "white",
            "gridwidth": 2,
            "linecolor": "white",
            "showbackground": true,
            "ticks": "",
            "zerolinecolor": "white"
           },
           "zaxis": {
            "backgroundcolor": "#E5ECF6",
            "gridcolor": "white",
            "gridwidth": 2,
            "linecolor": "white",
            "showbackground": true,
            "ticks": "",
            "zerolinecolor": "white"
           }
          },
          "shapedefaults": {
           "line": {
            "color": "#2a3f5f"
           }
          },
          "ternary": {
           "aaxis": {
            "gridcolor": "white",
            "linecolor": "white",
            "ticks": ""
           },
           "baxis": {
            "gridcolor": "white",
            "linecolor": "white",
            "ticks": ""
           },
           "bgcolor": "#E5ECF6",
           "caxis": {
            "gridcolor": "white",
            "linecolor": "white",
            "ticks": ""
           }
          },
          "title": {
           "x": 0.05
          },
          "xaxis": {
           "automargin": true,
           "gridcolor": "white",
           "linecolor": "white",
           "ticks": "",
           "title": {
            "standoff": 15
           },
           "zerolinecolor": "white",
           "zerolinewidth": 2
          },
          "yaxis": {
           "automargin": true,
           "gridcolor": "white",
           "linecolor": "white",
           "ticks": "",
           "title": {
            "standoff": 15
           },
           "zerolinecolor": "white",
           "zerolinewidth": 2
          }
         }
        }
       }
      },
      "text/html": [
       "<div>\n",
       "        \n",
       "        \n",
       "            <div id=\"2e0131ae-4300-4f22-9804-6d72cf1d6fcc\" class=\"plotly-graph-div\" style=\"height:525px; width:100%;\"></div>\n",
       "            <script type=\"text/javascript\">\n",
       "                require([\"plotly\"], function(Plotly) {\n",
       "                    window.PLOTLYENV=window.PLOTLYENV || {};\n",
       "                    \n",
       "                if (document.getElementById(\"2e0131ae-4300-4f22-9804-6d72cf1d6fcc\")) {\n",
       "                    Plotly.newPlot(\n",
       "                        '2e0131ae-4300-4f22-9804-6d72cf1d6fcc',\n",
       "                        [{\"marker\": {\"size\": 5}, \"mode\": \"markers+lines\", \"type\": \"scattermapbox\"}, {\"lat\": [25.7742658, 40.4167047, 48.8566101, 32.0804808, 25.7742658], \"lon\": [-80.1936589, -3.7035825, 2.3514992, 34.7805274, -80.1936589], \"marker\": {\"size\": 5}, \"mode\": \"markers+lines\", \"type\": \"scattermapbox\"}],\n",
       "                        {\"mapbox\": {\"center\": {\"lat\": -20, \"lon\": -20}, \"style\": \"stamen-terrain\", \"zoom\": 1}, \"margin\": {\"b\": 0, \"l\": 0, \"r\": 0, \"t\": 0}, \"template\": {\"data\": {\"bar\": [{\"error_x\": {\"color\": \"#2a3f5f\"}, \"error_y\": {\"color\": \"#2a3f5f\"}, \"marker\": {\"line\": {\"color\": \"#E5ECF6\", \"width\": 0.5}}, \"type\": \"bar\"}], \"barpolar\": [{\"marker\": {\"line\": {\"color\": \"#E5ECF6\", \"width\": 0.5}}, \"type\": \"barpolar\"}], \"carpet\": [{\"aaxis\": {\"endlinecolor\": \"#2a3f5f\", \"gridcolor\": \"white\", \"linecolor\": \"white\", \"minorgridcolor\": \"white\", \"startlinecolor\": \"#2a3f5f\"}, \"baxis\": {\"endlinecolor\": \"#2a3f5f\", \"gridcolor\": \"white\", \"linecolor\": \"white\", \"minorgridcolor\": \"white\", \"startlinecolor\": \"#2a3f5f\"}, \"type\": \"carpet\"}], \"choropleth\": [{\"colorbar\": {\"outlinewidth\": 0, \"ticks\": \"\"}, \"type\": \"choropleth\"}], \"contour\": [{\"colorbar\": {\"outlinewidth\": 0, \"ticks\": \"\"}, \"colorscale\": [[0.0, \"#0d0887\"], [0.1111111111111111, \"#46039f\"], [0.2222222222222222, \"#7201a8\"], [0.3333333333333333, \"#9c179e\"], [0.4444444444444444, \"#bd3786\"], [0.5555555555555556, \"#d8576b\"], [0.6666666666666666, \"#ed7953\"], [0.7777777777777778, \"#fb9f3a\"], [0.8888888888888888, \"#fdca26\"], [1.0, \"#f0f921\"]], \"type\": \"contour\"}], \"contourcarpet\": [{\"colorbar\": {\"outlinewidth\": 0, \"ticks\": \"\"}, \"type\": \"contourcarpet\"}], \"heatmap\": [{\"colorbar\": {\"outlinewidth\": 0, \"ticks\": \"\"}, \"colorscale\": [[0.0, \"#0d0887\"], [0.1111111111111111, \"#46039f\"], [0.2222222222222222, \"#7201a8\"], [0.3333333333333333, \"#9c179e\"], [0.4444444444444444, \"#bd3786\"], [0.5555555555555556, \"#d8576b\"], [0.6666666666666666, \"#ed7953\"], [0.7777777777777778, \"#fb9f3a\"], [0.8888888888888888, \"#fdca26\"], [1.0, \"#f0f921\"]], \"type\": \"heatmap\"}], \"heatmapgl\": [{\"colorbar\": {\"outlinewidth\": 0, \"ticks\": \"\"}, \"colorscale\": [[0.0, \"#0d0887\"], [0.1111111111111111, \"#46039f\"], [0.2222222222222222, \"#7201a8\"], [0.3333333333333333, \"#9c179e\"], [0.4444444444444444, \"#bd3786\"], [0.5555555555555556, \"#d8576b\"], [0.6666666666666666, \"#ed7953\"], [0.7777777777777778, \"#fb9f3a\"], [0.8888888888888888, \"#fdca26\"], [1.0, \"#f0f921\"]], \"type\": \"heatmapgl\"}], \"histogram\": [{\"marker\": {\"colorbar\": {\"outlinewidth\": 0, \"ticks\": \"\"}}, \"type\": \"histogram\"}], \"histogram2d\": [{\"colorbar\": {\"outlinewidth\": 0, \"ticks\": \"\"}, \"colorscale\": [[0.0, \"#0d0887\"], [0.1111111111111111, \"#46039f\"], [0.2222222222222222, \"#7201a8\"], [0.3333333333333333, \"#9c179e\"], [0.4444444444444444, \"#bd3786\"], [0.5555555555555556, \"#d8576b\"], [0.6666666666666666, \"#ed7953\"], [0.7777777777777778, \"#fb9f3a\"], [0.8888888888888888, \"#fdca26\"], [1.0, \"#f0f921\"]], \"type\": \"histogram2d\"}], \"histogram2dcontour\": [{\"colorbar\": {\"outlinewidth\": 0, \"ticks\": \"\"}, \"colorscale\": [[0.0, \"#0d0887\"], [0.1111111111111111, \"#46039f\"], [0.2222222222222222, \"#7201a8\"], [0.3333333333333333, \"#9c179e\"], [0.4444444444444444, \"#bd3786\"], [0.5555555555555556, \"#d8576b\"], [0.6666666666666666, \"#ed7953\"], [0.7777777777777778, \"#fb9f3a\"], [0.8888888888888888, \"#fdca26\"], [1.0, \"#f0f921\"]], \"type\": \"histogram2dcontour\"}], \"mesh3d\": [{\"colorbar\": {\"outlinewidth\": 0, \"ticks\": \"\"}, \"type\": \"mesh3d\"}], \"parcoords\": [{\"line\": {\"colorbar\": {\"outlinewidth\": 0, \"ticks\": \"\"}}, \"type\": \"parcoords\"}], \"pie\": [{\"automargin\": true, \"type\": \"pie\"}], \"scatter\": [{\"marker\": {\"colorbar\": {\"outlinewidth\": 0, \"ticks\": \"\"}}, \"type\": \"scatter\"}], \"scatter3d\": [{\"line\": {\"colorbar\": {\"outlinewidth\": 0, \"ticks\": \"\"}}, \"marker\": {\"colorbar\": {\"outlinewidth\": 0, \"ticks\": \"\"}}, \"type\": \"scatter3d\"}], \"scattercarpet\": [{\"marker\": {\"colorbar\": {\"outlinewidth\": 0, \"ticks\": \"\"}}, \"type\": \"scattercarpet\"}], \"scattergeo\": [{\"marker\": {\"colorbar\": {\"outlinewidth\": 0, \"ticks\": \"\"}}, \"type\": \"scattergeo\"}], \"scattergl\": [{\"marker\": {\"colorbar\": {\"outlinewidth\": 0, \"ticks\": \"\"}}, \"type\": \"scattergl\"}], \"scattermapbox\": [{\"marker\": {\"colorbar\": {\"outlinewidth\": 0, \"ticks\": \"\"}}, \"type\": \"scattermapbox\"}], \"scatterpolar\": [{\"marker\": {\"colorbar\": {\"outlinewidth\": 0, \"ticks\": \"\"}}, \"type\": \"scatterpolar\"}], \"scatterpolargl\": [{\"marker\": {\"colorbar\": {\"outlinewidth\": 0, \"ticks\": \"\"}}, \"type\": \"scatterpolargl\"}], \"scatterternary\": [{\"marker\": {\"colorbar\": {\"outlinewidth\": 0, \"ticks\": \"\"}}, \"type\": \"scatterternary\"}], \"surface\": [{\"colorbar\": {\"outlinewidth\": 0, \"ticks\": \"\"}, \"colorscale\": [[0.0, \"#0d0887\"], [0.1111111111111111, \"#46039f\"], [0.2222222222222222, \"#7201a8\"], [0.3333333333333333, \"#9c179e\"], [0.4444444444444444, \"#bd3786\"], [0.5555555555555556, \"#d8576b\"], [0.6666666666666666, \"#ed7953\"], [0.7777777777777778, \"#fb9f3a\"], [0.8888888888888888, \"#fdca26\"], [1.0, \"#f0f921\"]], \"type\": \"surface\"}], \"table\": [{\"cells\": {\"fill\": {\"color\": \"#EBF0F8\"}, \"line\": {\"color\": \"white\"}}, \"header\": {\"fill\": {\"color\": \"#C8D4E3\"}, \"line\": {\"color\": \"white\"}}, \"type\": \"table\"}]}, \"layout\": {\"annotationdefaults\": {\"arrowcolor\": \"#2a3f5f\", \"arrowhead\": 0, \"arrowwidth\": 1}, \"coloraxis\": {\"colorbar\": {\"outlinewidth\": 0, \"ticks\": \"\"}}, \"colorscale\": {\"diverging\": [[0, \"#8e0152\"], [0.1, \"#c51b7d\"], [0.2, \"#de77ae\"], [0.3, \"#f1b6da\"], [0.4, \"#fde0ef\"], [0.5, \"#f7f7f7\"], [0.6, \"#e6f5d0\"], [0.7, \"#b8e186\"], [0.8, \"#7fbc41\"], [0.9, \"#4d9221\"], [1, \"#276419\"]], \"sequential\": [[0.0, \"#0d0887\"], [0.1111111111111111, \"#46039f\"], [0.2222222222222222, \"#7201a8\"], [0.3333333333333333, \"#9c179e\"], [0.4444444444444444, \"#bd3786\"], [0.5555555555555556, \"#d8576b\"], [0.6666666666666666, \"#ed7953\"], [0.7777777777777778, \"#fb9f3a\"], [0.8888888888888888, \"#fdca26\"], [1.0, \"#f0f921\"]], \"sequentialminus\": [[0.0, \"#0d0887\"], [0.1111111111111111, \"#46039f\"], [0.2222222222222222, \"#7201a8\"], [0.3333333333333333, \"#9c179e\"], [0.4444444444444444, \"#bd3786\"], [0.5555555555555556, \"#d8576b\"], [0.6666666666666666, \"#ed7953\"], [0.7777777777777778, \"#fb9f3a\"], [0.8888888888888888, \"#fdca26\"], [1.0, \"#f0f921\"]]}, \"colorway\": [\"#636efa\", \"#EF553B\", \"#00cc96\", \"#ab63fa\", \"#FFA15A\", \"#19d3f3\", \"#FF6692\", \"#B6E880\", \"#FF97FF\", \"#FECB52\"], \"font\": {\"color\": \"#2a3f5f\"}, \"geo\": {\"bgcolor\": \"white\", \"lakecolor\": \"white\", \"landcolor\": \"#E5ECF6\", \"showlakes\": true, \"showland\": true, \"subunitcolor\": \"white\"}, \"hoverlabel\": {\"align\": \"left\"}, \"hovermode\": \"closest\", \"mapbox\": {\"style\": \"light\"}, \"paper_bgcolor\": \"white\", \"plot_bgcolor\": \"#E5ECF6\", \"polar\": {\"angularaxis\": {\"gridcolor\": \"white\", \"linecolor\": \"white\", \"ticks\": \"\"}, \"bgcolor\": \"#E5ECF6\", \"radialaxis\": {\"gridcolor\": \"white\", \"linecolor\": \"white\", \"ticks\": \"\"}}, \"scene\": {\"xaxis\": {\"backgroundcolor\": \"#E5ECF6\", \"gridcolor\": \"white\", \"gridwidth\": 2, \"linecolor\": \"white\", \"showbackground\": true, \"ticks\": \"\", \"zerolinecolor\": \"white\"}, \"yaxis\": {\"backgroundcolor\": \"#E5ECF6\", \"gridcolor\": \"white\", \"gridwidth\": 2, \"linecolor\": \"white\", \"showbackground\": true, \"ticks\": \"\", \"zerolinecolor\": \"white\"}, \"zaxis\": {\"backgroundcolor\": \"#E5ECF6\", \"gridcolor\": \"white\", \"gridwidth\": 2, \"linecolor\": \"white\", \"showbackground\": true, \"ticks\": \"\", \"zerolinecolor\": \"white\"}}, \"shapedefaults\": {\"line\": {\"color\": \"#2a3f5f\"}}, \"ternary\": {\"aaxis\": {\"gridcolor\": \"white\", \"linecolor\": \"white\", \"ticks\": \"\"}, \"baxis\": {\"gridcolor\": \"white\", \"linecolor\": \"white\", \"ticks\": \"\"}, \"bgcolor\": \"#E5ECF6\", \"caxis\": {\"gridcolor\": \"white\", \"linecolor\": \"white\", \"ticks\": \"\"}}, \"title\": {\"x\": 0.05}, \"xaxis\": {\"automargin\": true, \"gridcolor\": \"white\", \"linecolor\": \"white\", \"ticks\": \"\", \"title\": {\"standoff\": 15}, \"zerolinecolor\": \"white\", \"zerolinewidth\": 2}, \"yaxis\": {\"automargin\": true, \"gridcolor\": \"white\", \"linecolor\": \"white\", \"ticks\": \"\", \"title\": {\"standoff\": 15}, \"zerolinecolor\": \"white\", \"zerolinewidth\": 2}}}},\n",
       "                        {\"responsive\": true}\n",
       "                    ).then(function(){\n",
       "                            \n",
       "var gd = document.getElementById('2e0131ae-4300-4f22-9804-6d72cf1d6fcc');\n",
       "var x = new MutationObserver(function (mutations, observer) {{\n",
       "        var display = window.getComputedStyle(gd).display;\n",
       "        if (!display || display === 'none') {{\n",
       "            console.log([gd, 'removed!']);\n",
       "            Plotly.purge(gd);\n",
       "            observer.disconnect();\n",
       "        }}\n",
       "}});\n",
       "\n",
       "// Listen for the removal of the full notebook cells\n",
       "var notebookContainer = gd.closest('#notebook-container');\n",
       "if (notebookContainer) {{\n",
       "    x.observe(notebookContainer, {childList: true});\n",
       "}}\n",
       "\n",
       "// Listen for the clearing of the current output cell\n",
       "var outputEl = gd.closest('.output');\n",
       "if (outputEl) {{\n",
       "    x.observe(outputEl, {childList: true});\n",
       "}}\n",
       "\n",
       "                        })\n",
       "                };\n",
       "                });\n",
       "            </script>\n",
       "        </div>"
      ]
     },
     "metadata": {},
     "output_type": "display_data"
    }
   ],
   "source": [
    "import plotly.graph_objects as go\n",
    "\n",
    "fig = go.Figure(go.Scattermapbox(\n",
    "    mode = \"markers+lines\",\n",
    "    \n",
    "    marker = {'size': 5}))\n",
    "\n",
    "fig.add_trace(go.Scattermapbox(\n",
    "mode = \"markers+lines\",\n",
    "lon = [long0, long1,long2,long3,long0],\n",
    "lat = [lat0, lat1, lat2,lat3,lat0],\n",
    "marker = {'size': 5}))\n",
    "\n",
    "fig.update_layout(\n",
    "    margin ={'l':0,'t':0,'b':0,'r':0},\n",
    "    mapbox = {\n",
    "        'center': {'lon': 10, 'lat': 10},\n",
    "        'style': \"stamen-terrain\",\n",
    "        'center': {'lon': -20, 'lat': -20},\n",
    "        'zoom': 1})\n",
    "fig.show()"
   ]
  },
  {
   "cell_type": "code",
   "execution_count": 174,
   "metadata": {},
   "outputs": [
    {
     "data": {
      "application/vnd.plotly.v1+json": {
       "config": {
        "plotlyServerURL": "https://plot.ly"
       },
       "data": [
        {
         "lat": [
          25.7742658,
          40.4167047,
          48.8566101,
          32.0804808,
          25.7742658
         ],
         "line": {
          "color": "green",
          "width": 2
         },
         "lon": [
          -80.1936589,
          -3.7035825,
          2.3514992,
          34.7805274,
          -80.1936589
         ],
         "mode": "lines",
         "type": "scattergeo"
        }
       ],
       "layout": {
        "geo": {
         "coastlinewidth": 2,
         "countrycolor": "blue",
         "lakecolor": "rgb(255, 255, 255)",
         "landcolor": "rgb(204, 204, 204)",
         "lataxis": {
          "dtick": 10,
          "range": [
           20,
           60
          ],
          "showgrid": false
         },
         "lonaxis": {
          "dtick": 20,
          "range": [
           -100,
           20
          ],
          "showgrid": true
         },
         "projection": {
          "type": "equirectangular"
         },
         "resolution": 110,
         "showlakes": true,
         "showland": true
        },
        "showlegend": true,
        "template": {
         "data": {
          "bar": [
           {
            "error_x": {
             "color": "#2a3f5f"
            },
            "error_y": {
             "color": "#2a3f5f"
            },
            "marker": {
             "line": {
              "color": "#E5ECF6",
              "width": 0.5
             }
            },
            "type": "bar"
           }
          ],
          "barpolar": [
           {
            "marker": {
             "line": {
              "color": "#E5ECF6",
              "width": 0.5
             }
            },
            "type": "barpolar"
           }
          ],
          "carpet": [
           {
            "aaxis": {
             "endlinecolor": "#2a3f5f",
             "gridcolor": "white",
             "linecolor": "white",
             "minorgridcolor": "white",
             "startlinecolor": "#2a3f5f"
            },
            "baxis": {
             "endlinecolor": "#2a3f5f",
             "gridcolor": "white",
             "linecolor": "white",
             "minorgridcolor": "white",
             "startlinecolor": "#2a3f5f"
            },
            "type": "carpet"
           }
          ],
          "choropleth": [
           {
            "colorbar": {
             "outlinewidth": 0,
             "ticks": ""
            },
            "type": "choropleth"
           }
          ],
          "contour": [
           {
            "colorbar": {
             "outlinewidth": 0,
             "ticks": ""
            },
            "colorscale": [
             [
              0,
              "#0d0887"
             ],
             [
              0.1111111111111111,
              "#46039f"
             ],
             [
              0.2222222222222222,
              "#7201a8"
             ],
             [
              0.3333333333333333,
              "#9c179e"
             ],
             [
              0.4444444444444444,
              "#bd3786"
             ],
             [
              0.5555555555555556,
              "#d8576b"
             ],
             [
              0.6666666666666666,
              "#ed7953"
             ],
             [
              0.7777777777777778,
              "#fb9f3a"
             ],
             [
              0.8888888888888888,
              "#fdca26"
             ],
             [
              1,
              "#f0f921"
             ]
            ],
            "type": "contour"
           }
          ],
          "contourcarpet": [
           {
            "colorbar": {
             "outlinewidth": 0,
             "ticks": ""
            },
            "type": "contourcarpet"
           }
          ],
          "heatmap": [
           {
            "colorbar": {
             "outlinewidth": 0,
             "ticks": ""
            },
            "colorscale": [
             [
              0,
              "#0d0887"
             ],
             [
              0.1111111111111111,
              "#46039f"
             ],
             [
              0.2222222222222222,
              "#7201a8"
             ],
             [
              0.3333333333333333,
              "#9c179e"
             ],
             [
              0.4444444444444444,
              "#bd3786"
             ],
             [
              0.5555555555555556,
              "#d8576b"
             ],
             [
              0.6666666666666666,
              "#ed7953"
             ],
             [
              0.7777777777777778,
              "#fb9f3a"
             ],
             [
              0.8888888888888888,
              "#fdca26"
             ],
             [
              1,
              "#f0f921"
             ]
            ],
            "type": "heatmap"
           }
          ],
          "heatmapgl": [
           {
            "colorbar": {
             "outlinewidth": 0,
             "ticks": ""
            },
            "colorscale": [
             [
              0,
              "#0d0887"
             ],
             [
              0.1111111111111111,
              "#46039f"
             ],
             [
              0.2222222222222222,
              "#7201a8"
             ],
             [
              0.3333333333333333,
              "#9c179e"
             ],
             [
              0.4444444444444444,
              "#bd3786"
             ],
             [
              0.5555555555555556,
              "#d8576b"
             ],
             [
              0.6666666666666666,
              "#ed7953"
             ],
             [
              0.7777777777777778,
              "#fb9f3a"
             ],
             [
              0.8888888888888888,
              "#fdca26"
             ],
             [
              1,
              "#f0f921"
             ]
            ],
            "type": "heatmapgl"
           }
          ],
          "histogram": [
           {
            "marker": {
             "colorbar": {
              "outlinewidth": 0,
              "ticks": ""
             }
            },
            "type": "histogram"
           }
          ],
          "histogram2d": [
           {
            "colorbar": {
             "outlinewidth": 0,
             "ticks": ""
            },
            "colorscale": [
             [
              0,
              "#0d0887"
             ],
             [
              0.1111111111111111,
              "#46039f"
             ],
             [
              0.2222222222222222,
              "#7201a8"
             ],
             [
              0.3333333333333333,
              "#9c179e"
             ],
             [
              0.4444444444444444,
              "#bd3786"
             ],
             [
              0.5555555555555556,
              "#d8576b"
             ],
             [
              0.6666666666666666,
              "#ed7953"
             ],
             [
              0.7777777777777778,
              "#fb9f3a"
             ],
             [
              0.8888888888888888,
              "#fdca26"
             ],
             [
              1,
              "#f0f921"
             ]
            ],
            "type": "histogram2d"
           }
          ],
          "histogram2dcontour": [
           {
            "colorbar": {
             "outlinewidth": 0,
             "ticks": ""
            },
            "colorscale": [
             [
              0,
              "#0d0887"
             ],
             [
              0.1111111111111111,
              "#46039f"
             ],
             [
              0.2222222222222222,
              "#7201a8"
             ],
             [
              0.3333333333333333,
              "#9c179e"
             ],
             [
              0.4444444444444444,
              "#bd3786"
             ],
             [
              0.5555555555555556,
              "#d8576b"
             ],
             [
              0.6666666666666666,
              "#ed7953"
             ],
             [
              0.7777777777777778,
              "#fb9f3a"
             ],
             [
              0.8888888888888888,
              "#fdca26"
             ],
             [
              1,
              "#f0f921"
             ]
            ],
            "type": "histogram2dcontour"
           }
          ],
          "mesh3d": [
           {
            "colorbar": {
             "outlinewidth": 0,
             "ticks": ""
            },
            "type": "mesh3d"
           }
          ],
          "parcoords": [
           {
            "line": {
             "colorbar": {
              "outlinewidth": 0,
              "ticks": ""
             }
            },
            "type": "parcoords"
           }
          ],
          "pie": [
           {
            "automargin": true,
            "type": "pie"
           }
          ],
          "scatter": [
           {
            "marker": {
             "colorbar": {
              "outlinewidth": 0,
              "ticks": ""
             }
            },
            "type": "scatter"
           }
          ],
          "scatter3d": [
           {
            "line": {
             "colorbar": {
              "outlinewidth": 0,
              "ticks": ""
             }
            },
            "marker": {
             "colorbar": {
              "outlinewidth": 0,
              "ticks": ""
             }
            },
            "type": "scatter3d"
           }
          ],
          "scattercarpet": [
           {
            "marker": {
             "colorbar": {
              "outlinewidth": 0,
              "ticks": ""
             }
            },
            "type": "scattercarpet"
           }
          ],
          "scattergeo": [
           {
            "marker": {
             "colorbar": {
              "outlinewidth": 0,
              "ticks": ""
             }
            },
            "type": "scattergeo"
           }
          ],
          "scattergl": [
           {
            "marker": {
             "colorbar": {
              "outlinewidth": 0,
              "ticks": ""
             }
            },
            "type": "scattergl"
           }
          ],
          "scattermapbox": [
           {
            "marker": {
             "colorbar": {
              "outlinewidth": 0,
              "ticks": ""
             }
            },
            "type": "scattermapbox"
           }
          ],
          "scatterpolar": [
           {
            "marker": {
             "colorbar": {
              "outlinewidth": 0,
              "ticks": ""
             }
            },
            "type": "scatterpolar"
           }
          ],
          "scatterpolargl": [
           {
            "marker": {
             "colorbar": {
              "outlinewidth": 0,
              "ticks": ""
             }
            },
            "type": "scatterpolargl"
           }
          ],
          "scatterternary": [
           {
            "marker": {
             "colorbar": {
              "outlinewidth": 0,
              "ticks": ""
             }
            },
            "type": "scatterternary"
           }
          ],
          "surface": [
           {
            "colorbar": {
             "outlinewidth": 0,
             "ticks": ""
            },
            "colorscale": [
             [
              0,
              "#0d0887"
             ],
             [
              0.1111111111111111,
              "#46039f"
             ],
             [
              0.2222222222222222,
              "#7201a8"
             ],
             [
              0.3333333333333333,
              "#9c179e"
             ],
             [
              0.4444444444444444,
              "#bd3786"
             ],
             [
              0.5555555555555556,
              "#d8576b"
             ],
             [
              0.6666666666666666,
              "#ed7953"
             ],
             [
              0.7777777777777778,
              "#fb9f3a"
             ],
             [
              0.8888888888888888,
              "#fdca26"
             ],
             [
              1,
              "#f0f921"
             ]
            ],
            "type": "surface"
           }
          ],
          "table": [
           {
            "cells": {
             "fill": {
              "color": "#EBF0F8"
             },
             "line": {
              "color": "white"
             }
            },
            "header": {
             "fill": {
              "color": "#C8D4E3"
             },
             "line": {
              "color": "white"
             }
            },
            "type": "table"
           }
          ]
         },
         "layout": {
          "annotationdefaults": {
           "arrowcolor": "#2a3f5f",
           "arrowhead": 0,
           "arrowwidth": 1
          },
          "coloraxis": {
           "colorbar": {
            "outlinewidth": 0,
            "ticks": ""
           }
          },
          "colorscale": {
           "diverging": [
            [
             0,
             "#8e0152"
            ],
            [
             0.1,
             "#c51b7d"
            ],
            [
             0.2,
             "#de77ae"
            ],
            [
             0.3,
             "#f1b6da"
            ],
            [
             0.4,
             "#fde0ef"
            ],
            [
             0.5,
             "#f7f7f7"
            ],
            [
             0.6,
             "#e6f5d0"
            ],
            [
             0.7,
             "#b8e186"
            ],
            [
             0.8,
             "#7fbc41"
            ],
            [
             0.9,
             "#4d9221"
            ],
            [
             1,
             "#276419"
            ]
           ],
           "sequential": [
            [
             0,
             "#0d0887"
            ],
            [
             0.1111111111111111,
             "#46039f"
            ],
            [
             0.2222222222222222,
             "#7201a8"
            ],
            [
             0.3333333333333333,
             "#9c179e"
            ],
            [
             0.4444444444444444,
             "#bd3786"
            ],
            [
             0.5555555555555556,
             "#d8576b"
            ],
            [
             0.6666666666666666,
             "#ed7953"
            ],
            [
             0.7777777777777778,
             "#fb9f3a"
            ],
            [
             0.8888888888888888,
             "#fdca26"
            ],
            [
             1,
             "#f0f921"
            ]
           ],
           "sequentialminus": [
            [
             0,
             "#0d0887"
            ],
            [
             0.1111111111111111,
             "#46039f"
            ],
            [
             0.2222222222222222,
             "#7201a8"
            ],
            [
             0.3333333333333333,
             "#9c179e"
            ],
            [
             0.4444444444444444,
             "#bd3786"
            ],
            [
             0.5555555555555556,
             "#d8576b"
            ],
            [
             0.6666666666666666,
             "#ed7953"
            ],
            [
             0.7777777777777778,
             "#fb9f3a"
            ],
            [
             0.8888888888888888,
             "#fdca26"
            ],
            [
             1,
             "#f0f921"
            ]
           ]
          },
          "colorway": [
           "#636efa",
           "#EF553B",
           "#00cc96",
           "#ab63fa",
           "#FFA15A",
           "#19d3f3",
           "#FF6692",
           "#B6E880",
           "#FF97FF",
           "#FECB52"
          ],
          "font": {
           "color": "#2a3f5f"
          },
          "geo": {
           "bgcolor": "white",
           "lakecolor": "white",
           "landcolor": "#E5ECF6",
           "showlakes": true,
           "showland": true,
           "subunitcolor": "white"
          },
          "hoverlabel": {
           "align": "left"
          },
          "hovermode": "closest",
          "mapbox": {
           "style": "light"
          },
          "paper_bgcolor": "white",
          "plot_bgcolor": "#E5ECF6",
          "polar": {
           "angularaxis": {
            "gridcolor": "white",
            "linecolor": "white",
            "ticks": ""
           },
           "bgcolor": "#E5ECF6",
           "radialaxis": {
            "gridcolor": "white",
            "linecolor": "white",
            "ticks": ""
           }
          },
          "scene": {
           "xaxis": {
            "backgroundcolor": "#E5ECF6",
            "gridcolor": "white",
            "gridwidth": 2,
            "linecolor": "white",
            "showbackground": true,
            "ticks": "",
            "zerolinecolor": "white"
           },
           "yaxis": {
            "backgroundcolor": "#E5ECF6",
            "gridcolor": "white",
            "gridwidth": 2,
            "linecolor": "white",
            "showbackground": true,
            "ticks": "",
            "zerolinecolor": "white"
           },
           "zaxis": {
            "backgroundcolor": "#E5ECF6",
            "gridcolor": "white",
            "gridwidth": 2,
            "linecolor": "white",
            "showbackground": true,
            "ticks": "",
            "zerolinecolor": "white"
           }
          },
          "shapedefaults": {
           "line": {
            "color": "#2a3f5f"
           }
          },
          "ternary": {
           "aaxis": {
            "gridcolor": "white",
            "linecolor": "white",
            "ticks": ""
           },
           "baxis": {
            "gridcolor": "white",
            "linecolor": "white",
            "ticks": ""
           },
           "bgcolor": "#E5ECF6",
           "caxis": {
            "gridcolor": "white",
            "linecolor": "white",
            "ticks": ""
           }
          },
          "title": {
           "x": 0.05
          },
          "xaxis": {
           "automargin": true,
           "gridcolor": "white",
           "linecolor": "white",
           "ticks": "",
           "title": {
            "standoff": 15
           },
           "zerolinecolor": "white",
           "zerolinewidth": 2
          },
          "yaxis": {
           "automargin": true,
           "gridcolor": "white",
           "linecolor": "white",
           "ticks": "",
           "title": {
            "standoff": 15
           },
           "zerolinecolor": "white",
           "zerolinewidth": 2
          }
         }
        },
        "title": {
         "text": "['miami', 'madrid', 'paris', 'tel aviv', 'miami']"
        }
       }
      },
      "text/html": [
       "<div>\n",
       "        \n",
       "        \n",
       "            <div id=\"39e293d5-78ca-4cd0-9ce7-b441e453ee98\" class=\"plotly-graph-div\" style=\"height:525px; width:100%;\"></div>\n",
       "            <script type=\"text/javascript\">\n",
       "                require([\"plotly\"], function(Plotly) {\n",
       "                    window.PLOTLYENV=window.PLOTLYENV || {};\n",
       "                    \n",
       "                if (document.getElementById(\"39e293d5-78ca-4cd0-9ce7-b441e453ee98\")) {\n",
       "                    Plotly.newPlot(\n",
       "                        '39e293d5-78ca-4cd0-9ce7-b441e453ee98',\n",
       "                        [{\"lat\": [25.7742658, 40.4167047, 48.8566101, 32.0804808, 25.7742658], \"line\": {\"color\": \"green\", \"width\": 2}, \"lon\": [-80.1936589, -3.7035825, 2.3514992, 34.7805274, -80.1936589], \"mode\": \"lines\", \"type\": \"scattergeo\"}],\n",
       "                        {\"geo\": {\"coastlinewidth\": 2, \"countrycolor\": \"blue\", \"lakecolor\": \"rgb(255, 255, 255)\", \"landcolor\": \"rgb(204, 204, 204)\", \"lataxis\": {\"dtick\": 10, \"range\": [20, 60], \"showgrid\": false}, \"lonaxis\": {\"dtick\": 20, \"range\": [-100, 20], \"showgrid\": true}, \"projection\": {\"type\": \"equirectangular\"}, \"resolution\": 110, \"showlakes\": true, \"showland\": true}, \"showlegend\": true, \"template\": {\"data\": {\"bar\": [{\"error_x\": {\"color\": \"#2a3f5f\"}, \"error_y\": {\"color\": \"#2a3f5f\"}, \"marker\": {\"line\": {\"color\": \"#E5ECF6\", \"width\": 0.5}}, \"type\": \"bar\"}], \"barpolar\": [{\"marker\": {\"line\": {\"color\": \"#E5ECF6\", \"width\": 0.5}}, \"type\": \"barpolar\"}], \"carpet\": [{\"aaxis\": {\"endlinecolor\": \"#2a3f5f\", \"gridcolor\": \"white\", \"linecolor\": \"white\", \"minorgridcolor\": \"white\", \"startlinecolor\": \"#2a3f5f\"}, \"baxis\": {\"endlinecolor\": \"#2a3f5f\", \"gridcolor\": \"white\", \"linecolor\": \"white\", \"minorgridcolor\": \"white\", \"startlinecolor\": \"#2a3f5f\"}, \"type\": \"carpet\"}], \"choropleth\": [{\"colorbar\": {\"outlinewidth\": 0, \"ticks\": \"\"}, \"type\": \"choropleth\"}], \"contour\": [{\"colorbar\": {\"outlinewidth\": 0, \"ticks\": \"\"}, \"colorscale\": [[0.0, \"#0d0887\"], [0.1111111111111111, \"#46039f\"], [0.2222222222222222, \"#7201a8\"], [0.3333333333333333, \"#9c179e\"], [0.4444444444444444, \"#bd3786\"], [0.5555555555555556, \"#d8576b\"], [0.6666666666666666, \"#ed7953\"], [0.7777777777777778, \"#fb9f3a\"], [0.8888888888888888, \"#fdca26\"], [1.0, \"#f0f921\"]], \"type\": \"contour\"}], \"contourcarpet\": [{\"colorbar\": {\"outlinewidth\": 0, \"ticks\": \"\"}, \"type\": \"contourcarpet\"}], \"heatmap\": [{\"colorbar\": {\"outlinewidth\": 0, \"ticks\": \"\"}, \"colorscale\": [[0.0, \"#0d0887\"], [0.1111111111111111, \"#46039f\"], [0.2222222222222222, \"#7201a8\"], [0.3333333333333333, \"#9c179e\"], [0.4444444444444444, \"#bd3786\"], [0.5555555555555556, \"#d8576b\"], [0.6666666666666666, \"#ed7953\"], [0.7777777777777778, \"#fb9f3a\"], [0.8888888888888888, \"#fdca26\"], [1.0, \"#f0f921\"]], \"type\": \"heatmap\"}], \"heatmapgl\": [{\"colorbar\": {\"outlinewidth\": 0, \"ticks\": \"\"}, \"colorscale\": [[0.0, \"#0d0887\"], [0.1111111111111111, \"#46039f\"], [0.2222222222222222, \"#7201a8\"], [0.3333333333333333, \"#9c179e\"], [0.4444444444444444, \"#bd3786\"], [0.5555555555555556, \"#d8576b\"], [0.6666666666666666, \"#ed7953\"], [0.7777777777777778, \"#fb9f3a\"], [0.8888888888888888, \"#fdca26\"], [1.0, \"#f0f921\"]], \"type\": \"heatmapgl\"}], \"histogram\": [{\"marker\": {\"colorbar\": {\"outlinewidth\": 0, \"ticks\": \"\"}}, \"type\": \"histogram\"}], \"histogram2d\": [{\"colorbar\": {\"outlinewidth\": 0, \"ticks\": \"\"}, \"colorscale\": [[0.0, \"#0d0887\"], [0.1111111111111111, \"#46039f\"], [0.2222222222222222, \"#7201a8\"], [0.3333333333333333, \"#9c179e\"], [0.4444444444444444, \"#bd3786\"], [0.5555555555555556, \"#d8576b\"], [0.6666666666666666, \"#ed7953\"], [0.7777777777777778, \"#fb9f3a\"], [0.8888888888888888, \"#fdca26\"], [1.0, \"#f0f921\"]], \"type\": \"histogram2d\"}], \"histogram2dcontour\": [{\"colorbar\": {\"outlinewidth\": 0, \"ticks\": \"\"}, \"colorscale\": [[0.0, \"#0d0887\"], [0.1111111111111111, \"#46039f\"], [0.2222222222222222, \"#7201a8\"], [0.3333333333333333, \"#9c179e\"], [0.4444444444444444, \"#bd3786\"], [0.5555555555555556, \"#d8576b\"], [0.6666666666666666, \"#ed7953\"], [0.7777777777777778, \"#fb9f3a\"], [0.8888888888888888, \"#fdca26\"], [1.0, \"#f0f921\"]], \"type\": \"histogram2dcontour\"}], \"mesh3d\": [{\"colorbar\": {\"outlinewidth\": 0, \"ticks\": \"\"}, \"type\": \"mesh3d\"}], \"parcoords\": [{\"line\": {\"colorbar\": {\"outlinewidth\": 0, \"ticks\": \"\"}}, \"type\": \"parcoords\"}], \"pie\": [{\"automargin\": true, \"type\": \"pie\"}], \"scatter\": [{\"marker\": {\"colorbar\": {\"outlinewidth\": 0, \"ticks\": \"\"}}, \"type\": \"scatter\"}], \"scatter3d\": [{\"line\": {\"colorbar\": {\"outlinewidth\": 0, \"ticks\": \"\"}}, \"marker\": {\"colorbar\": {\"outlinewidth\": 0, \"ticks\": \"\"}}, \"type\": \"scatter3d\"}], \"scattercarpet\": [{\"marker\": {\"colorbar\": {\"outlinewidth\": 0, \"ticks\": \"\"}}, \"type\": \"scattercarpet\"}], \"scattergeo\": [{\"marker\": {\"colorbar\": {\"outlinewidth\": 0, \"ticks\": \"\"}}, \"type\": \"scattergeo\"}], \"scattergl\": [{\"marker\": {\"colorbar\": {\"outlinewidth\": 0, \"ticks\": \"\"}}, \"type\": \"scattergl\"}], \"scattermapbox\": [{\"marker\": {\"colorbar\": {\"outlinewidth\": 0, \"ticks\": \"\"}}, \"type\": \"scattermapbox\"}], \"scatterpolar\": [{\"marker\": {\"colorbar\": {\"outlinewidth\": 0, \"ticks\": \"\"}}, \"type\": \"scatterpolar\"}], \"scatterpolargl\": [{\"marker\": {\"colorbar\": {\"outlinewidth\": 0, \"ticks\": \"\"}}, \"type\": \"scatterpolargl\"}], \"scatterternary\": [{\"marker\": {\"colorbar\": {\"outlinewidth\": 0, \"ticks\": \"\"}}, \"type\": \"scatterternary\"}], \"surface\": [{\"colorbar\": {\"outlinewidth\": 0, \"ticks\": \"\"}, \"colorscale\": [[0.0, \"#0d0887\"], [0.1111111111111111, \"#46039f\"], [0.2222222222222222, \"#7201a8\"], [0.3333333333333333, \"#9c179e\"], [0.4444444444444444, \"#bd3786\"], [0.5555555555555556, \"#d8576b\"], [0.6666666666666666, \"#ed7953\"], [0.7777777777777778, \"#fb9f3a\"], [0.8888888888888888, \"#fdca26\"], [1.0, \"#f0f921\"]], \"type\": \"surface\"}], \"table\": [{\"cells\": {\"fill\": {\"color\": \"#EBF0F8\"}, \"line\": {\"color\": \"white\"}}, \"header\": {\"fill\": {\"color\": \"#C8D4E3\"}, \"line\": {\"color\": \"white\"}}, \"type\": \"table\"}]}, \"layout\": {\"annotationdefaults\": {\"arrowcolor\": \"#2a3f5f\", \"arrowhead\": 0, \"arrowwidth\": 1}, \"coloraxis\": {\"colorbar\": {\"outlinewidth\": 0, \"ticks\": \"\"}}, \"colorscale\": {\"diverging\": [[0, \"#8e0152\"], [0.1, \"#c51b7d\"], [0.2, \"#de77ae\"], [0.3, \"#f1b6da\"], [0.4, \"#fde0ef\"], [0.5, \"#f7f7f7\"], [0.6, \"#e6f5d0\"], [0.7, \"#b8e186\"], [0.8, \"#7fbc41\"], [0.9, \"#4d9221\"], [1, \"#276419\"]], \"sequential\": [[0.0, \"#0d0887\"], [0.1111111111111111, \"#46039f\"], [0.2222222222222222, \"#7201a8\"], [0.3333333333333333, \"#9c179e\"], [0.4444444444444444, \"#bd3786\"], [0.5555555555555556, \"#d8576b\"], [0.6666666666666666, \"#ed7953\"], [0.7777777777777778, \"#fb9f3a\"], [0.8888888888888888, \"#fdca26\"], [1.0, \"#f0f921\"]], \"sequentialminus\": [[0.0, \"#0d0887\"], [0.1111111111111111, \"#46039f\"], [0.2222222222222222, \"#7201a8\"], [0.3333333333333333, \"#9c179e\"], [0.4444444444444444, \"#bd3786\"], [0.5555555555555556, \"#d8576b\"], [0.6666666666666666, \"#ed7953\"], [0.7777777777777778, \"#fb9f3a\"], [0.8888888888888888, \"#fdca26\"], [1.0, \"#f0f921\"]]}, \"colorway\": [\"#636efa\", \"#EF553B\", \"#00cc96\", \"#ab63fa\", \"#FFA15A\", \"#19d3f3\", \"#FF6692\", \"#B6E880\", \"#FF97FF\", \"#FECB52\"], \"font\": {\"color\": \"#2a3f5f\"}, \"geo\": {\"bgcolor\": \"white\", \"lakecolor\": \"white\", \"landcolor\": \"#E5ECF6\", \"showlakes\": true, \"showland\": true, \"subunitcolor\": \"white\"}, \"hoverlabel\": {\"align\": \"left\"}, \"hovermode\": \"closest\", \"mapbox\": {\"style\": \"light\"}, \"paper_bgcolor\": \"white\", \"plot_bgcolor\": \"#E5ECF6\", \"polar\": {\"angularaxis\": {\"gridcolor\": \"white\", \"linecolor\": \"white\", \"ticks\": \"\"}, \"bgcolor\": \"#E5ECF6\", \"radialaxis\": {\"gridcolor\": \"white\", \"linecolor\": \"white\", \"ticks\": \"\"}}, \"scene\": {\"xaxis\": {\"backgroundcolor\": \"#E5ECF6\", \"gridcolor\": \"white\", \"gridwidth\": 2, \"linecolor\": \"white\", \"showbackground\": true, \"ticks\": \"\", \"zerolinecolor\": \"white\"}, \"yaxis\": {\"backgroundcolor\": \"#E5ECF6\", \"gridcolor\": \"white\", \"gridwidth\": 2, \"linecolor\": \"white\", \"showbackground\": true, \"ticks\": \"\", \"zerolinecolor\": \"white\"}, \"zaxis\": {\"backgroundcolor\": \"#E5ECF6\", \"gridcolor\": \"white\", \"gridwidth\": 2, \"linecolor\": \"white\", \"showbackground\": true, \"ticks\": \"\", \"zerolinecolor\": \"white\"}}, \"shapedefaults\": {\"line\": {\"color\": \"#2a3f5f\"}}, \"ternary\": {\"aaxis\": {\"gridcolor\": \"white\", \"linecolor\": \"white\", \"ticks\": \"\"}, \"baxis\": {\"gridcolor\": \"white\", \"linecolor\": \"white\", \"ticks\": \"\"}, \"bgcolor\": \"#E5ECF6\", \"caxis\": {\"gridcolor\": \"white\", \"linecolor\": \"white\", \"ticks\": \"\"}}, \"title\": {\"x\": 0.05}, \"xaxis\": {\"automargin\": true, \"gridcolor\": \"white\", \"linecolor\": \"white\", \"ticks\": \"\", \"title\": {\"standoff\": 15}, \"zerolinecolor\": \"white\", \"zerolinewidth\": 2}, \"yaxis\": {\"automargin\": true, \"gridcolor\": \"white\", \"linecolor\": \"white\", \"ticks\": \"\", \"title\": {\"standoff\": 15}, \"zerolinecolor\": \"white\", \"zerolinewidth\": 2}}}, \"title\": {\"text\": \"['miami', 'madrid', 'paris', 'tel aviv', 'miami']\"}},\n",
       "                        {\"responsive\": true}\n",
       "                    ).then(function(){\n",
       "                            \n",
       "var gd = document.getElementById('39e293d5-78ca-4cd0-9ce7-b441e453ee98');\n",
       "var x = new MutationObserver(function (mutations, observer) {{\n",
       "        var display = window.getComputedStyle(gd).display;\n",
       "        if (!display || display === 'none') {{\n",
       "            console.log([gd, 'removed!']);\n",
       "            Plotly.purge(gd);\n",
       "            observer.disconnect();\n",
       "        }}\n",
       "}});\n",
       "\n",
       "// Listen for the removal of the full notebook cells\n",
       "var notebookContainer = gd.closest('#notebook-container');\n",
       "if (notebookContainer) {{\n",
       "    x.observe(notebookContainer, {childList: true});\n",
       "}}\n",
       "\n",
       "// Listen for the clearing of the current output cell\n",
       "var outputEl = gd.closest('.output');\n",
       "if (outputEl) {{\n",
       "    x.observe(outputEl, {childList: true});\n",
       "}}\n",
       "\n",
       "                        })\n",
       "                };\n",
       "                });\n",
       "            </script>\n",
       "        </div>"
      ]
     },
     "metadata": {},
     "output_type": "display_data"
    }
   ],
   "source": [
    "fig = go.Figure(data=go.Scattergeo(\n",
    "    lat = [lat0, lat1, lat2,lat3,lat0],\n",
    "    lon = [long0, long1,long2,long3,long0],\n",
    "    mode = 'lines',\n",
    "    line = dict(width = 2, color = 'green'),\n",
    "))\n",
    "\n",
    "fig.update_layout(\n",
    "    title_text = str(destinations_list[0]),\n",
    "    showlegend = True,\n",
    "    geo = dict(\n",
    "        resolution = 110,\n",
    "        showland = True,\n",
    "        showlakes = True,\n",
    "        landcolor = 'rgb(204, 204, 204)',\n",
    "        countrycolor = 'blue',\n",
    "        lakecolor = 'rgb(255, 255, 255)',\n",
    "        projection_type = \"equirectangular\",\n",
    "        coastlinewidth = 2,\n",
    "        lataxis = dict(\n",
    "            range = [20, 60],\n",
    "            showgrid = False,\n",
    "            dtick = 10\n",
    "        ),\n",
    "        lonaxis = dict(\n",
    "            range = [-100, 20],\n",
    "            showgrid = True,\n",
    "            dtick = 20\n",
    "        ),\n",
    "    )\n",
    ")\n",
    "\n",
    "fig.show()"
   ]
  },
  {
   "cell_type": "code",
   "execution_count": 175,
   "metadata": {},
   "outputs": [
    {
     "data": {
      "image/png": "[encoded data removed]",
      "text/plain": [
       "<Figure size 640x480 with 1 Axes>"
      ]
     },
     "metadata": {},
     "output_type": "display_data"
    }
   ],
   "source": [
    "df_fullnew.loc[:,['price','Starting_Point','First_Stop','Second_Stop','Third_Stop','End_Point']]\n",
    "\n",
    "import matplotlib.pyplot as plt; plt.rcdefaults()\n",
    "import numpy as np\n",
    "import matplotlib.pyplot as plt\n",
    "\n",
    "objects = ('Miami-Madrid-TelAviv-NYC-Miami', 'Miami-TelAviv-Madrid-NYC-Miami', 'Miami-NYC-TelAviv-Madrid-Miami', 'Miami-NYC-Madrid-TelAviv-Miami', 'Miami-TelAviv-NYC-Madrid-Miami','Miami-Madrid-NYC-TelAviv-Miami')\n",
    "y_pos = np.arange(len(objects))\n",
    "performance = [1026,1074,1232,1417,1623,1671]\n",
    "\n",
    "plt.barh(y_pos, performance, align='center', alpha=0.5)\n",
    "plt.yticks(y_pos, objects)\n",
    "plt.xlabel('Price')\n",
    "plt.title('Itinerary')\n",
    "\n",
    "plt.show()"
   ]
  },
  {
   "cell_type": "code",
   "execution_count": 176,
   "metadata": {},
   "outputs": [],
   "source": [
    "from geopy.distance import great_circle \n",
    "# Loading the lat-long data for Itineraries \n",
    "Miami = (25.7742658, -80.1936589)\n",
    "Madrid = (40.4167047, -3.7035825)\n",
    "NYC = (40.7127281, -74.0060152)\n",
    "TelAviv = (32.0804808, 34.7805274)\n",
    "\n",
    "  \n",
    "# Print the distance calculated in km \n",
    "miles_1 = (great_circle(Miami,Madrid,NYC,TelAviv,Miami).miles)\n",
    "miles_2 = (great_circle(Miami,TelAviv,NYC,Madrid,Miami).miles)\n",
    "miles_3 = (great_circle(Miami,NYC,Madrid,TelAviv,Miami).miles)\n",
    "miles_4 = (great_circle(Miami,NYC,TelAviv,Madrid,Miami).miles)\n",
    "miles_5 = (great_circle(Miami,TelAviv,Madrid,NYC,Miami).miles)\n",
    "miles_6 = (great_circle(Miami,Madrid,TelAviv,NYC,Miami).miles)\n",
    "\n",
    "\n"
   ]
  },
  {
   "cell_type": "code",
   "execution_count": 177,
   "metadata": {},
   "outputs": [
    {
     "name": "stdout",
     "output_type": "stream",
     "text": [
      "Miami,Madrid,NYC,TelAviv,Miami is 1671$ and the total miles of this trip are 20233.666704376206\n",
      "Miami,TelAviv,NYC,Madrid,Miami is 1623$ and the total miles of this trip are 20233.666704376203\n",
      "Miami,NYC,Madrid,TelAviv,Miami is 1417$ and the total miles of this trip are 13457.189065208026\n",
      "Miami,NYC,TelAviv,Madrid,Miami is 1232$ and the total miles of this trip are 13362.701267468809\n",
      "Miami,TelAviv,Madrid,NYC,Miami is 1074$ and the total miles of this trip are 13457.189065208026\n",
      "Miami,Madrid,TelAviv,NYC,Miami is 1026$ and the total miles of this trip are 13362.701267468809\n",
      "------------------------\n",
      "In this scenario, there is a direct correlation between miles traveled and the price of the travel itinerary\n"
     ]
    }
   ],
   "source": [
    "#Conclusions:\n",
    "print('Miami,Madrid,NYC,TelAviv,Miami is 1671$ and the total miles of this trip are', miles_1)\n",
    "print('Miami,TelAviv,NYC,Madrid,Miami is 1623$ and the total miles of this trip are', miles_2)\n",
    "print('Miami,NYC,Madrid,TelAviv,Miami is 1417$ and the total miles of this trip are', miles_3)\n",
    "print('Miami,NYC,TelAviv,Madrid,Miami is 1232$ and the total miles of this trip are', miles_4)\n",
    "print('Miami,TelAviv,Madrid,NYC,Miami is 1074$ and the total miles of this trip are', miles_5)\n",
    "print('Miami,Madrid,TelAviv,NYC,Miami is 1026$ and the total miles of this trip are', miles_6)\n",
    "print('------------------------')\n",
    "print('In this scenario, there is a direct correlation between miles traveled and the price of the travel itinerary')\n"
   ]
  },
  {
   "cell_type": "code",
   "execution_count": null,
   "metadata": {},
   "outputs": [],
   "source": []
  },
  {
   "cell_type": "code",
   "execution_count": null,
   "metadata": {},
   "outputs": [],
   "source": []
  }
 ],
 "metadata": {
  "kernelspec": {
   "display_name": "Python 3",
   "language": "python",
   "name": "python3"
  },
  "language_info": {
   "codemirror_mode": {
    "name": "ipython",
    "version": 3
   },
   "file_extension": ".py",
   "mimetype": "text/x-python",
   "name": "python",
   "nbconvert_exporter": "python",
   "pygments_lexer": "ipython3",
   "version": "3.7.4"
  }
 },
 "nbformat": 4,
 "nbformat_minor": 2
}
